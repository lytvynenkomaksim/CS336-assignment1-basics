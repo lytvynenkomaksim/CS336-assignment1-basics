{
 "cells": [
  {
   "metadata": {
    "ExecuteTime": {
     "end_time": "2025-08-05T19:36:45.350260Z",
     "start_time": "2025-08-05T19:36:45.344058Z"
    }
   },
   "cell_type": "code",
   "source": "import regex as re",
   "id": "23f09f82febd8f11",
   "outputs": [],
   "execution_count": 1
  },
  {
   "metadata": {
    "collapsed": true,
    "ExecuteTime": {
     "end_time": "2025-08-03T19:40:14.561317Z",
     "start_time": "2025-08-03T19:40:14.558218Z"
    }
   },
   "cell_type": "code",
   "outputs": [
    {
     "data": {
      "text/plain": [
       "'\\x00'"
      ]
     },
     "execution_count": 4,
     "metadata": {},
     "output_type": "execute_result"
    }
   ],
   "execution_count": 4,
   "source": "chr(0)",
   "id": "initial_id"
  },
  {
   "metadata": {
    "ExecuteTime": {
     "end_time": "2025-08-03T19:39:49.513080Z",
     "start_time": "2025-08-03T19:39:49.510017Z"
    }
   },
   "cell_type": "code",
   "outputs": [
    {
     "data": {
      "text/plain": [
       "0"
      ]
     },
     "execution_count": 2,
     "metadata": {},
     "output_type": "execute_result"
    }
   ],
   "execution_count": 2,
   "source": "ord('\\x00')",
   "id": "6270be52656a6cca"
  },
  {
   "metadata": {
    "ExecuteTime": {
     "end_time": "2025-08-03T19:40:19.490383Z",
     "start_time": "2025-08-03T19:40:19.487623Z"
    }
   },
   "cell_type": "code",
   "outputs": [
    {
     "name": "stdout",
     "output_type": "stream",
     "text": [
      "0\n"
     ]
    }
   ],
   "execution_count": 5,
   "source": "print(0)",
   "id": "effa91428c12e7f4"
  },
  {
   "metadata": {
    "ExecuteTime": {
     "end_time": "2025-08-03T19:40:25.514449Z",
     "start_time": "2025-08-03T19:40:25.511569Z"
    }
   },
   "cell_type": "code",
   "outputs": [
    {
     "name": "stdout",
     "output_type": "stream",
     "text": [
      "\u0000\n"
     ]
    }
   ],
   "execution_count": 6,
   "source": "print(chr(0))",
   "id": "d1b0d2ce34b90100"
  },
  {
   "metadata": {
    "ExecuteTime": {
     "end_time": "2025-08-03T19:41:16.861834Z",
     "start_time": "2025-08-03T19:41:16.859076Z"
    }
   },
   "cell_type": "code",
   "source": "'test' + chr(0) + 'test'",
   "id": "d842b3aaa5819391",
   "outputs": [
    {
     "data": {
      "text/plain": [
       "'test\\x00test'"
      ]
     },
     "execution_count": 7,
     "metadata": {},
     "output_type": "execute_result"
    }
   ],
   "execution_count": 7
  },
  {
   "metadata": {
    "ExecuteTime": {
     "end_time": "2025-08-03T19:41:23.277104Z",
     "start_time": "2025-08-03T19:41:23.274869Z"
    }
   },
   "cell_type": "code",
   "source": "print('test' + chr(0) + 'test')",
   "id": "6ca808ed9abead26",
   "outputs": [
    {
     "name": "stdout",
     "output_type": "stream",
     "text": [
      "test\u0000test\n"
     ]
    }
   ],
   "execution_count": 8
  },
  {
   "metadata": {
    "ExecuteTime": {
     "end_time": "2025-08-03T19:42:52.805705Z",
     "start_time": "2025-08-03T19:42:52.803915Z"
    }
   },
   "cell_type": "code",
   "source": "test_string = \"hello! こんにちは!\"",
   "id": "27731b5d2a3f5c5a",
   "outputs": [],
   "execution_count": 9
  },
  {
   "metadata": {
    "ExecuteTime": {
     "end_time": "2025-08-03T19:43:08.357393Z",
     "start_time": "2025-08-03T19:43:08.355618Z"
    }
   },
   "cell_type": "code",
   "source": "utf8_encoded = test_string.encode('utf-8')",
   "id": "11410bda7a4049",
   "outputs": [],
   "execution_count": 10
  },
  {
   "metadata": {
    "ExecuteTime": {
     "end_time": "2025-08-03T19:43:14.149526Z",
     "start_time": "2025-08-03T19:43:14.147196Z"
    }
   },
   "cell_type": "code",
   "source": "print(utf8_encoded)",
   "id": "48361c67dbc3c440",
   "outputs": [
    {
     "name": "stdout",
     "output_type": "stream",
     "text": [
      "b'hello! \\xe3\\x81\\x93\\xe3\\x82\\x93\\xe3\\x81\\xab\\xe3\\x81\\xa1\\xe3\\x81\\xaf!'\n"
     ]
    }
   ],
   "execution_count": 11
  },
  {
   "metadata": {
    "ExecuteTime": {
     "end_time": "2025-08-03T19:43:31.023091Z",
     "start_time": "2025-08-03T19:43:31.021230Z"
    }
   },
   "cell_type": "code",
   "source": "print(type(utf8_encoded))",
   "id": "bd51b9a11fe758d7",
   "outputs": [
    {
     "name": "stdout",
     "output_type": "stream",
     "text": [
      "<class 'bytes'>\n"
     ]
    }
   ],
   "execution_count": 12
  },
  {
   "metadata": {
    "ExecuteTime": {
     "end_time": "2025-08-03T19:43:51.438511Z",
     "start_time": "2025-08-03T19:43:51.436985Z"
    }
   },
   "cell_type": "code",
   "source": "print(list(utf8_encoded))",
   "id": "ebec6ac07608209b",
   "outputs": [
    {
     "name": "stdout",
     "output_type": "stream",
     "text": [
      "[104, 101, 108, 108, 111, 33, 32, 227, 129, 147, 227, 130, 147, 227, 129, 171, 227, 129, 161, 227, 129, 175, 33]\n"
     ]
    }
   ],
   "execution_count": 14
  },
  {
   "metadata": {
    "ExecuteTime": {
     "end_time": "2025-08-03T19:44:26.431883Z",
     "start_time": "2025-08-03T19:44:26.430053Z"
    }
   },
   "cell_type": "code",
   "source": "print(utf8_encoded.decode('utf-8'))",
   "id": "8315b601da20bd22",
   "outputs": [
    {
     "name": "stdout",
     "output_type": "stream",
     "text": [
      "hello! こんにちは!\n"
     ]
    }
   ],
   "execution_count": 15
  },
  {
   "metadata": {
    "ExecuteTime": {
     "end_time": "2025-08-03T19:47:23.175862Z",
     "start_time": "2025-08-03T19:47:23.174048Z"
    }
   },
   "cell_type": "code",
   "source": "test_string.encode()[0]",
   "id": "fa06456d976cb7a2",
   "outputs": [
    {
     "data": {
      "text/plain": [
       "104"
      ]
     },
     "execution_count": 21,
     "metadata": {},
     "output_type": "execute_result"
    }
   ],
   "execution_count": 21
  },
  {
   "metadata": {
    "ExecuteTime": {
     "end_time": "2025-08-03T19:46:54.095299Z",
     "start_time": "2025-08-03T19:46:54.092130Z"
    }
   },
   "cell_type": "code",
   "source": "chr(test_string.encode()[0])",
   "id": "cb1e784c15db1dec",
   "outputs": [
    {
     "data": {
      "text/plain": [
       "'h'"
      ]
     },
     "execution_count": 19,
     "metadata": {},
     "output_type": "execute_result"
    }
   ],
   "execution_count": 19
  },
  {
   "metadata": {
    "ExecuteTime": {
     "end_time": "2025-08-03T19:49:20.529547Z",
     "start_time": "2025-08-03T19:49:20.527345Z"
    }
   },
   "cell_type": "code",
   "source": [
    "def decode_utf8_bytes_to_str_wrong(bytestring: bytes):\n",
    "    return \"\".join([bytes([b]).decode(\"utf-8\") for b in bytestring])"
   ],
   "id": "3f66d8af36eeb719",
   "outputs": [],
   "execution_count": 22
  },
  {
   "metadata": {
    "ExecuteTime": {
     "end_time": "2025-08-03T19:49:28.579046Z",
     "start_time": "2025-08-03T19:49:28.576538Z"
    }
   },
   "cell_type": "code",
   "source": "decode_utf8_bytes_to_str_wrong(\"hello\".encode(\"utf-8\"))",
   "id": "4f949c7634d68fe2",
   "outputs": [
    {
     "data": {
      "text/plain": [
       "'hello'"
      ]
     },
     "execution_count": 23,
     "metadata": {},
     "output_type": "execute_result"
    }
   ],
   "execution_count": 23
  },
  {
   "metadata": {
    "ExecuteTime": {
     "end_time": "2025-08-03T19:49:36.575320Z",
     "start_time": "2025-08-03T19:49:36.572208Z"
    }
   },
   "cell_type": "code",
   "source": "decode_utf8_bytes_to_str_wrong(\"hello0123hello\".encode(\"utf-8\"))",
   "id": "fde5d8df706e06b5",
   "outputs": [
    {
     "data": {
      "text/plain": [
       "'hello0123hello'"
      ]
     },
     "execution_count": 24,
     "metadata": {},
     "output_type": "execute_result"
    }
   ],
   "execution_count": 24
  },
  {
   "metadata": {
    "ExecuteTime": {
     "end_time": "2025-08-03T19:57:20.582665Z",
     "start_time": "2025-08-03T19:57:20.580578Z"
    }
   },
   "cell_type": "code",
   "source": "test_multiple_bytes_per_char = \"こんにちは!\".encode(\"utf-8\")",
   "id": "7c7fbed493cd9d72",
   "outputs": [],
   "execution_count": 33
  },
  {
   "metadata": {
    "ExecuteTime": {
     "end_time": "2025-08-03T20:03:47.652993Z",
     "start_time": "2025-08-03T20:03:47.651203Z"
    }
   },
   "cell_type": "code",
   "source": "list(test_multiple_bytes_per_char)",
   "id": "672ec473d4195315",
   "outputs": [
    {
     "data": {
      "text/plain": [
       "[227, 129, 147, 227, 130, 147, 227, 129, 171, 227, 129, 161, 227, 129, 175, 33]"
      ]
     },
     "execution_count": 39,
     "metadata": {},
     "output_type": "execute_result"
    }
   ],
   "execution_count": 39
  },
  {
   "metadata": {
    "ExecuteTime": {
     "end_time": "2025-08-03T19:57:44.333631Z",
     "start_time": "2025-08-03T19:57:44.330555Z"
    }
   },
   "cell_type": "code",
   "source": "len(test_multiple_bytes_per_char)",
   "id": "9b133f6934ee85db",
   "outputs": [
    {
     "data": {
      "text/plain": [
       "16"
      ]
     },
     "execution_count": 35,
     "metadata": {},
     "output_type": "execute_result"
    }
   ],
   "execution_count": 35
  },
  {
   "metadata": {
    "ExecuteTime": {
     "end_time": "2025-08-03T19:57:55.091284Z",
     "start_time": "2025-08-03T19:57:55.087665Z"
    }
   },
   "cell_type": "code",
   "source": "len(\"こんにちは!\")",
   "id": "7f457ad4976d79c1",
   "outputs": [
    {
     "data": {
      "text/plain": [
       "6"
      ]
     },
     "execution_count": 36,
     "metadata": {},
     "output_type": "execute_result"
    }
   ],
   "execution_count": 36
  },
  {
   "metadata": {
    "ExecuteTime": {
     "end_time": "2025-08-03T19:57:32.463865Z",
     "start_time": "2025-08-03T19:57:32.460722Z"
    }
   },
   "cell_type": "code",
   "source": "test_multiple_bytes_per_char.decode(\"utf-8\")",
   "id": "b54db0b275f9a4ca",
   "outputs": [
    {
     "data": {
      "text/plain": [
       "'こんにちは!'"
      ]
     },
     "execution_count": 34,
     "metadata": {},
     "output_type": "execute_result"
    }
   ],
   "execution_count": 34
  },
  {
   "metadata": {
    "ExecuteTime": {
     "end_time": "2025-08-03T19:51:49.145902Z",
     "start_time": "2025-08-03T19:51:49.126837Z"
    }
   },
   "cell_type": "code",
   "source": "decode_utf8_bytes_to_str_wrong(\"こんにちは!\".encode(\"utf-8\"))",
   "id": "44ef319c5cb2382f",
   "outputs": [
    {
     "ename": "UnicodeDecodeError",
     "evalue": "'utf-8' codec can't decode byte 0xe3 in position 0: unexpected end of data",
     "output_type": "error",
     "traceback": [
      "\u001B[31m---------------------------------------------------------------------------\u001B[39m",
      "\u001B[31mUnicodeDecodeError\u001B[39m                        Traceback (most recent call last)",
      "\u001B[36mCell\u001B[39m\u001B[36m \u001B[39m\u001B[32mIn[28]\u001B[39m\u001B[32m, line 1\u001B[39m\n\u001B[32m----> \u001B[39m\u001B[32m1\u001B[39m \u001B[43mdecode_utf8_bytes_to_str_wrong\u001B[49m\u001B[43m(\u001B[49m\u001B[33;43m\"\u001B[39;49m\u001B[33;43mこんにちは!\u001B[39;49m\u001B[33;43m\"\u001B[39;49m\u001B[43m.\u001B[49m\u001B[43mencode\u001B[49m\u001B[43m(\u001B[49m\u001B[33;43m\"\u001B[39;49m\u001B[33;43mutf-8\u001B[39;49m\u001B[33;43m\"\u001B[39;49m\u001B[43m)\u001B[49m\u001B[43m)\u001B[49m\n",
      "\u001B[36mCell\u001B[39m\u001B[36m \u001B[39m\u001B[32mIn[22]\u001B[39m\u001B[32m, line 2\u001B[39m, in \u001B[36mdecode_utf8_bytes_to_str_wrong\u001B[39m\u001B[34m(bytestring)\u001B[39m\n\u001B[32m      1\u001B[39m \u001B[38;5;28;01mdef\u001B[39;00m\u001B[38;5;250m \u001B[39m\u001B[34mdecode_utf8_bytes_to_str_wrong\u001B[39m(bytestring: \u001B[38;5;28mbytes\u001B[39m):\n\u001B[32m----> \u001B[39m\u001B[32m2\u001B[39m     \u001B[38;5;28;01mreturn\u001B[39;00m \u001B[33m\"\u001B[39m\u001B[33m\"\u001B[39m.join([\u001B[38;5;28;43mbytes\u001B[39;49m\u001B[43m(\u001B[49m\u001B[43m[\u001B[49m\u001B[43mb\u001B[49m\u001B[43m]\u001B[49m\u001B[43m)\u001B[49m\u001B[43m.\u001B[49m\u001B[43mdecode\u001B[49m\u001B[43m(\u001B[49m\u001B[33;43m\"\u001B[39;49m\u001B[33;43mutf-8\u001B[39;49m\u001B[33;43m\"\u001B[39;49m\u001B[43m)\u001B[49m \u001B[38;5;28;01mfor\u001B[39;00m b \u001B[38;5;129;01min\u001B[39;00m bytestring])\n",
      "\u001B[31mUnicodeDecodeError\u001B[39m: 'utf-8' codec can't decode byte 0xe3 in position 0: unexpected end of data"
     ]
    }
   ],
   "execution_count": 28
  },
  {
   "metadata": {
    "ExecuteTime": {
     "end_time": "2025-08-05T19:37:08.626505Z",
     "start_time": "2025-08-05T19:37:08.625108Z"
    }
   },
   "cell_type": "code",
   "source": [
    "# regex to pre-tokenize text\n",
    "PAT = r\"\"\"'(?:[sdmt]|ll|ve|re)| ?\\p{L}+| ?\\p{N}+| ?[^\\s\\p{L}\\p{N}]+|\\s+(?!\\S)|\\s+\"\"\""
   ],
   "id": "a3f98288648e37f",
   "outputs": [],
   "execution_count": 3
  },
  {
   "metadata": {
    "ExecuteTime": {
     "end_time": "2025-08-05T19:37:09.229285Z",
     "start_time": "2025-08-05T19:37:09.224155Z"
    }
   },
   "cell_type": "code",
   "source": "re.findall(PAT, \"hello! こんにちは! 1234 test's\")",
   "id": "e0013373e42a6093",
   "outputs": [
    {
     "data": {
      "text/plain": [
       "['hello', '!', ' こんにちは', '!', ' 1234', ' test', \"'s\"]"
      ]
     },
     "execution_count": 4,
     "metadata": {},
     "output_type": "execute_result"
    }
   ],
   "execution_count": 4
  },
  {
   "metadata": {
    "ExecuteTime": {
     "end_time": "2025-08-06T20:41:35.971571Z",
     "start_time": "2025-08-06T20:41:35.968163Z"
    }
   },
   "cell_type": "code",
   "source": "re.findall(PAT, \"<|endoftext|>\")",
   "id": "cfa7b29a51d4e86a",
   "outputs": [
    {
     "data": {
      "text/plain": [
       "['<|', 'endoftext', '|>']"
      ]
     },
     "execution_count": 20,
     "metadata": {},
     "output_type": "execute_result"
    }
   ],
   "execution_count": 20
  },
  {
   "metadata": {
    "ExecuteTime": {
     "end_time": "2025-08-05T19:43:40.391749Z",
     "start_time": "2025-08-05T19:43:40.389681Z"
    }
   },
   "cell_type": "code",
   "source": "test = re.finditer(PAT, \"hello! こんにちは! 1234 test's\")",
   "id": "6c0b01ffe655f0e6",
   "outputs": [],
   "execution_count": 13
  },
  {
   "metadata": {
    "ExecuteTime": {
     "end_time": "2025-08-05T19:43:40.753662Z",
     "start_time": "2025-08-05T19:43:40.751086Z"
    }
   },
   "cell_type": "code",
   "source": [
    "for t in test:\n",
    "    # print(t)\n",
    "    print(t.group())"
   ],
   "id": "b6dfc0d01e7f5108",
   "outputs": [
    {
     "name": "stdout",
     "output_type": "stream",
     "text": [
      "hello\n",
      "!\n",
      " こんにちは\n",
      "!\n",
      " 1234\n",
      " test\n",
      "'s\n"
     ]
    }
   ],
   "execution_count": 14
  },
  {
   "metadata": {},
   "cell_type": "code",
   "outputs": [],
   "execution_count": null,
   "source": "",
   "id": "ee16e2d6630c2bfd"
  },
  {
   "metadata": {
    "ExecuteTime": {
     "end_time": "2025-08-03T20:05:10.090021Z",
     "start_time": "2025-08-03T20:05:10.087711Z"
    }
   },
   "cell_type": "code",
   "source": "max([(\"A\", \"B\"), (\"A\", \"C\"), (\"B\", \"ZZ\"), (\"BA\", \"A\")])",
   "id": "d66e5948cf9cbca3",
   "outputs": [
    {
     "data": {
      "text/plain": [
       "('BA', 'A')"
      ]
     },
     "execution_count": 40,
     "metadata": {},
     "output_type": "execute_result"
    }
   ],
   "execution_count": 40
  },
  {
   "metadata": {
    "ExecuteTime": {
     "end_time": "2025-08-06T14:39:51.886714Z",
     "start_time": "2025-08-06T14:39:51.883689Z"
    }
   },
   "cell_type": "code",
   "source": "b\"<|endoftext|>\"",
   "id": "6124bb24216b1df",
   "outputs": [
    {
     "data": {
      "text/plain": [
       "b'<|endoftext|>'"
      ]
     },
     "execution_count": 15,
     "metadata": {},
     "output_type": "execute_result"
    }
   ],
   "execution_count": 15
  },
  {
   "metadata": {
    "ExecuteTime": {
     "end_time": "2025-08-06T14:40:09.067015Z",
     "start_time": "2025-08-06T14:40:09.065041Z"
    }
   },
   "cell_type": "code",
   "source": "'<|endoftext|>'.encode()",
   "id": "d0292275a2b5d174",
   "outputs": [
    {
     "data": {
      "text/plain": [
       "b'<|endoftext|>'"
      ]
     },
     "execution_count": 16,
     "metadata": {},
     "output_type": "execute_result"
    }
   ],
   "execution_count": 16
  },
  {
   "metadata": {
    "ExecuteTime": {
     "end_time": "2025-08-06T15:19:09.594665Z",
     "start_time": "2025-08-06T15:19:09.592320Z"
    }
   },
   "cell_type": "code",
   "source": [
    "a = [0, 21617, 44228, 65990, 112162, 133404, 154501, 173416, 195049, 214745, 235474, 259537, 284470, 303341, 323275, 348727, 365262, 391375, 407618, 448003, 449080, 471094, 492754, 516179, 534993, 557151, 578551, 634115, 641463, 667851, 683599]\n",
    "b = [0, 21617, 44228, 65990, 112162, 133404, 154501, 173416, 195049, 214745, 235474, 259537, 284470, 303341, 323275, 348727, 365262, 391375, 407618, 448003, 449080, 471094, 492754, 516179, 534993, 557151, 578551, 634115, 641463, 667851, 683599]"
   ],
   "id": "435c5b2a64109797",
   "outputs": [],
   "execution_count": 18
  },
  {
   "metadata": {
    "ExecuteTime": {
     "end_time": "2025-08-06T15:19:12.586754Z",
     "start_time": "2025-08-06T15:19:12.584198Z"
    }
   },
   "cell_type": "code",
   "source": "a ==b",
   "id": "504238564ff71572",
   "outputs": [
    {
     "data": {
      "text/plain": [
       "True"
      ]
     },
     "execution_count": 19,
     "metadata": {},
     "output_type": "execute_result"
    }
   ],
   "execution_count": 19
  },
  {
   "metadata": {},
   "cell_type": "code",
   "outputs": [],
   "execution_count": null,
   "source": "",
   "id": "3a93644ad5af4559"
  },
  {
   "metadata": {
    "ExecuteTime": {
     "end_time": "2025-08-07T16:50:58.302654Z",
     "start_time": "2025-08-07T16:50:58.299410Z"
    }
   },
   "cell_type": "code",
   "source": [
    "a = [0, 21617, 44228, 65990, 112162, 133404, 154501, 173416, 195049, 214745, 235474, 259537, 284470, 303341, 323275, 348727, 365262, 391375, 407618, 448003]\n",
    "n = 4\n",
    "\n",
    "l = int(len(a) / n)+ 1\n",
    "print(len(a))\n",
    "print(l)\n",
    "print(len(a) / n)\n",
    "\n",
    "\n",
    "t = [a[i:i + l] for i in range(0, len(a), l)]\n",
    "\n",
    "print(t)\n",
    "\n"
   ],
   "id": "b060ba57242507fd",
   "outputs": [
    {
     "name": "stdout",
     "output_type": "stream",
     "text": [
      "20\n",
      "6\n",
      "5.0\n",
      "[[0, 21617, 44228, 65990, 112162, 133404], [154501, 173416, 195049, 214745, 235474, 259537], [284470, 303341, 323275, 348727, 365262, 391375], [407618, 448003]]\n"
     ]
    }
   ],
   "execution_count": 9
  },
  {
   "metadata": {},
   "cell_type": "code",
   "outputs": [],
   "execution_count": null,
   "source": "",
   "id": "465606e8233c0494"
  },
  {
   "metadata": {},
   "cell_type": "code",
   "outputs": [],
   "execution_count": null,
   "source": "",
   "id": "27ea08d02b37421b"
  },
  {
   "metadata": {},
   "cell_type": "code",
   "outputs": [],
   "execution_count": null,
   "source": "",
   "id": "a14055ce3205cc46"
  },
  {
   "metadata": {
    "ExecuteTime": {
     "end_time": "2025-08-08T17:41:29.125044Z",
     "start_time": "2025-08-08T17:41:29.101751Z"
    }
   },
   "cell_type": "code",
   "source": [
    "a = (0, 1, 2, 3, 4, 5, 3, 4, 7, 3, 4, 9, 3, 1, 4, 2, 5, 4, 3, 4, 3)\n",
    "b = (3, 4)\n",
    "\n",
    "byte_1 = b[0]\n",
    "byte_2 = b[1]\n",
    "new_token_id = -99\n",
    "temp_word = [] # this contains a sequence of bytes\n",
    "print(a)\n",
    "print(b)\n",
    "merges = 0\n",
    "end_of_word = False\n",
    "try:\n",
    "    while True:\n",
    "        byte_1_index = a.index(byte_1, len(temp_word)+merges)\n",
    "        print('byte_1_index:', byte_1_index)\n",
    "        c += 1\n",
    "        if a[byte_1_index + 1] == byte_2:\n",
    "            print('byte_1_index + 1 is byte_2', byte_2)\n",
    "            print('copy a[len(temp_word)+merges:byte_1_index] to temp_word')\n",
    "            print(a[len(temp_word)+merges:byte_1_index])\n",
    "\n",
    "            temp_word += list(a[len(temp_word)+merges:byte_1_index]) # copy all bytes before byte_1\n",
    "            print(f'temp_word: {temp_word}')\n",
    "            temp_word.append(new_token_id) # append new token id - a token for merged bytes\n",
    "            print('append new token id')\n",
    "            print(f'temp_word: {temp_word}')\n",
    "            merges += 1\n",
    "            print('='*20)\n",
    "            # I need to merge them and update counts. think what counts to update\n",
    "            # be careful because potentialy a best pair can be 10, 20 and the word can be (30, 10, 20, 10, 20, 30)\n",
    "            # so we need to replace all. because of it we shouldn't break and just wait until it ValueError\n",
    "        else:\n",
    "            print('byte_1_index + 1 is NOT byte_2', byte_2)\n",
    "            temp_word += list(a[len(temp_word)+merges:byte_1_index+1]) # copy all bytes before and byte_1\n",
    "\n",
    "        print(f'current temp_word: {temp_word}, len(temp_word): {len(temp_word)}, merges: {merges}')\n",
    "        print(f'len(a): {len(a)}, len(temp_word) + merges: {len(temp_word) + merges}')\n",
    "        if len(temp_word) + merges == len(a):\n",
    "            print('end of word')\n",
    "            end_of_word = True\n",
    "        else:\n",
    "            print('end of word is not reached')\n",
    "            end_of_word = False\n",
    "except ValueError:\n",
    "    print('ValueError - no more find')\n",
    "\n",
    "if end_of_word == False:\n",
    "    temp_word += list(a[len(temp_word)+merges:]) # copy all bytes after byte_1\n",
    "    print(f'temp_word: {temp_word}')\n",
    "\n"
   ],
   "id": "dfb4236316e7f72f",
   "outputs": [
    {
     "name": "stdout",
     "output_type": "stream",
     "text": [
      "(0, 1, 2, 3, 4, 5, 3, 4, 7, 3, 4, 9, 3, 1, 4, 2, 5, 4, 3, 4, 3)\n",
      "(3, 4)\n",
      "byte_1_index: 3\n",
      "byte_1_index + 1 is byte_2 4\n",
      "copy a[len(temp_word)+merges:byte_1_index] to temp_word\n",
      "(0, 1, 2)\n",
      "temp_word: [0, 1, 2]\n",
      "append new token id\n",
      "temp_word: [0, 1, 2, -99]\n",
      "====================\n",
      "current temp_word: [0, 1, 2, -99], len(temp_word): 4, merges: 1\n",
      "len(a): 21, len(temp_word) + merges: 5\n",
      "end of word is not reached\n",
      "byte_1_index: 6\n",
      "byte_1_index + 1 is byte_2 4\n",
      "copy a[len(temp_word)+merges:byte_1_index] to temp_word\n",
      "(5,)\n",
      "temp_word: [0, 1, 2, -99, 5]\n",
      "append new token id\n",
      "temp_word: [0, 1, 2, -99, 5, -99]\n",
      "====================\n",
      "current temp_word: [0, 1, 2, -99, 5, -99], len(temp_word): 6, merges: 2\n",
      "len(a): 21, len(temp_word) + merges: 8\n",
      "end of word is not reached\n",
      "byte_1_index: 9\n",
      "byte_1_index + 1 is byte_2 4\n",
      "copy a[len(temp_word)+merges:byte_1_index] to temp_word\n",
      "(7,)\n",
      "temp_word: [0, 1, 2, -99, 5, -99, 7]\n",
      "append new token id\n",
      "temp_word: [0, 1, 2, -99, 5, -99, 7, -99]\n",
      "====================\n",
      "current temp_word: [0, 1, 2, -99, 5, -99, 7, -99], len(temp_word): 8, merges: 3\n",
      "len(a): 21, len(temp_word) + merges: 11\n",
      "end of word is not reached\n",
      "byte_1_index: 12\n",
      "byte_1_index + 1 is NOT byte_2 4\n",
      "current temp_word: [0, 1, 2, -99, 5, -99, 7, -99, 9, 3], len(temp_word): 10, merges: 3\n",
      "len(a): 21, len(temp_word) + merges: 13\n",
      "end of word is not reached\n",
      "byte_1_index: 18\n",
      "byte_1_index + 1 is byte_2 4\n",
      "copy a[len(temp_word)+merges:byte_1_index] to temp_word\n",
      "(1, 4, 2, 5, 4)\n",
      "temp_word: [0, 1, 2, -99, 5, -99, 7, -99, 9, 3, 1, 4, 2, 5, 4]\n",
      "append new token id\n",
      "temp_word: [0, 1, 2, -99, 5, -99, 7, -99, 9, 3, 1, 4, 2, 5, 4, -99]\n",
      "====================\n",
      "current temp_word: [0, 1, 2, -99, 5, -99, 7, -99, 9, 3, 1, 4, 2, 5, 4, -99], len(temp_word): 16, merges: 4\n",
      "len(a): 21, len(temp_word) + merges: 20\n",
      "end of word is not reached\n",
      "byte_1_index: 20\n"
     ]
    },
    {
     "ename": "IndexError",
     "evalue": "tuple index out of range",
     "output_type": "error",
     "traceback": [
      "\u001B[31m---------------------------------------------------------------------------\u001B[39m",
      "\u001B[31mIndexError\u001B[39m                                Traceback (most recent call last)",
      "\u001B[36mCell\u001B[39m\u001B[36m \u001B[39m\u001B[32mIn[31]\u001B[39m\u001B[32m, line 17\u001B[39m\n\u001B[32m     15\u001B[39m \u001B[38;5;28mprint\u001B[39m(\u001B[33m'\u001B[39m\u001B[33mbyte_1_index:\u001B[39m\u001B[33m'\u001B[39m, byte_1_index)\n\u001B[32m     16\u001B[39m c += \u001B[32m1\u001B[39m\n\u001B[32m---> \u001B[39m\u001B[32m17\u001B[39m \u001B[38;5;28;01mif\u001B[39;00m \u001B[43ma\u001B[49m\u001B[43m[\u001B[49m\u001B[43mbyte_1_index\u001B[49m\u001B[43m \u001B[49m\u001B[43m+\u001B[49m\u001B[43m \u001B[49m\u001B[32;43m1\u001B[39;49m\u001B[43m]\u001B[49m == byte_2:\n\u001B[32m     18\u001B[39m     \u001B[38;5;28mprint\u001B[39m(\u001B[33m'\u001B[39m\u001B[33mbyte_1_index + 1 is byte_2\u001B[39m\u001B[33m'\u001B[39m, byte_2)\n\u001B[32m     19\u001B[39m     \u001B[38;5;28mprint\u001B[39m(\u001B[33m'\u001B[39m\u001B[33mcopy a[len(temp_word)+merges:byte_1_index] to temp_word\u001B[39m\u001B[33m'\u001B[39m)\n",
      "\u001B[31mIndexError\u001B[39m: tuple index out of range"
     ]
    }
   ],
   "execution_count": 31
  },
  {
   "metadata": {
    "ExecuteTime": {
     "end_time": "2025-08-08T18:04:44.048153Z",
     "start_time": "2025-08-08T18:04:44.043123Z"
    }
   },
   "cell_type": "code",
   "source": [
    "t = (1, 2, 3, 4)\n",
    "t[0]"
   ],
   "id": "be4b73a1d29310b8",
   "outputs": [
    {
     "data": {
      "text/plain": [
       "1"
      ]
     },
     "execution_count": 33,
     "metadata": {},
     "output_type": "execute_result"
    }
   ],
   "execution_count": 33
  },
  {
   "metadata": {
    "ExecuteTime": {
     "end_time": "2025-08-08T18:21:12.070336Z",
     "start_time": "2025-08-08T18:21:06.575451Z"
    }
   },
   "cell_type": "code",
   "source": [
    "%%timeit\n",
    "best_pair = (3, 4)\n",
    "# print(len(word))\n",
    "# print(len(word)/21)\n",
    "\n",
    "byte_1, byte_2 = best_pair\n",
    "new_token_id = -99\n",
    "new_word = []\n",
    "current_pos = 1 # starting from the second element because we will search for byte_2 and check word[byte_2_index - 1]\n",
    "# if the first element is actually byte_1, we may need to merge it, so don't append it yet\n",
    "if word[0] != byte_1:\n",
    "    new_word.append(word[0])\n",
    "# print(new_word)\n",
    "while current_pos < len(word):\n",
    "    try:\n",
    "        # Find the next occurrence of byte_2 starting from our current position\n",
    "        next_b2_index = word.index(byte_2, current_pos)\n",
    "\n",
    "        # Check if it's the pair we want to merge\n",
    "        if word[next_b2_index - 1] == byte_1:\n",
    "            # It's a match! Copy everything before the index of byte_1 which is next_b2_index - 1\n",
    "            new_word += list(word[current_pos:next_b2_index - 1])\n",
    "            # Append the new merged token.\n",
    "            new_word.append(new_token_id)\n",
    "            # Update our position to be after the merged pair.\n",
    "            current_pos = next_b2_index + 1\n",
    "        else:\n",
    "            # It's not a match. Copy up to and including this byte_2.\n",
    "            new_word += list(word[current_pos : next_b2_index + 1])\n",
    "            # Update our position to start searching right after it.\n",
    "            current_pos = next_b2_index + 1\n",
    "\n",
    "    except ValueError:\n",
    "        # .index() raised a ValueError, meaning no more byte_2s were found.\n",
    "        # Copy the rest of the word and we're done.\n",
    "        new_word += list(word[current_pos:])\n",
    "        break\n",
    "\n",
    "# print(word)\n",
    "# print(best_pair)\n",
    "# print(new_word)"
   ],
   "id": "33eef67956af7ce4",
   "outputs": [
    {
     "name": "stdout",
     "output_type": "stream",
     "text": [
      "673 μs ± 7.04 μs per loop (mean ± std. dev. of 7 runs, 1,000 loops each)\n"
     ]
    }
   ],
   "execution_count": 56
  },
  {
   "metadata": {
    "ExecuteTime": {
     "end_time": "2025-08-08T18:16:06.342629Z",
     "start_time": "2025-08-08T18:16:06.341239Z"
    }
   },
   "cell_type": "code",
   "source": "a = word",
   "id": "4a2d69a3f59072b8",
   "outputs": [],
   "execution_count": 51
  },
  {
   "metadata": {
    "ExecuteTime": {
     "end_time": "2025-08-08T19:25:54.874073Z",
     "start_time": "2025-08-08T19:25:42.356992Z"
    }
   },
   "cell_type": "code",
   "source": [
    "%%timeit\n",
    "def merge_word_with_index(word: tuple, best_pair: tuple, new_token_id: int) -> tuple:\n",
    "    \"\"\"\n",
    "    Efficiently merges pairs using the .index() method to find candidates.\n",
    "    This follows your proposed algorithm.\n",
    "    \"\"\"\n",
    "    byte_1, byte_2 = best_pair\n",
    "\n",
    "    new_word = []\n",
    "    current_pos = 0 # This is the start of the part of the word we still need to process\n",
    "    old_pairs = []\n",
    "    new_pairs = []\n",
    "    while current_pos < len(word):\n",
    "        try:\n",
    "            # Find the next occurrence of byte_1 starting from our current position\n",
    "            next_b1_index = word.index(byte_1, current_pos)\n",
    "\n",
    "            # Check for the IndexError edge case\n",
    "            if next_b1_index + 1 >= len(word):\n",
    "                # byte_1 is the last element, so it can't be part of a pair.\n",
    "                # Copy the rest of the word and we're done.\n",
    "                new_word.extend(word[current_pos:])\n",
    "                break\n",
    "\n",
    "            # Check if it's the pair we want to merge\n",
    "            if word[next_b1_index + 1] == byte_2:\n",
    "                # It's a match! Copy everything before it.\n",
    "                new_word.extend(word[current_pos:next_b1_index])\n",
    "                # Append the new merged token.\n",
    "                new_word.append(new_token_id)\n",
    "\n",
    "                #update the old and new pairs\n",
    "                old_pairs.append((word[next_b1_index - 1], byte_1)) # add the old pair with byte_1\n",
    "                old_pairs.append((byte_2, word[next_b1_index + 2])) # add the old pair with byte_2\n",
    "                new_pairs.append((word[next_b1_index - 1], new_token_id)) # add the new pair with prev token\n",
    "                new_pairs.append((new_token_id, word[next_b1_index + 2])) # add the new pair with the next token\n",
    "\n",
    "                # Update our position to be after the merged pair.\n",
    "                current_pos = next_b1_index + 2\n",
    "            else:\n",
    "                # It's not a match. Copy up to and including this byte_1.\n",
    "                new_word.extend(word[current_pos : next_b1_index + 1])\n",
    "                # Update our position to start searching right after it.\n",
    "                current_pos = next_b1_index + 1\n",
    "\n",
    "        except ValueError:\n",
    "            # .index() raised a ValueError, meaning no more byte_1s were found.\n",
    "            # Copy the rest of the word and we're done.\n",
    "            new_word.extend(word[current_pos:])\n",
    "            break\n",
    "\n",
    "    return tuple(new_word), set(old_pairs), set(new_pairs)\n",
    "\n",
    "# --- Example Usage ---\n",
    "a = (0, 1, 2, 3, 4, 2, 3, 4, 7, 3, 4, 9, 3, 1, 4, 2, 5, 4, 3, 4, 4)\n",
    "best_pair = (3, 4)\n",
    "new_token_id = -99\n",
    "\n",
    "final_word, old_pairs, new_pairs = merge_word_with_index(a, best_pair, new_token_id)\n",
    "# print(f\"Original word: {a}\")\n",
    "# print(f\"Final merged word: {final_word}\")\n",
    "# Correct Output: (0, 1, 2, -99, 5, -99, 7, -99, 9, 3, 1, 4, 2, 5, 4, -99, 3)"
   ],
   "id": "796a71699042ad16",
   "outputs": [
    {
     "name": "stdout",
     "output_type": "stream",
     "text": [
      "1.54 μs ± 18.3 ns per loop (mean ± std. dev. of 7 runs, 1,000,000 loops each)\n"
     ]
    }
   ],
   "execution_count": 68
  },
  {
   "metadata": {
    "ExecuteTime": {
     "end_time": "2025-08-08T19:30:09.408362Z",
     "start_time": "2025-08-08T19:29:56.936419Z"
    }
   },
   "cell_type": "code",
   "source": [
    "%%timeit\n",
    "def _merge_word_with_index(word: tuple, best_pair: tuple, new_token_id: int) -> tuple:\n",
    "    byte_1, byte_2 = best_pair\n",
    "\n",
    "    new_word = []\n",
    "    old_pairs = []\n",
    "    new_pairs = []\n",
    "\n",
    "    i = 0\n",
    "    while i < len(word):\n",
    "        if i < len(word) - 1 and (word[i], word[i + 1]) == best_pair:\n",
    "            # Found the pair to merge!\n",
    "\n",
    "            # If there's a token before, the pair (prev, byte_1) becomes (prev, new_token_id)\n",
    "            if i > 0:\n",
    "                old_pairs.append((word[i - 1], byte_1))\n",
    "                new_pairs.append((word[i - 1], new_token_id))\n",
    "\n",
    "            # If there's a token after, the pair (byte_2, next) becomes (new_token_id, next)\n",
    "            if i + 2 < len(word):\n",
    "                old_pairs.append((byte_2, word[i + 2]))\n",
    "                new_pairs.append((new_token_id, word[i + 2]))\n",
    "\n",
    "            # Add the merged token\n",
    "            new_word.append(new_token_id)\n",
    "            i += 2  # Skip both bytes of the merged pair\n",
    "        else:\n",
    "            new_word.append(word[i])\n",
    "            i += 1\n",
    "\n",
    "    return tuple(new_word), set(old_pairs), set(new_pairs)\n",
    "# --- Example Usage ---\n",
    "a = (0, 1, 2, 3, 4, 2, 3, 4, 7, 3, 4, 9, 3, 1, 4, 2, 5, 4, 3, 4, 4)\n",
    "best_pair = (3, 4)\n",
    "new_token_id = -99\n",
    "\n",
    "final_word, old_pairs, new_pairs = merge_word_with_index(a, best_pair, new_token_id)"
   ],
   "id": "b7b90a5c1eac7f65",
   "outputs": [
    {
     "name": "stdout",
     "output_type": "stream",
     "text": [
      "1.54 μs ± 12.4 ns per loop (mean ± std. dev. of 7 runs, 1,000,000 loops each)\n"
     ]
    }
   ],
   "execution_count": 71
  },
  {
   "metadata": {
    "ExecuteTime": {
     "end_time": "2025-08-08T19:17:48.631969Z",
     "start_time": "2025-08-08T19:17:48.630052Z"
    }
   },
   "cell_type": "code",
   "source": "old_pairs",
   "id": "5815cd52238699cd",
   "outputs": [
    {
     "data": {
      "text/plain": [
       "{(2, 3), (4, 2), (4, 3), (4, 4), (4, 7), (4, 9), (7, 3)}"
      ]
     },
     "execution_count": 66,
     "metadata": {},
     "output_type": "execute_result"
    }
   ],
   "execution_count": 66
  },
  {
   "metadata": {
    "ExecuteTime": {
     "end_time": "2025-08-08T19:17:51.195195Z",
     "start_time": "2025-08-08T19:17:51.192329Z"
    }
   },
   "cell_type": "code",
   "source": "new_pairs",
   "id": "786688756522a2de",
   "outputs": [
    {
     "data": {
      "text/plain": [
       "{(-99, 2), (-99, 4), (-99, 7), (-99, 9), (2, -99), (4, -99), (7, -99)}"
      ]
     },
     "execution_count": 67,
     "metadata": {},
     "output_type": "execute_result"
    }
   ],
   "execution_count": 67
  },
  {
   "metadata": {},
   "cell_type": "code",
   "outputs": [],
   "execution_count": null,
   "source": [
    "\n",
    " At index 92 diff: (b' c', b'om') != (b't', b'h')\n",
    "E         Right contains one more item: (b' ', b'ver')\n"
   ],
   "id": "cdb8ff06d8cc6af7"
  },
  {
   "metadata": {},
   "cell_type": "code",
   "outputs": [],
   "execution_count": null,
   "source": [
    "At index 92 diff: (b' c', b'om') != (b't', b'h')\n",
    "E         Right contains one more item: (b' ', b'ver')\n"
   ],
   "id": "cdd96fd4c2329b9a"
  },
  {
   "metadata": {
    "ExecuteTime": {
     "end_time": "2025-08-08T18:25:12.077477Z",
     "start_time": "2025-08-08T18:25:04.098401Z"
    }
   },
   "cell_type": "code",
   "source": [
    "%%timeit\n",
    "def merge_word(word: tuple, best_pair: tuple, new_token_id: int) -> tuple:\n",
    "    \"\"\"\n",
    "    Efficiently merges all occurrences of a pair in a word tuple.\n",
    "    This is the optimal single-pass approach.\n",
    "    \"\"\"\n",
    "    new_word = []\n",
    "    i = 0\n",
    "    # The loop condition ensures we only pass through the word once.\n",
    "    while i < len(word):\n",
    "        # This is a fast, constant-time check at each position.\n",
    "        # It peeks ahead by one without needing a new scan.\n",
    "        if i < len(word) - 1 and (word[i], word[i+1]) == best_pair:\n",
    "            # If we find the pair, we append the new token...\n",
    "            new_word.append(new_token_id)\n",
    "            # ...and crucially, we jump the index forward by 2.\n",
    "            i += 2\n",
    "        else:\n",
    "            # If there's no pair, we just copy the current token...\n",
    "            new_word.append(word[i])\n",
    "            # ...and move the index forward by only 1.\n",
    "            i += 1\n",
    "\n",
    "    return tuple(new_word)\n",
    "\n",
    "# --- Example ---\n",
    "# a = (0, 1, 2, 3, 4, 5, 3, 4, 7, 3, 4, 9, 3, 1, 4, 2, 5, 4, 3, 4, 3)\n",
    "best_pair = (3, 4)\n",
    "new_token_id = -99\n",
    "\n",
    "final_word = merge_word(a, best_pair, new_token_id)\n",
    "# print(final_word)\n",
    "# Correct Output: (0, 1, 2, -99, 5, -99, 7, -99, 9, 3, 1, 4, 2, 5, 4, -99, 3)"
   ],
   "id": "5ee580edfbb5e50e",
   "outputs": [
    {
     "name": "stdout",
     "output_type": "stream",
     "text": [
      "980 μs ± 10.2 μs per loop (mean ± std. dev. of 7 runs, 1,000 loops each)\n"
     ]
    }
   ],
   "execution_count": 57
  },
  {
   "metadata": {},
   "cell_type": "code",
   "outputs": [],
   "execution_count": null,
   "source": "",
   "id": "927afab711fc7be7"
  },
  {
   "metadata": {},
   "cell_type": "code",
   "outputs": [],
   "execution_count": null,
   "source": "",
   "id": "693f1d89ec2e544d"
  },
  {
   "metadata": {},
   "cell_type": "code",
   "outputs": [],
   "execution_count": null,
   "source": "",
   "id": "2c6a1bf260bea38c"
  },
  {
   "metadata": {
    "ExecuteTime": {
     "end_time": "2025-08-08T21:54:35.648026Z",
     "start_time": "2025-08-08T21:54:35.639024Z"
    }
   },
   "cell_type": "code",
   "source": [
    "my_merges_new = [(b' ', b't'), (b' ', b'a'), (b'h', b'e'), (b'i', b'n'), (b' t', b'he'), (b'r', b'e'), (b' ', b'o'), (b' ', b','), (b'e', b'r'), (b' ', b's'), (b'a', b't'), (b' ', b'.'), (b'n', b'd'), (b'i', b's'), (b'o', b'r'), (b' ', b'w'), (b' ', b'c'), (b'o', b'n'), (b' ', b'b'), (b' ', b'f'), (b'o', b'u'), (b'i', b't'), (b'e', b'n'), (b'e', b's'), (b' o', b'f'), (b' ', b'p'), (b'in', b'g'), (b' ', b'in'), (b'e', b'd'), (b'a', b'l'), (b' ', b'm'), (b' a', b'nd'), (b' ', b'd'), (b'a', b'n'), (b'a', b'r'), (b' t', b'o'), (b'o', b'm'), (b' t', b'h'), (b'i', b'c'), (b'i', b'on'), (b' ', b'h'), (b' ', b'l'), (b' ', b'y'), (b' ', b'e'), (b'a', b's'), (b'o', b't'), (b'i', b'l'), (b' ', b'n'), (b' ', b'u'), (b'en', b't'), (b' b', b'e'), (b' ', b'&'), (b' ', b'is'), (b' y', b'ou'), (b'o', b's'), (b' ', b're'), (b'e', b't'), (b' f', b'or'), (b'u', b't'), (b'e', b'l'), (b' ', b'g'), (b'a', b'y'), (b's', b't'), (b'o', b'w'), (b'l', b'e'), (b'c', b'e'), (b'a', b'd'), (b' o', b'n'), (b' ', b'I'), (b'v', b'er'), (b'v', b'e'), (b' ', b'A'), (b'u', b'r'), (b'o', b'l'), (b'c', b't'), (b'q', b'u'), (b' th', b'at'), (b'i', b'm'), (b'al', b'l'), (b'a', b'm'), (b'i', b'g'), (b'c', b'h'), (b'at', b'ion'), (b' ', b'P'), (b'it', b'h'), (b'i', b'r'), (b' ', b'S'), (b' ', b'it'), (b' p', b'r'), (b'a', b'p'), (b' s', b'h'), (b' ', b'C'), (b't', b'h'), (b' c', b'om'), (b' ', b'@'), (b' w', b'h'), (b'-', b'@'), (b' a', b're'), (b' @', b'-@'), (b'n', b't'), (b'i', b'd'), (b' w', b'ith'), (b' a', b'l'), (b'o', b'p'), (b' u', b's'), (b'er', b's'), (b' a', b's'), (b't', b'he'), (b'a', b'nd'), (b'i', b'f'), (b'or', b'd'), (b'o', b'd'), (b' ', b'he'), (b'is', b't'), (b'qu', b'ot'), (b'm', b'ent'), (b' ', b'M'), (b' o', b'r'), (b'o', b're'), (b' ', b'G'), (b' f', b'r'), (b'il', b'l'), (b're', b's'), (b' s', b't'), (b'es', b's'), (b'l', b'd'), (b' th', b'is'), (b' ', b'2'), (b'ar', b't'), (b' ', b';'), (b' ', b'L'), (b'l', b'y'), (b'a', b'in'), (b'u', b'l'), (b' d', b'e'), (b' c', b'on'), (b'es', b't'), (b's', b'e'), (b'ap', b'os'), (b'a', b'g'), (b' fr', b'om'), (b' a', b'n'), (b' w', b'e'), (b' ', b'('), (b'0', b'0'), (b't', b'er'), (b' ', b'E'), (b'e', b'm'), (b'a', b've'), (b' n', b'ot'), (b' ', b')'), (b' ', b'1'), (b' you', b'r'), (b'o', b'c'), (b' c', b'an'), (b' b', b'y'), (b' ', b'D'), (b' n', b'e'), (b' ', b'v'), (b'ig', b'h'), (b'ic', b'h'), (b' al', b'l'), (b'r', b'i'), (b' u', b'p'), (b' ', b'r'), (b' ', b'W'), (b'b', b'le'), (b' the', b'y'), (b' ', b'B'), (b'u', b'n'), (b' y', b'e'), (b' wh', b'ich'), (b' ', b'O'), (b'k', b'e'), (b' w', b'or'), (b' s', b'u'), (b' ', b'F'), (b' ', b'H'), (b' h', b'ave'), (b'at', b'e'), (b' sh', b'all'), (b' c', b'h'), (b'e', b'ct'), (b'it', b'y'), (b' s', b'p'), (b'res', b's'), (b'igh', b't'), (b' w', b'ill'), (b' com', b'p'), (b'or', b't'), (b'an', b't'), (b' &', b'#'), (b'i', b've'), (b'a', b're'), (b'.', b'.'), (b' e', b'x'), (b' A', b'nd'), (b' .', b'..'), (b'as', b't'), (b'2', b'4'), (b' ', b'T'), (b'ou', b'ld'), (b'v', b'en'), (b' t', b'r'), (b'u', b'st'), (b'u', b'm'), (b'ou', b't'), (b'c', b'om'), (b' u', b'nt'), (b' s', b'e'), (b'f', b't'), (b're', b'e'), (b'os', b't'), (b'o', b'g'), (b'is', b'h'), (b'ion', b's'), (b'i', b'z'), (b'1', b'24'), (b' unt', b'o'), (b'm', b'er'), (b'ing', b's'), (b' a', b'c'), (b'th', b'is'), (b'at', b'ed'), (b'a', b'c'), (b'l', b'u'), (b'e', b're'), (b' m', b'an'), (b'f', b'or'), (b' m', b'y'), (b' a', b't'), (b'i', b'es'), (b'ag', b'e'), (b'r', b'ou'), (b'l', b'o'), (b'an', b's'), (b'p', b'p'), (b'in', b'd'), (b' wor', b'k'), (b'he', b're'), (b'f', b'ore'), (b' s', b'it'), (b' ', b'ver')]\n",
    "\n",
    "\n"
   ],
   "id": "92515477fa1c4adc",
   "outputs": [],
   "execution_count": 162
  },
  {
   "metadata": {
    "ExecuteTime": {
     "end_time": "2025-08-08T21:54:36.399954Z",
     "start_time": "2025-08-08T21:54:36.393188Z"
    }
   },
   "cell_type": "code",
   "source": [
    "my_vocab_new = {0: b'\\x00', 1: b'\\x01', 2: b'\\x02', 3: b'\\x03', 4: b'\\x04', 5: b'\\x05', 6: b'\\x06', 7: b'\\x07', 8: b'\\x08', 9: b'\\t', 10: b'\\n', 11: b'\\x0b', 12: b'\\x0c', 13: b'\\r', 14: b'\\x0e', 15: b'\\x0f', 16: b'\\x10', 17: b'\\x11', 18: b'\\x12', 19: b'\\x13', 20: b'\\x14', 21: b'\\x15', 22: b'\\x16', 23: b'\\x17', 24: b'\\x18', 25: b'\\x19', 26: b'\\x1a', 27: b'\\x1b', 28: b'\\x1c', 29: b'\\x1d', 30: b'\\x1e', 31: b'\\x1f', 32: b' ', 33: b'!', 34: b'\"', 35: b'#', 36: b'$', 37: b'%', 38: b'&', 39: b\"'\", 40: b'(', 41: b')', 42: b'*', 43: b'+', 44: b',', 45: b'-', 46: b'.', 47: b'/', 48: b'0', 49: b'1', 50: b'2', 51: b'3', 52: b'4', 53: b'5', 54: b'6', 55: b'7', 56: b'8', 57: b'9', 58: b':', 59: b';', 60: b'<', 61: b'=', 62: b'>', 63: b'?', 64: b'@', 65: b'A', 66: b'B', 67: b'C', 68: b'D', 69: b'E', 70: b'F', 71: b'G', 72: b'H', 73: b'I', 74: b'J', 75: b'K', 76: b'L', 77: b'M', 78: b'N', 79: b'O', 80: b'P', 81: b'Q', 82: b'R', 83: b'S', 84: b'T', 85: b'U', 86: b'V', 87: b'W', 88: b'X', 89: b'Y', 90: b'Z', 91: b'[', 92: b'\\\\', 93: b']', 94: b'^', 95: b'_', 96: b'`', 97: b'a', 98: b'b', 99: b'c', 100: b'd', 101: b'e', 102: b'f', 103: b'g', 104: b'h', 105: b'i', 106: b'j', 107: b'k', 108: b'l', 109: b'm', 110: b'n', 111: b'o', 112: b'p', 113: b'q', 114: b'r', 115: b's', 116: b't', 117: b'u', 118: b'v', 119: b'w', 120: b'x', 121: b'y', 122: b'z', 123: b'{', 124: b'|', 125: b'}', 126: b'~', 127: b'\\x7f', 128: b'\\x80', 129: b'\\x81', 130: b'\\x82', 131: b'\\x83', 132: b'\\x84', 133: b'\\x85', 134: b'\\x86', 135: b'\\x87', 136: b'\\x88', 137: b'\\x89', 138: b'\\x8a', 139: b'\\x8b', 140: b'\\x8c', 141: b'\\x8d', 142: b'\\x8e', 143: b'\\x8f', 144: b'\\x90', 145: b'\\x91', 146: b'\\x92', 147: b'\\x93', 148: b'\\x94', 149: b'\\x95', 150: b'\\x96', 151: b'\\x97', 152: b'\\x98', 153: b'\\x99', 154: b'\\x9a', 155: b'\\x9b', 156: b'\\x9c', 157: b'\\x9d', 158: b'\\x9e', 159: b'\\x9f', 160: b'\\xa0', 161: b'\\xa1', 162: b'\\xa2', 163: b'\\xa3', 164: b'\\xa4', 165: b'\\xa5', 166: b'\\xa6', 167: b'\\xa7', 168: b'\\xa8', 169: b'\\xa9', 170: b'\\xaa', 171: b'\\xab', 172: b'\\xac', 173: b'\\xad', 174: b'\\xae', 175: b'\\xaf', 176: b'\\xb0', 177: b'\\xb1', 178: b'\\xb2', 179: b'\\xb3', 180: b'\\xb4', 181: b'\\xb5', 182: b'\\xb6', 183: b'\\xb7', 184: b'\\xb8', 185: b'\\xb9', 186: b'\\xba', 187: b'\\xbb', 188: b'\\xbc', 189: b'\\xbd', 190: b'\\xbe', 191: b'\\xbf', 192: b'\\xc0', 193: b'\\xc1', 194: b'\\xc2', 195: b'\\xc3', 196: b'\\xc4', 197: b'\\xc5', 198: b'\\xc6', 199: b'\\xc7', 200: b'\\xc8', 201: b'\\xc9', 202: b'\\xca', 203: b'\\xcb', 204: b'\\xcc', 205: b'\\xcd', 206: b'\\xce', 207: b'\\xcf', 208: b'\\xd0', 209: b'\\xd1', 210: b'\\xd2', 211: b'\\xd3', 212: b'\\xd4', 213: b'\\xd5', 214: b'\\xd6', 215: b'\\xd7', 216: b'\\xd8', 217: b'\\xd9', 218: b'\\xda', 219: b'\\xdb', 220: b'\\xdc', 221: b'\\xdd', 222: b'\\xde', 223: b'\\xdf', 224: b'\\xe0', 225: b'\\xe1', 226: b'\\xe2', 227: b'\\xe3', 228: b'\\xe4', 229: b'\\xe5', 230: b'\\xe6', 231: b'\\xe7', 232: b'\\xe8', 233: b'\\xe9', 234: b'\\xea', 235: b'\\xeb', 236: b'\\xec', 237: b'\\xed', 238: b'\\xee', 239: b'\\xef', 240: b'\\xf0', 241: b'\\xf1', 242: b'\\xf2', 243: b'\\xf3', 244: b'\\xf4', 245: b'\\xf5', 246: b'\\xf6', 247: b'\\xf7', 248: b'\\xf8', 249: b'\\xf9', 250: b'\\xfa', 251: b'\\xfb', 252: b'\\xfc', 253: b'\\xfd', 254: b'\\xfe', 255: b'\\xff', 256: b'<|endoftext|>', 257: b' t', 258: b' a', 259: b'he', 260: b'in', 261: b' the', 262: b're', 263: b' o', 264: b' ,', 265: b'er', 266: b' s', 267: b'at', 268: b' .', 269: b'nd', 270: b'is', 271: b'or', 272: b' w', 273: b' c', 274: b'on', 275: b' b', 276: b' f', 277: b'ou', 278: b'it', 279: b'en', 280: b'es', 281: b' of', 282: b' p', 283: b'ing', 284: b' in', 285: b'ed', 286: b'al', 287: b' m', 288: b' and', 289: b' d', 290: b'an', 291: b'ar', 292: b' to', 293: b'om', 294: b' th', 295: b'ic', 296: b'ion', 297: b' h', 298: b' l', 299: b' y', 300: b' e', 301: b'as', 302: b'ot', 303: b'il', 304: b' n', 305: b' u', 306: b'ent', 307: b' be', 308: b' &', 309: b' is', 310: b' you', 311: b'os', 312: b' re', 313: b'et', 314: b' for', 315: b'ut', 316: b'el', 317: b' g', 318: b'ay', 319: b'st', 320: b'ow', 321: b'le', 322: b'ce', 323: b'ad', 324: b' on', 325: b' I', 326: b'ver', 327: b've', 328: b' A', 329: b'ur', 330: b'ol', 331: b'ct', 332: b'qu', 333: b' that', 334: b'im', 335: b'all', 336: b'am', 337: b'ig', 338: b'ch', 339: b'ation', 340: b' P', 341: b'ith', 342: b'ir', 343: b' S', 344: b' it', 345: b' pr', 346: b'ap', 347: b' sh', 348: b' C', 349: b'th', 350: b' com', 351: b' @', 352: b' wh', 353: b'-@', 354: b' are', 355: b' @-@', 356: b'nt', 357: b'id', 358: b' with', 359: b' al', 360: b'op', 361: b' us', 362: b'ers', 363: b' as', 364: b'the', 365: b'and', 366: b'if', 367: b'ord', 368: b'od', 369: b' he', 370: b'ist', 371: b'quot', 372: b'ment', 373: b' M', 374: b' or', 375: b'ore', 376: b' G', 377: b' fr', 378: b'ill', 379: b'res', 380: b' st', 381: b'ess', 382: b'ld', 383: b' this', 384: b' 2', 385: b'art', 386: b' ;', 387: b' L', 388: b'ly', 389: b'ain', 390: b'ul', 391: b' de', 392: b' con', 393: b'est', 394: b'se', 395: b'apos', 396: b'ag', 397: b' from', 398: b' an', 399: b' we', 400: b' (', 401: b'00', 402: b'ter', 403: b' E', 404: b'em', 405: b'ave', 406: b' not', 407: b' )', 408: b' 1', 409: b' your', 410: b'oc', 411: b' can', 412: b' by', 413: b' D', 414: b' ne', 415: b' v', 416: b'igh', 417: b'ich', 418: b' all', 419: b'ri', 420: b' up', 421: b' r', 422: b' W', 423: b'ble', 424: b' they', 425: b' B', 426: b'un', 427: b' ye', 428: b' which', 429: b' O', 430: b'ke', 431: b' wor', 432: b' su', 433: b' F', 434: b' H', 435: b' have', 436: b'ate', 437: b' shall', 438: b' ch', 439: b'ect', 440: b'ity', 441: b' sp', 442: b'ress', 443: b'ight', 444: b' will', 445: b' comp', 446: b'ort', 447: b'ant', 448: b' &#', 449: b'ive', 450: b'are', 451: b'..', 452: b' ex', 453: b' And', 454: b' ...', 455: b'ast', 456: b'24', 457: b' T', 458: b'ould', 459: b'ven', 460: b' tr', 461: b'ust', 462: b'um', 463: b'out', 464: b'com', 465: b' unt', 466: b' se', 467: b'ft', 468: b'ree', 469: b'ost', 470: b'og', 471: b'ish', 472: b'ions', 473: b'iz', 474: b'124', 475: b' unto', 476: b'mer', 477: b'ings', 478: b' ac', 479: b'this', 480: b'ated', 481: b'ac', 482: b'lu', 483: b'ere', 484: b' man', 485: b'for', 486: b' my', 487: b' at', 488: b'ies', 489: b'age', 490: b'rou', 491: b'lo', 492: b'ans', 493: b'pp', 494: b'ind', 495: b' work', 496: b'here', 497: b'fore', 498: b' sit', 499: b' ver'}\n",
    "\n"
   ],
   "id": "c0bff4cb3a3807de",
   "outputs": [],
   "execution_count": 163
  },
  {
   "metadata": {
    "ExecuteTime": {
     "end_time": "2025-08-08T21:40:52.081382Z",
     "start_time": "2025-08-08T21:40:52.072889Z"
    }
   },
   "cell_type": "code",
   "source": [
    "import json\n",
    "import time\n",
    "# import gpt2_reference_merges\n",
    "# from .tests.adapters import run_train_bpe\n",
    "# from tests.common import FIXTURES_PATH, gpt2_bytes_to_unicode\n",
    "reference_merges_path = r'/Users/maksymlytvynenko/Work/Stanford/CS336/Assignment1-basics/tests/fixtures/train-bpe-reference-merges.txt'\n",
    "gpt2_byte_decoder = {v: k for k, v in gpt2_bytes_to_unicode().items()}\n",
    "with open(reference_merges_path, encoding=\"utf-8\") as f:\n",
    "    gpt2_reference_merges = [tuple(line.rstrip().split(\" \")) for line in f]\n",
    "    reference_merges = [\n",
    "        (\n",
    "            bytes([gpt2_byte_decoder[token] for token in merge_token_1]),\n",
    "            bytes([gpt2_byte_decoder[token] for token in merge_token_2]),\n",
    "        )\n",
    "        for merge_token_1, merge_token_2 in gpt2_reference_merges\n",
    "    ]\n",
    "reference_merges"
   ],
   "id": "65a774f7bcd23fa",
   "outputs": [
    {
     "data": {
      "text/plain": [
       "[(b' ', b't'),\n",
       " (b' ', b'a'),\n",
       " (b'h', b'e'),\n",
       " (b'i', b'n'),\n",
       " (b' t', b'he'),\n",
       " (b'r', b'e'),\n",
       " (b' ', b'o'),\n",
       " (b' ', b','),\n",
       " (b'e', b'r'),\n",
       " (b' ', b's'),\n",
       " (b'a', b't'),\n",
       " (b' ', b'.'),\n",
       " (b'n', b'd'),\n",
       " (b'i', b's'),\n",
       " (b'o', b'r'),\n",
       " (b' ', b'w'),\n",
       " (b' ', b'c'),\n",
       " (b'o', b'n'),\n",
       " (b' ', b'b'),\n",
       " (b' ', b'f'),\n",
       " (b'o', b'u'),\n",
       " (b'i', b't'),\n",
       " (b'e', b'n'),\n",
       " (b'e', b's'),\n",
       " (b' o', b'f'),\n",
       " (b' ', b'p'),\n",
       " (b'in', b'g'),\n",
       " (b' ', b'in'),\n",
       " (b'e', b'd'),\n",
       " (b'a', b'l'),\n",
       " (b' ', b'm'),\n",
       " (b' a', b'nd'),\n",
       " (b' ', b'd'),\n",
       " (b'a', b'n'),\n",
       " (b'a', b'r'),\n",
       " (b' t', b'o'),\n",
       " (b'o', b'm'),\n",
       " (b' t', b'h'),\n",
       " (b'i', b'c'),\n",
       " (b'i', b'on'),\n",
       " (b' ', b'h'),\n",
       " (b' ', b'l'),\n",
       " (b' ', b'y'),\n",
       " (b' ', b'e'),\n",
       " (b'a', b's'),\n",
       " (b'o', b't'),\n",
       " (b'i', b'l'),\n",
       " (b' ', b'n'),\n",
       " (b' ', b'u'),\n",
       " (b'en', b't'),\n",
       " (b' b', b'e'),\n",
       " (b' ', b'&'),\n",
       " (b' ', b'is'),\n",
       " (b' y', b'ou'),\n",
       " (b'o', b's'),\n",
       " (b' ', b're'),\n",
       " (b'e', b't'),\n",
       " (b' f', b'or'),\n",
       " (b'u', b't'),\n",
       " (b'e', b'l'),\n",
       " (b' ', b'g'),\n",
       " (b'a', b'y'),\n",
       " (b's', b't'),\n",
       " (b'o', b'w'),\n",
       " (b'l', b'e'),\n",
       " (b'c', b'e'),\n",
       " (b'a', b'd'),\n",
       " (b' o', b'n'),\n",
       " (b' ', b'I'),\n",
       " (b'v', b'er'),\n",
       " (b'v', b'e'),\n",
       " (b' ', b'A'),\n",
       " (b'u', b'r'),\n",
       " (b'o', b'l'),\n",
       " (b'c', b't'),\n",
       " (b'q', b'u'),\n",
       " (b' th', b'at'),\n",
       " (b'i', b'm'),\n",
       " (b'al', b'l'),\n",
       " (b'a', b'm'),\n",
       " (b'i', b'g'),\n",
       " (b'c', b'h'),\n",
       " (b'at', b'ion'),\n",
       " (b' ', b'P'),\n",
       " (b'it', b'h'),\n",
       " (b'i', b'r'),\n",
       " (b' ', b'S'),\n",
       " (b' ', b'it'),\n",
       " (b' p', b'r'),\n",
       " (b'a', b'p'),\n",
       " (b' s', b'h'),\n",
       " (b' ', b'C'),\n",
       " (b't', b'h'),\n",
       " (b' c', b'om'),\n",
       " (b' ', b'@'),\n",
       " (b' w', b'h'),\n",
       " (b'-', b'@'),\n",
       " (b' a', b're'),\n",
       " (b' @', b'-@'),\n",
       " (b'n', b't'),\n",
       " (b'i', b'd'),\n",
       " (b' w', b'ith'),\n",
       " (b' a', b'l'),\n",
       " (b'o', b'p'),\n",
       " (b' u', b's'),\n",
       " (b'er', b's'),\n",
       " (b' a', b's'),\n",
       " (b't', b'he'),\n",
       " (b'a', b'nd'),\n",
       " (b'i', b'f'),\n",
       " (b'or', b'd'),\n",
       " (b'o', b'd'),\n",
       " (b' ', b'he'),\n",
       " (b'is', b't'),\n",
       " (b'qu', b'ot'),\n",
       " (b'm', b'ent'),\n",
       " (b' ', b'M'),\n",
       " (b' o', b'r'),\n",
       " (b'o', b're'),\n",
       " (b' ', b'G'),\n",
       " (b' f', b'r'),\n",
       " (b'il', b'l'),\n",
       " (b're', b's'),\n",
       " (b' s', b't'),\n",
       " (b'es', b's'),\n",
       " (b'l', b'd'),\n",
       " (b' th', b'is'),\n",
       " (b' ', b'2'),\n",
       " (b'ar', b't'),\n",
       " (b' ', b';'),\n",
       " (b' ', b'L'),\n",
       " (b'l', b'y'),\n",
       " (b'a', b'in'),\n",
       " (b'u', b'l'),\n",
       " (b' d', b'e'),\n",
       " (b' c', b'on'),\n",
       " (b'es', b't'),\n",
       " (b's', b'e'),\n",
       " (b'ap', b'os'),\n",
       " (b'a', b'g'),\n",
       " (b' fr', b'om'),\n",
       " (b' a', b'n'),\n",
       " (b' w', b'e'),\n",
       " (b' ', b'('),\n",
       " (b'0', b'0'),\n",
       " (b't', b'er'),\n",
       " (b' ', b'E'),\n",
       " (b'e', b'm'),\n",
       " (b'a', b've'),\n",
       " (b' n', b'ot'),\n",
       " (b' ', b')'),\n",
       " (b' ', b'1'),\n",
       " (b' you', b'r'),\n",
       " (b'o', b'c'),\n",
       " (b' c', b'an'),\n",
       " (b' b', b'y'),\n",
       " (b' ', b'D'),\n",
       " (b' n', b'e'),\n",
       " (b' ', b'v'),\n",
       " (b'ig', b'h'),\n",
       " (b'ic', b'h'),\n",
       " (b' al', b'l'),\n",
       " (b'r', b'i'),\n",
       " (b' u', b'p'),\n",
       " (b' ', b'r'),\n",
       " (b' ', b'W'),\n",
       " (b'b', b'le'),\n",
       " (b' the', b'y'),\n",
       " (b' ', b'B'),\n",
       " (b'u', b'n'),\n",
       " (b' y', b'e'),\n",
       " (b' wh', b'ich'),\n",
       " (b' ', b'O'),\n",
       " (b'k', b'e'),\n",
       " (b' w', b'or'),\n",
       " (b' s', b'u'),\n",
       " (b' ', b'F'),\n",
       " (b' ', b'H'),\n",
       " (b' h', b'ave'),\n",
       " (b'at', b'e'),\n",
       " (b' sh', b'all'),\n",
       " (b' c', b'h'),\n",
       " (b'e', b'ct'),\n",
       " (b'it', b'y'),\n",
       " (b' s', b'p'),\n",
       " (b'res', b's'),\n",
       " (b'igh', b't'),\n",
       " (b' w', b'ill'),\n",
       " (b' com', b'p'),\n",
       " (b'or', b't'),\n",
       " (b'an', b't'),\n",
       " (b' &', b'#'),\n",
       " (b'i', b've'),\n",
       " (b'a', b're'),\n",
       " (b'.', b'.'),\n",
       " (b' e', b'x'),\n",
       " (b' A', b'nd'),\n",
       " (b' .', b'..'),\n",
       " (b'as', b't'),\n",
       " (b'2', b'4'),\n",
       " (b' ', b'T'),\n",
       " (b'ou', b'ld'),\n",
       " (b'v', b'en'),\n",
       " (b' t', b'r'),\n",
       " (b'u', b'st'),\n",
       " (b'u', b'm'),\n",
       " (b'ou', b't'),\n",
       " (b'c', b'om'),\n",
       " (b' u', b'nt'),\n",
       " (b' s', b'e'),\n",
       " (b'f', b't'),\n",
       " (b're', b'e'),\n",
       " (b'os', b't'),\n",
       " (b'o', b'g'),\n",
       " (b'is', b'h'),\n",
       " (b'ion', b's'),\n",
       " (b'i', b'z'),\n",
       " (b'1', b'24'),\n",
       " (b' unt', b'o'),\n",
       " (b'm', b'er'),\n",
       " (b'ing', b's'),\n",
       " (b' a', b'c'),\n",
       " (b'th', b'is'),\n",
       " (b'at', b'ed'),\n",
       " (b'a', b'c'),\n",
       " (b'l', b'u'),\n",
       " (b'e', b're'),\n",
       " (b' m', b'an'),\n",
       " (b'f', b'or'),\n",
       " (b' m', b'y'),\n",
       " (b' a', b't'),\n",
       " (b'i', b'es'),\n",
       " (b'ag', b'e'),\n",
       " (b'r', b'ou'),\n",
       " (b'l', b'o'),\n",
       " (b'an', b's'),\n",
       " (b'p', b'p'),\n",
       " (b'in', b'd'),\n",
       " (b' wor', b'k'),\n",
       " (b'he', b're'),\n",
       " (b'f', b'ore'),\n",
       " (b' s', b'it'),\n",
       " (b' ', b'ver')]"
      ]
     },
     "execution_count": 140,
     "metadata": {},
     "output_type": "execute_result"
    }
   ],
   "execution_count": 140
  },
  {
   "metadata": {
    "ExecuteTime": {
     "end_time": "2025-08-08T21:55:15.488028Z",
     "start_time": "2025-08-08T21:55:15.486472Z"
    }
   },
   "cell_type": "code",
   "source": [
    "print(len(my_merges_new), len(reference_merges))\n",
    "print(my_merges_new == reference_merges)"
   ],
   "id": "32e4e4288bd382c2",
   "outputs": [
    {
     "name": "stdout",
     "output_type": "stream",
     "text": [
      "243 243\n",
      "True\n"
     ]
    }
   ],
   "execution_count": 165
  },
  {
   "metadata": {
    "ExecuteTime": {
     "end_time": "2025-08-08T22:13:13.703646Z",
     "start_time": "2025-08-08T22:13:13.692292Z"
    }
   },
   "cell_type": "code",
   "source": [
    "another_test_vocab = {0: b'<|endoftext|>', 189: b'\\x00', 190: b'\\x01', 191: b'\\x02', 192: b'\\x03', 193: b'\\x04', 194: b'\\x05', 195: b'\\x06', 196: b'\\x07', 197: b'\\x08', 198: b'\\t', 199: b'\\n', 200: b'\\x0b', 201: b'\\x0c', 202: b'\\r', 203: b'\\x0e', 204: b'\\x0f', 205: b'\\x10', 206: b'\\x11', 207: b'\\x12', 208: b'\\x13', 209: b'\\x14', 210: b'\\x15', 211: b'\\x16', 212: b'\\x17', 213: b'\\x18', 214: b'\\x19', 215: b'\\x1a', 216: b'\\x1b', 217: b'\\x1c', 218: b'\\x1d', 219: b'\\x1e', 220: b'\\x1f', 221: b' ', 1: b'!', 2: b'\"', 3: b'#', 4: b'$', 5: b'%', 6: b'&', 7: b\"'\", 8: b'(', 9: b')', 10: b'*', 11: b'+', 12: b',', 13: b'-', 14: b'.', 15: b'/', 16: b'0', 17: b'1', 18: b'2', 19: b'3', 20: b'4', 21: b'5', 22: b'6', 23: b'7', 24: b'8', 25: b'9', 26: b':', 27: b';', 28: b'<', 29: b'=', 30: b'>', 31: b'?', 32: b'@', 33: b'A', 34: b'B', 35: b'C', 36: b'D', 37: b'E', 38: b'F', 39: b'G', 40: b'H', 41: b'I', 42: b'J', 43: b'K', 44: b'L', 45: b'M', 46: b'N', 47: b'O', 48: b'P', 49: b'Q', 50: b'R', 51: b'S', 52: b'T', 53: b'U', 54: b'V', 55: b'W', 56: b'X', 57: b'Y', 58: b'Z', 59: b'[', 60: b'\\\\', 61: b']', 62: b'^', 63: b'_', 64: b'`', 65: b'a', 66: b'b', 67: b'c', 68: b'd', 69: b'e', 70: b'f', 71: b'g', 72: b'h', 73: b'i', 74: b'j', 75: b'k', 76: b'l', 77: b'm', 78: b'n', 79: b'o', 80: b'p', 81: b'q', 82: b'r', 83: b's', 84: b't', 85: b'u', 86: b'v', 87: b'w', 88: b'x', 89: b'y', 90: b'z', 91: b'{', 92: b'|', 93: b'}', 94: b'~', 222: b'\\x7f', 223: b'\\x80', 224: b'\\x81', 225: b'\\x82', 226: b'\\x83', 227: b'\\x84', 228: b'\\x85', 229: b'\\x86', 230: b'\\x87', 231: b'\\x88', 232: b'\\x89', 233: b'\\x8a', 234: b'\\x8b', 235: b'\\x8c', 236: b'\\x8d', 237: b'\\x8e', 238: b'\\x8f', 239: b'\\x90', 240: b'\\x91', 241: b'\\x92', 242: b'\\x93', 243: b'\\x94', 244: b'\\x95', 245: b'\\x96', 246: b'\\x97', 247: b'\\x98', 248: b'\\x99', 249: b'\\x9a', 250: b'\\x9b', 251: b'\\x9c', 252: b'\\x9d', 253: b'\\x9e', 254: b'\\x9f', 255: b'\\xa0', 95: b'\\xa1', 96: b'\\xa2', 97: b'\\xa3', 98: b'\\xa4', 99: b'\\xa5', 100: b'\\xa6', 101: b'\\xa7', 102: b'\\xa8', 103: b'\\xa9', 104: b'\\xaa', 105: b'\\xab', 106: b'\\xac', 256: b'\\xad', 107: b'\\xae', 108: b'\\xaf', 109: b'\\xb0', 110: b'\\xb1', 111: b'\\xb2', 112: b'\\xb3', 113: b'\\xb4', 114: b'\\xb5', 115: b'\\xb6', 116: b'\\xb7', 117: b'\\xb8', 118: b'\\xb9', 119: b'\\xba', 120: b'\\xbb', 121: b'\\xbc', 122: b'\\xbd', 123: b'\\xbe', 124: b'\\xbf', 125: b'\\xc0', 126: b'\\xc1', 127: b'\\xc2', 128: b'\\xc3', 129: b'\\xc4', 130: b'\\xc5', 131: b'\\xc6', 132: b'\\xc7', 133: b'\\xc8', 134: b'\\xc9', 135: b'\\xca', 136: b'\\xcb', 137: b'\\xcc', 138: b'\\xcd', 139: b'\\xce', 140: b'\\xcf', 141: b'\\xd0', 142: b'\\xd1', 143: b'\\xd2', 144: b'\\xd3', 145: b'\\xd4', 146: b'\\xd5', 147: b'\\xd6', 148: b'\\xd7', 149: b'\\xd8', 150: b'\\xd9', 151: b'\\xda', 152: b'\\xdb', 153: b'\\xdc', 154: b'\\xdd', 155: b'\\xde', 156: b'\\xdf', 157: b'\\xe0', 158: b'\\xe1', 159: b'\\xe2', 160: b'\\xe3', 161: b'\\xe4', 162: b'\\xe5', 163: b'\\xe6', 164: b'\\xe7', 165: b'\\xe8', 166: b'\\xe9', 167: b'\\xea', 168: b'\\xeb', 169: b'\\xec', 170: b'\\xed', 171: b'\\xee', 172: b'\\xef', 173: b'\\xf0', 174: b'\\xf1', 175: b'\\xf2', 176: b'\\xf3', 177: b'\\xf4', 178: b'\\xf5', 179: b'\\xf6', 180: b'\\xf7', 181: b'\\xf8', 182: b'\\xf9', 183: b'\\xfa', 184: b'\\xfb', 185: b'\\xfc', 186: b'\\xfd', 187: b'\\xfe', 188: b'\\xff', 257: b'@\\xb7', 258: b'@\\xa3', 259: b'\\xaa\\xa7', 260: b'\\xab\\xb1', 261: b'@\\xb7\\xaa\\xa7', 262: b'\\xb5\\xa7', 263: b'@\\xb2', 264: b'@L', 265: b'\\xa7\\xb5', 266: b'@\\xb6', 267: b'\\xa3\\xb7', 268: b'@N', 269: b'\\xb1\\xa6', 270: b'\\xab\\xb6', 271: b'\\xb2\\xb5', 272: b'@\\xba', 273: b'@\\xa5', 274: b'\\xb2\\xb1', 275: b'@\\xa4', 276: b'@\\xa8', 277: b'\\xb2\\xb8', 278: b'\\xab\\xb7', 279: b'\\xa7\\xb1', 280: b'\\xa7\\xb6', 281: b'@\\xb2\\xa8', 282: b'@\\xb3', 283: b'\\xab\\xb1\\xa9', 284: b'@\\xab\\xb1', 285: b'\\xa7\\xa6', 286: b'\\xa3\\xaf', 287: b'@\\xb0', 288: b'@\\xa3\\xb1\\xa6', 289: b'@\\xa6', 290: b'\\xa3\\xb1', 291: b'\\xa3\\xb5', 292: b'@\\xb7\\xb2', 293: b'\\xb2\\xb0', 294: b'@\\xb7\\xaa', 295: b'\\xab\\xa5', 296: b'\\xab\\xb2\\xb1', 297: b'@\\xaa', 298: b'@\\xaf', 299: b'@\\xbc', 300: b'@\\xa7', 301: b'\\xa3\\xb6', 302: b'\\xb2\\xb7', 303: b'\\xab\\xaf', 304: b'@\\xb1', 305: b'@\\xb8', 306: b'\\xa7\\xb1\\xb7', 307: b'@\\xa4\\xa7', 308: b'@F', 309: b'@\\xab\\xb6', 310: b'@\\xbc\\xb2\\xb8', 311: b'\\xb2\\xb6', 312: b'@\\xb5\\xa7', 313: b'\\xa7\\xb7', 314: b'@\\xa8\\xb2\\xb5', 315: b'\\xb8\\xb7', 316: b'\\xa7\\xaf', 317: b'@\\xa9', 318: b'\\xa3\\xbc', 319: b'\\xb6\\xb7', 320: b'\\xb2\\xba', 321: b'\\xaf\\xa7', 322: b'\\xa5\\xa7', 323: b'\\xa3\\xa6', 324: b'@\\xb2\\xb1', 325: b'@i', 326: b'\\xb9\\xa7\\xb5', 327: b'\\xb9\\xa7', 328: b'@a', 329: b'\\xb8\\xb5', 330: b'\\xb2\\xaf', 331: b'\\xa5\\xb7', 332: b'\\xb4\\xb8', 333: b'@\\xb7\\xaa\\xa3\\xb7', 334: b'\\xab\\xb0', 335: b'\\xa3\\xaf\\xaf', 336: b'\\xa3\\xb0', 337: b'\\xab\\xa9', 338: b'\\xa5\\xaa', 339: b'\\xa3\\xb7\\xab\\xb2\\xb1', 340: b'@p', 341: b'\\xab\\xb7\\xaa', 342: b'\\xab\\xb5', 343: b'@s', 344: b'@\\xab\\xb7', 345: b'@\\xb3\\xb5', 346: b'\\xa3\\xb3', 347: b'@\\xb6\\xaa', 348: b'@c', 349: b'\\xb7\\xaa', 350: b'@\\xa5\\xb2\\xb0', 351: b'@`', 352: b'@\\xba\\xaa', 353: b'M`', 354: b'@\\xa3\\xb5\\xa7', 355: b'@`M`', 356: b'\\xb1\\xb7', 357: b'\\xab\\xa6', 358: b'@\\xba\\xab\\xb7\\xaa', 359: b'@\\xa3\\xaf', 360: b'\\xb2\\xb3', 361: b'@\\xb8\\xb6', 362: b'\\xa7\\xb5\\xb6', 363: b'@\\xa3\\xb6', 364: b'\\xb7\\xaa\\xa7', 365: b'\\xa3\\xb1\\xa6', 366: b'\\xab\\xa8', 367: b'\\xb2\\xb5\\xa6', 368: b'\\xb2\\xa6', 369: b'@\\xaa\\xa7', 370: b'\\xab\\xb6\\xb7', 371: b'\\xb4\\xb8\\xb2\\xb7', 372: b'\\xb0\\xa7\\xb1\\xb7', 373: b'@m', 374: b'@\\xb2\\xb5', 375: b'\\xb2\\xb5\\xa7', 376: b'@g', 377: b'@\\xa8\\xb5', 378: b'\\xab\\xaf\\xaf', 379: b'\\xb5\\xa7\\xb6', 380: b'@\\xb6\\xb7', 381: b'\\xa7\\xb6\\xb6', 382: b'\\xaf\\xa6', 383: b'@\\xb7\\xaa\\xab\\xb6', 384: b'@R', 385: b'\\xa3\\xb5\\xb7', 386: b'@[', 387: b'@l', 388: b'\\xaf\\xbc', 389: b'\\xa3\\xab\\xb1', 390: b'\\xb8\\xaf', 391: b'@\\xa6\\xa7', 392: b'@\\xa5\\xb2\\xb1', 393: b'\\xa7\\xb6\\xb7', 394: b'\\xb6\\xa7', 395: b'\\xa3\\xb3\\xb2\\xb6', 396: b'\\xa3\\xa9', 397: b'@\\xa8\\xb5\\xb2\\xb0', 398: b'@\\xa3\\xb1', 399: b'@\\xba\\xa7', 400: b'@H', 401: b'PP', 402: b'\\xb7\\xa7\\xb5', 403: b'@e', 404: b'\\xa7\\xb0', 405: b'\\xa3\\xb9\\xa7', 406: b'@\\xb1\\xb2\\xb7', 407: b'@I', 408: b'@Q', 409: b'@\\xbc\\xb2\\xb8\\xb5', 410: b'\\xb2\\xa5', 411: b'@\\xa5\\xa3\\xb1', 412: b'@\\xa4\\xbc', 413: b'@d', 414: b'@\\xb1\\xa7', 415: b'@\\xb9', 416: b'\\xab\\xa9\\xaa', 417: b'\\xab\\xa5\\xaa', 418: b'@\\xa3\\xaf\\xaf', 419: b'\\xb5\\xab', 420: b'@\\xb8\\xb3', 421: b'@\\xb5', 422: b'@w', 423: b'\\xa4\\xaf\\xa7', 424: b'@\\xb7\\xaa\\xa7\\xbc', 425: b'@b', 426: b'\\xb8\\xb1', 427: b'@\\xbc\\xa7', 428: b'@\\xba\\xaa\\xab\\xa5\\xaa', 429: b'@o', 430: b'\\xae\\xa7', 431: b'@\\xba\\xb2\\xb5', 432: b'@\\xb6\\xb8', 433: b'@f', 434: b'@h', 435: b'@\\xaa\\xa3\\xb9\\xa7', 436: b'\\xa3\\xb7\\xa7', 437: b'@\\xb6\\xaa\\xa3\\xaf\\xaf', 438: b'@\\xa5\\xaa', 439: b'\\xa7\\xa5\\xb7', 440: b'\\xab\\xb7\\xbc', 441: b'@\\xb6\\xb3', 442: b'\\xb5\\xa7\\xb6\\xb6', 443: b'\\xab\\xa9\\xaa\\xb7', 444: b'@\\xba\\xab\\xaf\\xaf', 445: b'@\\xa5\\xb2\\xb0\\xb3', 446: b'\\xb2\\xb5\\xb7', 447: b'\\xa3\\xb1\\xb7', 448: b'@FC', 449: b'\\xab\\xb9\\xa7', 450: b'\\xa3\\xb5\\xa7', 451: b'NN', 452: b'@\\xa7\\xbb', 453: b'@a\\xb1\\xa6', 454: b'@NNN', 455: b'\\xa3\\xb6\\xb7', 456: b'RT', 457: b'@t', 458: b'\\xb2\\xb8\\xaf\\xa6', 459: b'\\xb9\\xa7\\xb1', 460: b'@\\xb7\\xb5', 461: b'\\xb8\\xb6\\xb7', 462: b'\\xb8\\xb0', 463: b'\\xb2\\xb8\\xb7', 464: b'\\xa5\\xb2\\xb0', 465: b'@\\xb8\\xb1\\xb7', 466: b'@\\xb6\\xa7', 467: b'\\xa8\\xb7', 468: b'\\xb5\\xa7\\xa7', 469: b'\\xb2\\xb6\\xb7', 470: b'\\xb2\\xa9', 471: b'\\xab\\xb6\\xaa', 472: b'\\xab\\xb2\\xb1\\xb6', 473: b'\\xab\\xbd', 474: b'QRT', 475: b'@\\xb8\\xb1\\xb7\\xb2', 476: b'\\xb0\\xa7\\xb5', 477: b'\\xab\\xb1\\xa9\\xb6', 478: b'@\\xa3\\xa5', 479: b'\\xb7\\xaa\\xab\\xb6', 480: b'\\xa3\\xb7\\xa7\\xa6', 481: b'\\xa3\\xa5', 482: b'\\xaf\\xb8', 483: b'\\xa7\\xb5\\xa7', 484: b'@\\xb0\\xa3\\xb1', 485: b'\\xa8\\xb2\\xb5', 486: b'@\\xb0\\xbc', 487: b'@\\xa3\\xb7', 488: b'\\xab\\xa7\\xb6', 489: b'\\xa3\\xa9\\xa7', 490: b'\\xb5\\xb2\\xb8', 491: b'\\xaf\\xb2', 492: b'\\xa3\\xb1\\xb6', 493: b'\\xb3\\xb3', 494: b'\\xab\\xb1\\xa6', 495: b'@\\xba\\xb2\\xb5\\xae', 496: b'\\xaa\\xa7\\xb5\\xa7', 497: b'\\xa8\\xb2\\xb5\\xa7', 498: b'@\\xb6\\xab\\xb7', 499: b'@\\xb9\\xa7\\xb5'}\n",
    "another_test_vocab"
   ],
   "id": "6f6cce4eac2fa95d",
   "outputs": [
    {
     "data": {
      "text/plain": [
       "{0: b'<|endoftext|>',\n",
       " 189: b'\\x00',\n",
       " 190: b'\\x01',\n",
       " 191: b'\\x02',\n",
       " 192: b'\\x03',\n",
       " 193: b'\\x04',\n",
       " 194: b'\\x05',\n",
       " 195: b'\\x06',\n",
       " 196: b'\\x07',\n",
       " 197: b'\\x08',\n",
       " 198: b'\\t',\n",
       " 199: b'\\n',\n",
       " 200: b'\\x0b',\n",
       " 201: b'\\x0c',\n",
       " 202: b'\\r',\n",
       " 203: b'\\x0e',\n",
       " 204: b'\\x0f',\n",
       " 205: b'\\x10',\n",
       " 206: b'\\x11',\n",
       " 207: b'\\x12',\n",
       " 208: b'\\x13',\n",
       " 209: b'\\x14',\n",
       " 210: b'\\x15',\n",
       " 211: b'\\x16',\n",
       " 212: b'\\x17',\n",
       " 213: b'\\x18',\n",
       " 214: b'\\x19',\n",
       " 215: b'\\x1a',\n",
       " 216: b'\\x1b',\n",
       " 217: b'\\x1c',\n",
       " 218: b'\\x1d',\n",
       " 219: b'\\x1e',\n",
       " 220: b'\\x1f',\n",
       " 221: b' ',\n",
       " 1: b'!',\n",
       " 2: b'\"',\n",
       " 3: b'#',\n",
       " 4: b'$',\n",
       " 5: b'%',\n",
       " 6: b'&',\n",
       " 7: b\"'\",\n",
       " 8: b'(',\n",
       " 9: b')',\n",
       " 10: b'*',\n",
       " 11: b'+',\n",
       " 12: b',',\n",
       " 13: b'-',\n",
       " 14: b'.',\n",
       " 15: b'/',\n",
       " 16: b'0',\n",
       " 17: b'1',\n",
       " 18: b'2',\n",
       " 19: b'3',\n",
       " 20: b'4',\n",
       " 21: b'5',\n",
       " 22: b'6',\n",
       " 23: b'7',\n",
       " 24: b'8',\n",
       " 25: b'9',\n",
       " 26: b':',\n",
       " 27: b';',\n",
       " 28: b'<',\n",
       " 29: b'=',\n",
       " 30: b'>',\n",
       " 31: b'?',\n",
       " 32: b'@',\n",
       " 33: b'A',\n",
       " 34: b'B',\n",
       " 35: b'C',\n",
       " 36: b'D',\n",
       " 37: b'E',\n",
       " 38: b'F',\n",
       " 39: b'G',\n",
       " 40: b'H',\n",
       " 41: b'I',\n",
       " 42: b'J',\n",
       " 43: b'K',\n",
       " 44: b'L',\n",
       " 45: b'M',\n",
       " 46: b'N',\n",
       " 47: b'O',\n",
       " 48: b'P',\n",
       " 49: b'Q',\n",
       " 50: b'R',\n",
       " 51: b'S',\n",
       " 52: b'T',\n",
       " 53: b'U',\n",
       " 54: b'V',\n",
       " 55: b'W',\n",
       " 56: b'X',\n",
       " 57: b'Y',\n",
       " 58: b'Z',\n",
       " 59: b'[',\n",
       " 60: b'\\\\',\n",
       " 61: b']',\n",
       " 62: b'^',\n",
       " 63: b'_',\n",
       " 64: b'`',\n",
       " 65: b'a',\n",
       " 66: b'b',\n",
       " 67: b'c',\n",
       " 68: b'd',\n",
       " 69: b'e',\n",
       " 70: b'f',\n",
       " 71: b'g',\n",
       " 72: b'h',\n",
       " 73: b'i',\n",
       " 74: b'j',\n",
       " 75: b'k',\n",
       " 76: b'l',\n",
       " 77: b'm',\n",
       " 78: b'n',\n",
       " 79: b'o',\n",
       " 80: b'p',\n",
       " 81: b'q',\n",
       " 82: b'r',\n",
       " 83: b's',\n",
       " 84: b't',\n",
       " 85: b'u',\n",
       " 86: b'v',\n",
       " 87: b'w',\n",
       " 88: b'x',\n",
       " 89: b'y',\n",
       " 90: b'z',\n",
       " 91: b'{',\n",
       " 92: b'|',\n",
       " 93: b'}',\n",
       " 94: b'~',\n",
       " 222: b'\\x7f',\n",
       " 223: b'\\x80',\n",
       " 224: b'\\x81',\n",
       " 225: b'\\x82',\n",
       " 226: b'\\x83',\n",
       " 227: b'\\x84',\n",
       " 228: b'\\x85',\n",
       " 229: b'\\x86',\n",
       " 230: b'\\x87',\n",
       " 231: b'\\x88',\n",
       " 232: b'\\x89',\n",
       " 233: b'\\x8a',\n",
       " 234: b'\\x8b',\n",
       " 235: b'\\x8c',\n",
       " 236: b'\\x8d',\n",
       " 237: b'\\x8e',\n",
       " 238: b'\\x8f',\n",
       " 239: b'\\x90',\n",
       " 240: b'\\x91',\n",
       " 241: b'\\x92',\n",
       " 242: b'\\x93',\n",
       " 243: b'\\x94',\n",
       " 244: b'\\x95',\n",
       " 245: b'\\x96',\n",
       " 246: b'\\x97',\n",
       " 247: b'\\x98',\n",
       " 248: b'\\x99',\n",
       " 249: b'\\x9a',\n",
       " 250: b'\\x9b',\n",
       " 251: b'\\x9c',\n",
       " 252: b'\\x9d',\n",
       " 253: b'\\x9e',\n",
       " 254: b'\\x9f',\n",
       " 255: b'\\xa0',\n",
       " 95: b'\\xa1',\n",
       " 96: b'\\xa2',\n",
       " 97: b'\\xa3',\n",
       " 98: b'\\xa4',\n",
       " 99: b'\\xa5',\n",
       " 100: b'\\xa6',\n",
       " 101: b'\\xa7',\n",
       " 102: b'\\xa8',\n",
       " 103: b'\\xa9',\n",
       " 104: b'\\xaa',\n",
       " 105: b'\\xab',\n",
       " 106: b'\\xac',\n",
       " 256: b'\\xad',\n",
       " 107: b'\\xae',\n",
       " 108: b'\\xaf',\n",
       " 109: b'\\xb0',\n",
       " 110: b'\\xb1',\n",
       " 111: b'\\xb2',\n",
       " 112: b'\\xb3',\n",
       " 113: b'\\xb4',\n",
       " 114: b'\\xb5',\n",
       " 115: b'\\xb6',\n",
       " 116: b'\\xb7',\n",
       " 117: b'\\xb8',\n",
       " 118: b'\\xb9',\n",
       " 119: b'\\xba',\n",
       " 120: b'\\xbb',\n",
       " 121: b'\\xbc',\n",
       " 122: b'\\xbd',\n",
       " 123: b'\\xbe',\n",
       " 124: b'\\xbf',\n",
       " 125: b'\\xc0',\n",
       " 126: b'\\xc1',\n",
       " 127: b'\\xc2',\n",
       " 128: b'\\xc3',\n",
       " 129: b'\\xc4',\n",
       " 130: b'\\xc5',\n",
       " 131: b'\\xc6',\n",
       " 132: b'\\xc7',\n",
       " 133: b'\\xc8',\n",
       " 134: b'\\xc9',\n",
       " 135: b'\\xca',\n",
       " 136: b'\\xcb',\n",
       " 137: b'\\xcc',\n",
       " 138: b'\\xcd',\n",
       " 139: b'\\xce',\n",
       " 140: b'\\xcf',\n",
       " 141: b'\\xd0',\n",
       " 142: b'\\xd1',\n",
       " 143: b'\\xd2',\n",
       " 144: b'\\xd3',\n",
       " 145: b'\\xd4',\n",
       " 146: b'\\xd5',\n",
       " 147: b'\\xd6',\n",
       " 148: b'\\xd7',\n",
       " 149: b'\\xd8',\n",
       " 150: b'\\xd9',\n",
       " 151: b'\\xda',\n",
       " 152: b'\\xdb',\n",
       " 153: b'\\xdc',\n",
       " 154: b'\\xdd',\n",
       " 155: b'\\xde',\n",
       " 156: b'\\xdf',\n",
       " 157: b'\\xe0',\n",
       " 158: b'\\xe1',\n",
       " 159: b'\\xe2',\n",
       " 160: b'\\xe3',\n",
       " 161: b'\\xe4',\n",
       " 162: b'\\xe5',\n",
       " 163: b'\\xe6',\n",
       " 164: b'\\xe7',\n",
       " 165: b'\\xe8',\n",
       " 166: b'\\xe9',\n",
       " 167: b'\\xea',\n",
       " 168: b'\\xeb',\n",
       " 169: b'\\xec',\n",
       " 170: b'\\xed',\n",
       " 171: b'\\xee',\n",
       " 172: b'\\xef',\n",
       " 173: b'\\xf0',\n",
       " 174: b'\\xf1',\n",
       " 175: b'\\xf2',\n",
       " 176: b'\\xf3',\n",
       " 177: b'\\xf4',\n",
       " 178: b'\\xf5',\n",
       " 179: b'\\xf6',\n",
       " 180: b'\\xf7',\n",
       " 181: b'\\xf8',\n",
       " 182: b'\\xf9',\n",
       " 183: b'\\xfa',\n",
       " 184: b'\\xfb',\n",
       " 185: b'\\xfc',\n",
       " 186: b'\\xfd',\n",
       " 187: b'\\xfe',\n",
       " 188: b'\\xff',\n",
       " 257: b'@\\xb7',\n",
       " 258: b'@\\xa3',\n",
       " 259: b'\\xaa\\xa7',\n",
       " 260: b'\\xab\\xb1',\n",
       " 261: b'@\\xb7\\xaa\\xa7',\n",
       " 262: b'\\xb5\\xa7',\n",
       " 263: b'@\\xb2',\n",
       " 264: b'@L',\n",
       " 265: b'\\xa7\\xb5',\n",
       " 266: b'@\\xb6',\n",
       " 267: b'\\xa3\\xb7',\n",
       " 268: b'@N',\n",
       " 269: b'\\xb1\\xa6',\n",
       " 270: b'\\xab\\xb6',\n",
       " 271: b'\\xb2\\xb5',\n",
       " 272: b'@\\xba',\n",
       " 273: b'@\\xa5',\n",
       " 274: b'\\xb2\\xb1',\n",
       " 275: b'@\\xa4',\n",
       " 276: b'@\\xa8',\n",
       " 277: b'\\xb2\\xb8',\n",
       " 278: b'\\xab\\xb7',\n",
       " 279: b'\\xa7\\xb1',\n",
       " 280: b'\\xa7\\xb6',\n",
       " 281: b'@\\xb2\\xa8',\n",
       " 282: b'@\\xb3',\n",
       " 283: b'\\xab\\xb1\\xa9',\n",
       " 284: b'@\\xab\\xb1',\n",
       " 285: b'\\xa7\\xa6',\n",
       " 286: b'\\xa3\\xaf',\n",
       " 287: b'@\\xb0',\n",
       " 288: b'@\\xa3\\xb1\\xa6',\n",
       " 289: b'@\\xa6',\n",
       " 290: b'\\xa3\\xb1',\n",
       " 291: b'\\xa3\\xb5',\n",
       " 292: b'@\\xb7\\xb2',\n",
       " 293: b'\\xb2\\xb0',\n",
       " 294: b'@\\xb7\\xaa',\n",
       " 295: b'\\xab\\xa5',\n",
       " 296: b'\\xab\\xb2\\xb1',\n",
       " 297: b'@\\xaa',\n",
       " 298: b'@\\xaf',\n",
       " 299: b'@\\xbc',\n",
       " 300: b'@\\xa7',\n",
       " 301: b'\\xa3\\xb6',\n",
       " 302: b'\\xb2\\xb7',\n",
       " 303: b'\\xab\\xaf',\n",
       " 304: b'@\\xb1',\n",
       " 305: b'@\\xb8',\n",
       " 306: b'\\xa7\\xb1\\xb7',\n",
       " 307: b'@\\xa4\\xa7',\n",
       " 308: b'@F',\n",
       " 309: b'@\\xab\\xb6',\n",
       " 310: b'@\\xbc\\xb2\\xb8',\n",
       " 311: b'\\xb2\\xb6',\n",
       " 312: b'@\\xb5\\xa7',\n",
       " 313: b'\\xa7\\xb7',\n",
       " 314: b'@\\xa8\\xb2\\xb5',\n",
       " 315: b'\\xb8\\xb7',\n",
       " 316: b'\\xa7\\xaf',\n",
       " 317: b'@\\xa9',\n",
       " 318: b'\\xa3\\xbc',\n",
       " 319: b'\\xb6\\xb7',\n",
       " 320: b'\\xb2\\xba',\n",
       " 321: b'\\xaf\\xa7',\n",
       " 322: b'\\xa5\\xa7',\n",
       " 323: b'\\xa3\\xa6',\n",
       " 324: b'@\\xb2\\xb1',\n",
       " 325: b'@i',\n",
       " 326: b'\\xb9\\xa7\\xb5',\n",
       " 327: b'\\xb9\\xa7',\n",
       " 328: b'@a',\n",
       " 329: b'\\xb8\\xb5',\n",
       " 330: b'\\xb2\\xaf',\n",
       " 331: b'\\xa5\\xb7',\n",
       " 332: b'\\xb4\\xb8',\n",
       " 333: b'@\\xb7\\xaa\\xa3\\xb7',\n",
       " 334: b'\\xab\\xb0',\n",
       " 335: b'\\xa3\\xaf\\xaf',\n",
       " 336: b'\\xa3\\xb0',\n",
       " 337: b'\\xab\\xa9',\n",
       " 338: b'\\xa5\\xaa',\n",
       " 339: b'\\xa3\\xb7\\xab\\xb2\\xb1',\n",
       " 340: b'@p',\n",
       " 341: b'\\xab\\xb7\\xaa',\n",
       " 342: b'\\xab\\xb5',\n",
       " 343: b'@s',\n",
       " 344: b'@\\xab\\xb7',\n",
       " 345: b'@\\xb3\\xb5',\n",
       " 346: b'\\xa3\\xb3',\n",
       " 347: b'@\\xb6\\xaa',\n",
       " 348: b'@c',\n",
       " 349: b'\\xb7\\xaa',\n",
       " 350: b'@\\xa5\\xb2\\xb0',\n",
       " 351: b'@`',\n",
       " 352: b'@\\xba\\xaa',\n",
       " 353: b'M`',\n",
       " 354: b'@\\xa3\\xb5\\xa7',\n",
       " 355: b'@`M`',\n",
       " 356: b'\\xb1\\xb7',\n",
       " 357: b'\\xab\\xa6',\n",
       " 358: b'@\\xba\\xab\\xb7\\xaa',\n",
       " 359: b'@\\xa3\\xaf',\n",
       " 360: b'\\xb2\\xb3',\n",
       " 361: b'@\\xb8\\xb6',\n",
       " 362: b'\\xa7\\xb5\\xb6',\n",
       " 363: b'@\\xa3\\xb6',\n",
       " 364: b'\\xb7\\xaa\\xa7',\n",
       " 365: b'\\xa3\\xb1\\xa6',\n",
       " 366: b'\\xab\\xa8',\n",
       " 367: b'\\xb2\\xb5\\xa6',\n",
       " 368: b'\\xb2\\xa6',\n",
       " 369: b'@\\xaa\\xa7',\n",
       " 370: b'\\xab\\xb6\\xb7',\n",
       " 371: b'\\xb4\\xb8\\xb2\\xb7',\n",
       " 372: b'\\xb0\\xa7\\xb1\\xb7',\n",
       " 373: b'@m',\n",
       " 374: b'@\\xb2\\xb5',\n",
       " 375: b'\\xb2\\xb5\\xa7',\n",
       " 376: b'@g',\n",
       " 377: b'@\\xa8\\xb5',\n",
       " 378: b'\\xab\\xaf\\xaf',\n",
       " 379: b'\\xb5\\xa7\\xb6',\n",
       " 380: b'@\\xb6\\xb7',\n",
       " 381: b'\\xa7\\xb6\\xb6',\n",
       " 382: b'\\xaf\\xa6',\n",
       " 383: b'@\\xb7\\xaa\\xab\\xb6',\n",
       " 384: b'@R',\n",
       " 385: b'\\xa3\\xb5\\xb7',\n",
       " 386: b'@[',\n",
       " 387: b'@l',\n",
       " 388: b'\\xaf\\xbc',\n",
       " 389: b'\\xa3\\xab\\xb1',\n",
       " 390: b'\\xb8\\xaf',\n",
       " 391: b'@\\xa6\\xa7',\n",
       " 392: b'@\\xa5\\xb2\\xb1',\n",
       " 393: b'\\xa7\\xb6\\xb7',\n",
       " 394: b'\\xb6\\xa7',\n",
       " 395: b'\\xa3\\xb3\\xb2\\xb6',\n",
       " 396: b'\\xa3\\xa9',\n",
       " 397: b'@\\xa8\\xb5\\xb2\\xb0',\n",
       " 398: b'@\\xa3\\xb1',\n",
       " 399: b'@\\xba\\xa7',\n",
       " 400: b'@H',\n",
       " 401: b'PP',\n",
       " 402: b'\\xb7\\xa7\\xb5',\n",
       " 403: b'@e',\n",
       " 404: b'\\xa7\\xb0',\n",
       " 405: b'\\xa3\\xb9\\xa7',\n",
       " 406: b'@\\xb1\\xb2\\xb7',\n",
       " 407: b'@I',\n",
       " 408: b'@Q',\n",
       " 409: b'@\\xbc\\xb2\\xb8\\xb5',\n",
       " 410: b'\\xb2\\xa5',\n",
       " 411: b'@\\xa5\\xa3\\xb1',\n",
       " 412: b'@\\xa4\\xbc',\n",
       " 413: b'@d',\n",
       " 414: b'@\\xb1\\xa7',\n",
       " 415: b'@\\xb9',\n",
       " 416: b'\\xab\\xa9\\xaa',\n",
       " 417: b'\\xab\\xa5\\xaa',\n",
       " 418: b'@\\xa3\\xaf\\xaf',\n",
       " 419: b'\\xb5\\xab',\n",
       " 420: b'@\\xb8\\xb3',\n",
       " 421: b'@\\xb5',\n",
       " 422: b'@w',\n",
       " 423: b'\\xa4\\xaf\\xa7',\n",
       " 424: b'@\\xb7\\xaa\\xa7\\xbc',\n",
       " 425: b'@b',\n",
       " 426: b'\\xb8\\xb1',\n",
       " 427: b'@\\xbc\\xa7',\n",
       " 428: b'@\\xba\\xaa\\xab\\xa5\\xaa',\n",
       " 429: b'@o',\n",
       " 430: b'\\xae\\xa7',\n",
       " 431: b'@\\xba\\xb2\\xb5',\n",
       " 432: b'@\\xb6\\xb8',\n",
       " 433: b'@f',\n",
       " 434: b'@h',\n",
       " 435: b'@\\xaa\\xa3\\xb9\\xa7',\n",
       " 436: b'\\xa3\\xb7\\xa7',\n",
       " 437: b'@\\xb6\\xaa\\xa3\\xaf\\xaf',\n",
       " 438: b'@\\xa5\\xaa',\n",
       " 439: b'\\xa7\\xa5\\xb7',\n",
       " 440: b'\\xab\\xb7\\xbc',\n",
       " 441: b'@\\xb6\\xb3',\n",
       " 442: b'\\xb5\\xa7\\xb6\\xb6',\n",
       " 443: b'\\xab\\xa9\\xaa\\xb7',\n",
       " 444: b'@\\xba\\xab\\xaf\\xaf',\n",
       " 445: b'@\\xa5\\xb2\\xb0\\xb3',\n",
       " 446: b'\\xb2\\xb5\\xb7',\n",
       " 447: b'\\xa3\\xb1\\xb7',\n",
       " 448: b'@FC',\n",
       " 449: b'\\xab\\xb9\\xa7',\n",
       " 450: b'\\xa3\\xb5\\xa7',\n",
       " 451: b'NN',\n",
       " 452: b'@\\xa7\\xbb',\n",
       " 453: b'@a\\xb1\\xa6',\n",
       " 454: b'@NNN',\n",
       " 455: b'\\xa3\\xb6\\xb7',\n",
       " 456: b'RT',\n",
       " 457: b'@t',\n",
       " 458: b'\\xb2\\xb8\\xaf\\xa6',\n",
       " 459: b'\\xb9\\xa7\\xb1',\n",
       " 460: b'@\\xb7\\xb5',\n",
       " 461: b'\\xb8\\xb6\\xb7',\n",
       " 462: b'\\xb8\\xb0',\n",
       " 463: b'\\xb2\\xb8\\xb7',\n",
       " 464: b'\\xa5\\xb2\\xb0',\n",
       " 465: b'@\\xb8\\xb1\\xb7',\n",
       " 466: b'@\\xb6\\xa7',\n",
       " 467: b'\\xa8\\xb7',\n",
       " 468: b'\\xb5\\xa7\\xa7',\n",
       " 469: b'\\xb2\\xb6\\xb7',\n",
       " 470: b'\\xb2\\xa9',\n",
       " 471: b'\\xab\\xb6\\xaa',\n",
       " 472: b'\\xab\\xb2\\xb1\\xb6',\n",
       " 473: b'\\xab\\xbd',\n",
       " 474: b'QRT',\n",
       " 475: b'@\\xb8\\xb1\\xb7\\xb2',\n",
       " 476: b'\\xb0\\xa7\\xb5',\n",
       " 477: b'\\xab\\xb1\\xa9\\xb6',\n",
       " 478: b'@\\xa3\\xa5',\n",
       " 479: b'\\xb7\\xaa\\xab\\xb6',\n",
       " 480: b'\\xa3\\xb7\\xa7\\xa6',\n",
       " 481: b'\\xa3\\xa5',\n",
       " 482: b'\\xaf\\xb8',\n",
       " 483: b'\\xa7\\xb5\\xa7',\n",
       " 484: b'@\\xb0\\xa3\\xb1',\n",
       " 485: b'\\xa8\\xb2\\xb5',\n",
       " 486: b'@\\xb0\\xbc',\n",
       " 487: b'@\\xa3\\xb7',\n",
       " 488: b'\\xab\\xa7\\xb6',\n",
       " 489: b'\\xa3\\xa9\\xa7',\n",
       " 490: b'\\xb5\\xb2\\xb8',\n",
       " 491: b'\\xaf\\xb2',\n",
       " 492: b'\\xa3\\xb1\\xb6',\n",
       " 493: b'\\xb3\\xb3',\n",
       " 494: b'\\xab\\xb1\\xa6',\n",
       " 495: b'@\\xba\\xb2\\xb5\\xae',\n",
       " 496: b'\\xaa\\xa7\\xb5\\xa7',\n",
       " 497: b'\\xa8\\xb2\\xb5\\xa7',\n",
       " 498: b'@\\xb6\\xab\\xb7',\n",
       " 499: b'@\\xb9\\xa7\\xb5'}"
      ]
     },
     "execution_count": 183,
     "metadata": {},
     "output_type": "execute_result"
    }
   ],
   "execution_count": 183
  },
  {
   "metadata": {
    "ExecuteTime": {
     "end_time": "2025-08-08T21:55:19.911036Z",
     "start_time": "2025-08-08T21:55:19.902336Z"
    }
   },
   "cell_type": "code",
   "source": [
    "reference_vocab_path = r'/Users/maksymlytvynenko/Work/Stanford/CS336/Assignment1-basics/tests/fixtures/train-bpe-reference-vocab.json'\n",
    "with open(reference_vocab_path, encoding=\"utf-8\") as f:\n",
    "    gpt2_reference_vocab = json.load(f)\n",
    "    reference_vocab = {\n",
    "        gpt2_vocab_index: bytes([gpt2_byte_decoder[token] for token in gpt2_vocab_item])\n",
    "        for gpt2_vocab_item, gpt2_vocab_index in gpt2_reference_vocab.items()\n",
    "    }\n",
    "reference_vocab"
   ],
   "id": "c462e428b89d309d",
   "outputs": [
    {
     "data": {
      "text/plain": [
       "{0: b'<|endoftext|>',\n",
       " 1: b'!',\n",
       " 2: b'\"',\n",
       " 3: b'#',\n",
       " 4: b'$',\n",
       " 5: b'%',\n",
       " 6: b'&',\n",
       " 7: b\"'\",\n",
       " 8: b'(',\n",
       " 9: b')',\n",
       " 10: b'*',\n",
       " 11: b'+',\n",
       " 12: b',',\n",
       " 13: b'-',\n",
       " 14: b'.',\n",
       " 15: b'/',\n",
       " 16: b'0',\n",
       " 17: b'1',\n",
       " 18: b'2',\n",
       " 19: b'3',\n",
       " 20: b'4',\n",
       " 21: b'5',\n",
       " 22: b'6',\n",
       " 23: b'7',\n",
       " 24: b'8',\n",
       " 25: b'9',\n",
       " 26: b':',\n",
       " 27: b';',\n",
       " 28: b'<',\n",
       " 29: b'=',\n",
       " 30: b'>',\n",
       " 31: b'?',\n",
       " 32: b'@',\n",
       " 33: b'A',\n",
       " 34: b'B',\n",
       " 35: b'C',\n",
       " 36: b'D',\n",
       " 37: b'E',\n",
       " 38: b'F',\n",
       " 39: b'G',\n",
       " 40: b'H',\n",
       " 41: b'I',\n",
       " 42: b'J',\n",
       " 43: b'K',\n",
       " 44: b'L',\n",
       " 45: b'M',\n",
       " 46: b'N',\n",
       " 47: b'O',\n",
       " 48: b'P',\n",
       " 49: b'Q',\n",
       " 50: b'R',\n",
       " 51: b'S',\n",
       " 52: b'T',\n",
       " 53: b'U',\n",
       " 54: b'V',\n",
       " 55: b'W',\n",
       " 56: b'X',\n",
       " 57: b'Y',\n",
       " 58: b'Z',\n",
       " 59: b'[',\n",
       " 60: b'\\\\',\n",
       " 61: b']',\n",
       " 62: b'^',\n",
       " 63: b'_',\n",
       " 64: b'`',\n",
       " 65: b'a',\n",
       " 66: b'b',\n",
       " 67: b'c',\n",
       " 68: b'd',\n",
       " 69: b'e',\n",
       " 70: b'f',\n",
       " 71: b'g',\n",
       " 72: b'h',\n",
       " 73: b'i',\n",
       " 74: b'j',\n",
       " 75: b'k',\n",
       " 76: b'l',\n",
       " 77: b'm',\n",
       " 78: b'n',\n",
       " 79: b'o',\n",
       " 80: b'p',\n",
       " 81: b'q',\n",
       " 82: b'r',\n",
       " 83: b's',\n",
       " 84: b't',\n",
       " 85: b'u',\n",
       " 86: b'v',\n",
       " 87: b'w',\n",
       " 88: b'x',\n",
       " 89: b'y',\n",
       " 90: b'z',\n",
       " 91: b'{',\n",
       " 92: b'|',\n",
       " 93: b'}',\n",
       " 94: b'~',\n",
       " 95: b'\\xa1',\n",
       " 96: b'\\xa2',\n",
       " 97: b'\\xa3',\n",
       " 98: b'\\xa4',\n",
       " 99: b'\\xa5',\n",
       " 100: b'\\xa6',\n",
       " 101: b'\\xa7',\n",
       " 102: b'\\xa8',\n",
       " 103: b'\\xa9',\n",
       " 104: b'\\xaa',\n",
       " 105: b'\\xab',\n",
       " 106: b'\\xac',\n",
       " 107: b'\\xae',\n",
       " 108: b'\\xaf',\n",
       " 109: b'\\xb0',\n",
       " 110: b'\\xb1',\n",
       " 111: b'\\xb2',\n",
       " 112: b'\\xb3',\n",
       " 113: b'\\xb4',\n",
       " 114: b'\\xb5',\n",
       " 115: b'\\xb6',\n",
       " 116: b'\\xb7',\n",
       " 117: b'\\xb8',\n",
       " 118: b'\\xb9',\n",
       " 119: b'\\xba',\n",
       " 120: b'\\xbb',\n",
       " 121: b'\\xbc',\n",
       " 122: b'\\xbd',\n",
       " 123: b'\\xbe',\n",
       " 124: b'\\xbf',\n",
       " 125: b'\\xc0',\n",
       " 126: b'\\xc1',\n",
       " 127: b'\\xc2',\n",
       " 128: b'\\xc3',\n",
       " 129: b'\\xc4',\n",
       " 130: b'\\xc5',\n",
       " 131: b'\\xc6',\n",
       " 132: b'\\xc7',\n",
       " 133: b'\\xc8',\n",
       " 134: b'\\xc9',\n",
       " 135: b'\\xca',\n",
       " 136: b'\\xcb',\n",
       " 137: b'\\xcc',\n",
       " 138: b'\\xcd',\n",
       " 139: b'\\xce',\n",
       " 140: b'\\xcf',\n",
       " 141: b'\\xd0',\n",
       " 142: b'\\xd1',\n",
       " 143: b'\\xd2',\n",
       " 144: b'\\xd3',\n",
       " 145: b'\\xd4',\n",
       " 146: b'\\xd5',\n",
       " 147: b'\\xd6',\n",
       " 148: b'\\xd7',\n",
       " 149: b'\\xd8',\n",
       " 150: b'\\xd9',\n",
       " 151: b'\\xda',\n",
       " 152: b'\\xdb',\n",
       " 153: b'\\xdc',\n",
       " 154: b'\\xdd',\n",
       " 155: b'\\xde',\n",
       " 156: b'\\xdf',\n",
       " 157: b'\\xe0',\n",
       " 158: b'\\xe1',\n",
       " 159: b'\\xe2',\n",
       " 160: b'\\xe3',\n",
       " 161: b'\\xe4',\n",
       " 162: b'\\xe5',\n",
       " 163: b'\\xe6',\n",
       " 164: b'\\xe7',\n",
       " 165: b'\\xe8',\n",
       " 166: b'\\xe9',\n",
       " 167: b'\\xea',\n",
       " 168: b'\\xeb',\n",
       " 169: b'\\xec',\n",
       " 170: b'\\xed',\n",
       " 171: b'\\xee',\n",
       " 172: b'\\xef',\n",
       " 173: b'\\xf0',\n",
       " 174: b'\\xf1',\n",
       " 175: b'\\xf2',\n",
       " 176: b'\\xf3',\n",
       " 177: b'\\xf4',\n",
       " 178: b'\\xf5',\n",
       " 179: b'\\xf6',\n",
       " 180: b'\\xf7',\n",
       " 181: b'\\xf8',\n",
       " 182: b'\\xf9',\n",
       " 183: b'\\xfa',\n",
       " 184: b'\\xfb',\n",
       " 185: b'\\xfc',\n",
       " 186: b'\\xfd',\n",
       " 187: b'\\xfe',\n",
       " 188: b'\\xff',\n",
       " 189: b'\\x00',\n",
       " 190: b'\\x01',\n",
       " 191: b'\\x02',\n",
       " 192: b'\\x03',\n",
       " 193: b'\\x04',\n",
       " 194: b'\\x05',\n",
       " 195: b'\\x06',\n",
       " 196: b'\\x07',\n",
       " 197: b'\\x08',\n",
       " 198: b'\\t',\n",
       " 199: b'\\n',\n",
       " 200: b'\\x0b',\n",
       " 201: b'\\x0c',\n",
       " 202: b'\\r',\n",
       " 203: b'\\x0e',\n",
       " 204: b'\\x0f',\n",
       " 205: b'\\x10',\n",
       " 206: b'\\x11',\n",
       " 207: b'\\x12',\n",
       " 208: b'\\x13',\n",
       " 209: b'\\x14',\n",
       " 210: b'\\x15',\n",
       " 211: b'\\x16',\n",
       " 212: b'\\x17',\n",
       " 213: b'\\x18',\n",
       " 214: b'\\x19',\n",
       " 215: b'\\x1a',\n",
       " 216: b'\\x1b',\n",
       " 217: b'\\x1c',\n",
       " 218: b'\\x1d',\n",
       " 219: b'\\x1e',\n",
       " 220: b'\\x1f',\n",
       " 221: b' ',\n",
       " 222: b'\\x7f',\n",
       " 223: b'\\x80',\n",
       " 224: b'\\x81',\n",
       " 225: b'\\x82',\n",
       " 226: b'\\x83',\n",
       " 227: b'\\x84',\n",
       " 228: b'\\x85',\n",
       " 229: b'\\x86',\n",
       " 230: b'\\x87',\n",
       " 231: b'\\x88',\n",
       " 232: b'\\x89',\n",
       " 233: b'\\x8a',\n",
       " 234: b'\\x8b',\n",
       " 235: b'\\x8c',\n",
       " 236: b'\\x8d',\n",
       " 237: b'\\x8e',\n",
       " 238: b'\\x8f',\n",
       " 239: b'\\x90',\n",
       " 240: b'\\x91',\n",
       " 241: b'\\x92',\n",
       " 242: b'\\x93',\n",
       " 243: b'\\x94',\n",
       " 244: b'\\x95',\n",
       " 245: b'\\x96',\n",
       " 246: b'\\x97',\n",
       " 247: b'\\x98',\n",
       " 248: b'\\x99',\n",
       " 249: b'\\x9a',\n",
       " 250: b'\\x9b',\n",
       " 251: b'\\x9c',\n",
       " 252: b'\\x9d',\n",
       " 253: b'\\x9e',\n",
       " 254: b'\\x9f',\n",
       " 255: b'\\xa0',\n",
       " 256: b'\\xad',\n",
       " 257: b' t',\n",
       " 258: b' a',\n",
       " 259: b'he',\n",
       " 260: b'in',\n",
       " 261: b' the',\n",
       " 262: b're',\n",
       " 263: b' o',\n",
       " 264: b' ,',\n",
       " 265: b'er',\n",
       " 266: b' s',\n",
       " 267: b'at',\n",
       " 268: b' .',\n",
       " 269: b'nd',\n",
       " 270: b'is',\n",
       " 271: b'or',\n",
       " 272: b' w',\n",
       " 273: b' c',\n",
       " 274: b'on',\n",
       " 275: b' b',\n",
       " 276: b' f',\n",
       " 277: b'ou',\n",
       " 278: b'it',\n",
       " 279: b'en',\n",
       " 280: b'es',\n",
       " 281: b' of',\n",
       " 282: b' p',\n",
       " 283: b'ing',\n",
       " 284: b' in',\n",
       " 285: b'ed',\n",
       " 286: b'al',\n",
       " 287: b' m',\n",
       " 288: b' and',\n",
       " 289: b' d',\n",
       " 290: b'an',\n",
       " 291: b'ar',\n",
       " 292: b' to',\n",
       " 293: b'om',\n",
       " 294: b' th',\n",
       " 295: b'ic',\n",
       " 296: b'ion',\n",
       " 297: b' h',\n",
       " 298: b' l',\n",
       " 299: b' y',\n",
       " 300: b' e',\n",
       " 301: b'as',\n",
       " 302: b'ot',\n",
       " 303: b'il',\n",
       " 304: b' n',\n",
       " 305: b' u',\n",
       " 306: b'ent',\n",
       " 307: b' be',\n",
       " 308: b' &',\n",
       " 309: b' is',\n",
       " 310: b' you',\n",
       " 311: b'os',\n",
       " 312: b' re',\n",
       " 313: b'et',\n",
       " 314: b' for',\n",
       " 315: b'ut',\n",
       " 316: b'el',\n",
       " 317: b' g',\n",
       " 318: b'ay',\n",
       " 319: b'st',\n",
       " 320: b'ow',\n",
       " 321: b'le',\n",
       " 322: b'ce',\n",
       " 323: b'ad',\n",
       " 324: b' on',\n",
       " 325: b' I',\n",
       " 326: b'ver',\n",
       " 327: b've',\n",
       " 328: b' A',\n",
       " 329: b'ur',\n",
       " 330: b'ol',\n",
       " 331: b'ct',\n",
       " 332: b'qu',\n",
       " 333: b' that',\n",
       " 334: b'im',\n",
       " 335: b'all',\n",
       " 336: b'am',\n",
       " 337: b'ig',\n",
       " 338: b'ch',\n",
       " 339: b'ation',\n",
       " 340: b' P',\n",
       " 341: b'ith',\n",
       " 342: b'ir',\n",
       " 343: b' S',\n",
       " 344: b' it',\n",
       " 345: b' pr',\n",
       " 346: b'ap',\n",
       " 347: b' sh',\n",
       " 348: b' C',\n",
       " 349: b'th',\n",
       " 350: b' com',\n",
       " 351: b' @',\n",
       " 352: b' wh',\n",
       " 353: b'-@',\n",
       " 354: b' are',\n",
       " 355: b' @-@',\n",
       " 356: b'nt',\n",
       " 357: b'id',\n",
       " 358: b' with',\n",
       " 359: b' al',\n",
       " 360: b'op',\n",
       " 361: b' us',\n",
       " 362: b'ers',\n",
       " 363: b' as',\n",
       " 364: b'the',\n",
       " 365: b'and',\n",
       " 366: b'if',\n",
       " 367: b'ord',\n",
       " 368: b'od',\n",
       " 369: b' he',\n",
       " 370: b'ist',\n",
       " 371: b'quot',\n",
       " 372: b'ment',\n",
       " 373: b' M',\n",
       " 374: b' or',\n",
       " 375: b'ore',\n",
       " 376: b' G',\n",
       " 377: b' fr',\n",
       " 378: b'ill',\n",
       " 379: b'res',\n",
       " 380: b' st',\n",
       " 381: b'ess',\n",
       " 382: b'ld',\n",
       " 383: b' this',\n",
       " 384: b' 2',\n",
       " 385: b'art',\n",
       " 386: b' ;',\n",
       " 387: b' L',\n",
       " 388: b'ly',\n",
       " 389: b'ain',\n",
       " 390: b'ul',\n",
       " 391: b' de',\n",
       " 392: b' con',\n",
       " 393: b'est',\n",
       " 394: b'se',\n",
       " 395: b'apos',\n",
       " 396: b'ag',\n",
       " 397: b' from',\n",
       " 398: b' an',\n",
       " 399: b' we',\n",
       " 400: b' (',\n",
       " 401: b'00',\n",
       " 402: b'ter',\n",
       " 403: b' E',\n",
       " 404: b'em',\n",
       " 405: b'ave',\n",
       " 406: b' not',\n",
       " 407: b' )',\n",
       " 408: b' 1',\n",
       " 409: b' your',\n",
       " 410: b'oc',\n",
       " 411: b' can',\n",
       " 412: b' by',\n",
       " 413: b' D',\n",
       " 414: b' ne',\n",
       " 415: b' v',\n",
       " 416: b'igh',\n",
       " 417: b'ich',\n",
       " 418: b' all',\n",
       " 419: b'ri',\n",
       " 420: b' up',\n",
       " 421: b' r',\n",
       " 422: b' W',\n",
       " 423: b'ble',\n",
       " 424: b' they',\n",
       " 425: b' B',\n",
       " 426: b'un',\n",
       " 427: b' ye',\n",
       " 428: b' which',\n",
       " 429: b' O',\n",
       " 430: b'ke',\n",
       " 431: b' wor',\n",
       " 432: b' su',\n",
       " 433: b' F',\n",
       " 434: b' H',\n",
       " 435: b' have',\n",
       " 436: b'ate',\n",
       " 437: b' shall',\n",
       " 438: b' ch',\n",
       " 439: b'ect',\n",
       " 440: b'ity',\n",
       " 441: b' sp',\n",
       " 442: b'ress',\n",
       " 443: b'ight',\n",
       " 444: b' will',\n",
       " 445: b' comp',\n",
       " 446: b'ort',\n",
       " 447: b'ant',\n",
       " 448: b' &#',\n",
       " 449: b'ive',\n",
       " 450: b'are',\n",
       " 451: b'..',\n",
       " 452: b' ex',\n",
       " 453: b' And',\n",
       " 454: b' ...',\n",
       " 455: b'ast',\n",
       " 456: b'24',\n",
       " 457: b' T',\n",
       " 458: b'ould',\n",
       " 459: b'ven',\n",
       " 460: b' tr',\n",
       " 461: b'ust',\n",
       " 462: b'um',\n",
       " 463: b'out',\n",
       " 464: b'com',\n",
       " 465: b' unt',\n",
       " 466: b' se',\n",
       " 467: b'ft',\n",
       " 468: b'ree',\n",
       " 469: b'ost',\n",
       " 470: b'og',\n",
       " 471: b'ish',\n",
       " 472: b'ions',\n",
       " 473: b'iz',\n",
       " 474: b'124',\n",
       " 475: b' unto',\n",
       " 476: b'mer',\n",
       " 477: b'ings',\n",
       " 478: b' ac',\n",
       " 479: b'this',\n",
       " 480: b'ated',\n",
       " 481: b'ac',\n",
       " 482: b'lu',\n",
       " 483: b'ere',\n",
       " 484: b' man',\n",
       " 485: b'for',\n",
       " 486: b' my',\n",
       " 487: b' at',\n",
       " 488: b'ies',\n",
       " 489: b'age',\n",
       " 490: b'rou',\n",
       " 491: b'lo',\n",
       " 492: b'ans',\n",
       " 493: b'pp',\n",
       " 494: b'ind',\n",
       " 495: b' work',\n",
       " 496: b'here',\n",
       " 497: b'fore',\n",
       " 498: b' sit',\n",
       " 499: b' ver'}"
      ]
     },
     "execution_count": 166,
     "metadata": {},
     "output_type": "execute_result"
    }
   ],
   "execution_count": 166
  },
  {
   "metadata": {
    "ExecuteTime": {
     "end_time": "2025-08-08T21:57:08.239478Z",
     "start_time": "2025-08-08T21:57:08.235493Z"
    }
   },
   "cell_type": "code",
   "source": "my_vocab_new",
   "id": "d9ac89838bb2f1df",
   "outputs": [
    {
     "data": {
      "text/plain": [
       "{0: b'\\x00',\n",
       " 1: b'\\x01',\n",
       " 2: b'\\x02',\n",
       " 3: b'\\x03',\n",
       " 4: b'\\x04',\n",
       " 5: b'\\x05',\n",
       " 6: b'\\x06',\n",
       " 7: b'\\x07',\n",
       " 8: b'\\x08',\n",
       " 9: b'\\t',\n",
       " 10: b'\\n',\n",
       " 11: b'\\x0b',\n",
       " 12: b'\\x0c',\n",
       " 13: b'\\r',\n",
       " 14: b'\\x0e',\n",
       " 15: b'\\x0f',\n",
       " 16: b'\\x10',\n",
       " 17: b'\\x11',\n",
       " 18: b'\\x12',\n",
       " 19: b'\\x13',\n",
       " 20: b'\\x14',\n",
       " 21: b'\\x15',\n",
       " 22: b'\\x16',\n",
       " 23: b'\\x17',\n",
       " 24: b'\\x18',\n",
       " 25: b'\\x19',\n",
       " 26: b'\\x1a',\n",
       " 27: b'\\x1b',\n",
       " 28: b'\\x1c',\n",
       " 29: b'\\x1d',\n",
       " 30: b'\\x1e',\n",
       " 31: b'\\x1f',\n",
       " 32: b' ',\n",
       " 33: b'!',\n",
       " 34: b'\"',\n",
       " 35: b'#',\n",
       " 36: b'$',\n",
       " 37: b'%',\n",
       " 38: b'&',\n",
       " 39: b\"'\",\n",
       " 40: b'(',\n",
       " 41: b')',\n",
       " 42: b'*',\n",
       " 43: b'+',\n",
       " 44: b',',\n",
       " 45: b'-',\n",
       " 46: b'.',\n",
       " 47: b'/',\n",
       " 48: b'0',\n",
       " 49: b'1',\n",
       " 50: b'2',\n",
       " 51: b'3',\n",
       " 52: b'4',\n",
       " 53: b'5',\n",
       " 54: b'6',\n",
       " 55: b'7',\n",
       " 56: b'8',\n",
       " 57: b'9',\n",
       " 58: b':',\n",
       " 59: b';',\n",
       " 60: b'<',\n",
       " 61: b'=',\n",
       " 62: b'>',\n",
       " 63: b'?',\n",
       " 64: b'@',\n",
       " 65: b'A',\n",
       " 66: b'B',\n",
       " 67: b'C',\n",
       " 68: b'D',\n",
       " 69: b'E',\n",
       " 70: b'F',\n",
       " 71: b'G',\n",
       " 72: b'H',\n",
       " 73: b'I',\n",
       " 74: b'J',\n",
       " 75: b'K',\n",
       " 76: b'L',\n",
       " 77: b'M',\n",
       " 78: b'N',\n",
       " 79: b'O',\n",
       " 80: b'P',\n",
       " 81: b'Q',\n",
       " 82: b'R',\n",
       " 83: b'S',\n",
       " 84: b'T',\n",
       " 85: b'U',\n",
       " 86: b'V',\n",
       " 87: b'W',\n",
       " 88: b'X',\n",
       " 89: b'Y',\n",
       " 90: b'Z',\n",
       " 91: b'[',\n",
       " 92: b'\\\\',\n",
       " 93: b']',\n",
       " 94: b'^',\n",
       " 95: b'_',\n",
       " 96: b'`',\n",
       " 97: b'a',\n",
       " 98: b'b',\n",
       " 99: b'c',\n",
       " 100: b'd',\n",
       " 101: b'e',\n",
       " 102: b'f',\n",
       " 103: b'g',\n",
       " 104: b'h',\n",
       " 105: b'i',\n",
       " 106: b'j',\n",
       " 107: b'k',\n",
       " 108: b'l',\n",
       " 109: b'm',\n",
       " 110: b'n',\n",
       " 111: b'o',\n",
       " 112: b'p',\n",
       " 113: b'q',\n",
       " 114: b'r',\n",
       " 115: b's',\n",
       " 116: b't',\n",
       " 117: b'u',\n",
       " 118: b'v',\n",
       " 119: b'w',\n",
       " 120: b'x',\n",
       " 121: b'y',\n",
       " 122: b'z',\n",
       " 123: b'{',\n",
       " 124: b'|',\n",
       " 125: b'}',\n",
       " 126: b'~',\n",
       " 127: b'\\x7f',\n",
       " 128: b'\\x80',\n",
       " 129: b'\\x81',\n",
       " 130: b'\\x82',\n",
       " 131: b'\\x83',\n",
       " 132: b'\\x84',\n",
       " 133: b'\\x85',\n",
       " 134: b'\\x86',\n",
       " 135: b'\\x87',\n",
       " 136: b'\\x88',\n",
       " 137: b'\\x89',\n",
       " 138: b'\\x8a',\n",
       " 139: b'\\x8b',\n",
       " 140: b'\\x8c',\n",
       " 141: b'\\x8d',\n",
       " 142: b'\\x8e',\n",
       " 143: b'\\x8f',\n",
       " 144: b'\\x90',\n",
       " 145: b'\\x91',\n",
       " 146: b'\\x92',\n",
       " 147: b'\\x93',\n",
       " 148: b'\\x94',\n",
       " 149: b'\\x95',\n",
       " 150: b'\\x96',\n",
       " 151: b'\\x97',\n",
       " 152: b'\\x98',\n",
       " 153: b'\\x99',\n",
       " 154: b'\\x9a',\n",
       " 155: b'\\x9b',\n",
       " 156: b'\\x9c',\n",
       " 157: b'\\x9d',\n",
       " 158: b'\\x9e',\n",
       " 159: b'\\x9f',\n",
       " 160: b'\\xa0',\n",
       " 161: b'\\xa1',\n",
       " 162: b'\\xa2',\n",
       " 163: b'\\xa3',\n",
       " 164: b'\\xa4',\n",
       " 165: b'\\xa5',\n",
       " 166: b'\\xa6',\n",
       " 167: b'\\xa7',\n",
       " 168: b'\\xa8',\n",
       " 169: b'\\xa9',\n",
       " 170: b'\\xaa',\n",
       " 171: b'\\xab',\n",
       " 172: b'\\xac',\n",
       " 173: b'\\xad',\n",
       " 174: b'\\xae',\n",
       " 175: b'\\xaf',\n",
       " 176: b'\\xb0',\n",
       " 177: b'\\xb1',\n",
       " 178: b'\\xb2',\n",
       " 179: b'\\xb3',\n",
       " 180: b'\\xb4',\n",
       " 181: b'\\xb5',\n",
       " 182: b'\\xb6',\n",
       " 183: b'\\xb7',\n",
       " 184: b'\\xb8',\n",
       " 185: b'\\xb9',\n",
       " 186: b'\\xba',\n",
       " 187: b'\\xbb',\n",
       " 188: b'\\xbc',\n",
       " 189: b'\\xbd',\n",
       " 190: b'\\xbe',\n",
       " 191: b'\\xbf',\n",
       " 192: b'\\xc0',\n",
       " 193: b'\\xc1',\n",
       " 194: b'\\xc2',\n",
       " 195: b'\\xc3',\n",
       " 196: b'\\xc4',\n",
       " 197: b'\\xc5',\n",
       " 198: b'\\xc6',\n",
       " 199: b'\\xc7',\n",
       " 200: b'\\xc8',\n",
       " 201: b'\\xc9',\n",
       " 202: b'\\xca',\n",
       " 203: b'\\xcb',\n",
       " 204: b'\\xcc',\n",
       " 205: b'\\xcd',\n",
       " 206: b'\\xce',\n",
       " 207: b'\\xcf',\n",
       " 208: b'\\xd0',\n",
       " 209: b'\\xd1',\n",
       " 210: b'\\xd2',\n",
       " 211: b'\\xd3',\n",
       " 212: b'\\xd4',\n",
       " 213: b'\\xd5',\n",
       " 214: b'\\xd6',\n",
       " 215: b'\\xd7',\n",
       " 216: b'\\xd8',\n",
       " 217: b'\\xd9',\n",
       " 218: b'\\xda',\n",
       " 219: b'\\xdb',\n",
       " 220: b'\\xdc',\n",
       " 221: b'\\xdd',\n",
       " 222: b'\\xde',\n",
       " 223: b'\\xdf',\n",
       " 224: b'\\xe0',\n",
       " 225: b'\\xe1',\n",
       " 226: b'\\xe2',\n",
       " 227: b'\\xe3',\n",
       " 228: b'\\xe4',\n",
       " 229: b'\\xe5',\n",
       " 230: b'\\xe6',\n",
       " 231: b'\\xe7',\n",
       " 232: b'\\xe8',\n",
       " 233: b'\\xe9',\n",
       " 234: b'\\xea',\n",
       " 235: b'\\xeb',\n",
       " 236: b'\\xec',\n",
       " 237: b'\\xed',\n",
       " 238: b'\\xee',\n",
       " 239: b'\\xef',\n",
       " 240: b'\\xf0',\n",
       " 241: b'\\xf1',\n",
       " 242: b'\\xf2',\n",
       " 243: b'\\xf3',\n",
       " 244: b'\\xf4',\n",
       " 245: b'\\xf5',\n",
       " 246: b'\\xf6',\n",
       " 247: b'\\xf7',\n",
       " 248: b'\\xf8',\n",
       " 249: b'\\xf9',\n",
       " 250: b'\\xfa',\n",
       " 251: b'\\xfb',\n",
       " 252: b'\\xfc',\n",
       " 253: b'\\xfd',\n",
       " 254: b'\\xfe',\n",
       " 255: b'\\xff',\n",
       " 256: b'<|endoftext|>',\n",
       " 257: b' t',\n",
       " 258: b' a',\n",
       " 259: b'he',\n",
       " 260: b'in',\n",
       " 261: b' the',\n",
       " 262: b're',\n",
       " 263: b' o',\n",
       " 264: b' ,',\n",
       " 265: b'er',\n",
       " 266: b' s',\n",
       " 267: b'at',\n",
       " 268: b' .',\n",
       " 269: b'nd',\n",
       " 270: b'is',\n",
       " 271: b'or',\n",
       " 272: b' w',\n",
       " 273: b' c',\n",
       " 274: b'on',\n",
       " 275: b' b',\n",
       " 276: b' f',\n",
       " 277: b'ou',\n",
       " 278: b'it',\n",
       " 279: b'en',\n",
       " 280: b'es',\n",
       " 281: b' of',\n",
       " 282: b' p',\n",
       " 283: b'ing',\n",
       " 284: b' in',\n",
       " 285: b'ed',\n",
       " 286: b'al',\n",
       " 287: b' m',\n",
       " 288: b' and',\n",
       " 289: b' d',\n",
       " 290: b'an',\n",
       " 291: b'ar',\n",
       " 292: b' to',\n",
       " 293: b'om',\n",
       " 294: b' th',\n",
       " 295: b'ic',\n",
       " 296: b'ion',\n",
       " 297: b' h',\n",
       " 298: b' l',\n",
       " 299: b' y',\n",
       " 300: b' e',\n",
       " 301: b'as',\n",
       " 302: b'ot',\n",
       " 303: b'il',\n",
       " 304: b' n',\n",
       " 305: b' u',\n",
       " 306: b'ent',\n",
       " 307: b' be',\n",
       " 308: b' &',\n",
       " 309: b' is',\n",
       " 310: b' you',\n",
       " 311: b'os',\n",
       " 312: b' re',\n",
       " 313: b'et',\n",
       " 314: b' for',\n",
       " 315: b'ut',\n",
       " 316: b'el',\n",
       " 317: b' g',\n",
       " 318: b'ay',\n",
       " 319: b'st',\n",
       " 320: b'ow',\n",
       " 321: b'le',\n",
       " 322: b'ce',\n",
       " 323: b'ad',\n",
       " 324: b' on',\n",
       " 325: b' I',\n",
       " 326: b'ver',\n",
       " 327: b've',\n",
       " 328: b' A',\n",
       " 329: b'ur',\n",
       " 330: b'ol',\n",
       " 331: b'ct',\n",
       " 332: b'qu',\n",
       " 333: b' that',\n",
       " 334: b'im',\n",
       " 335: b'all',\n",
       " 336: b'am',\n",
       " 337: b'ig',\n",
       " 338: b'ch',\n",
       " 339: b'ation',\n",
       " 340: b' P',\n",
       " 341: b'ith',\n",
       " 342: b'ir',\n",
       " 343: b' S',\n",
       " 344: b' it',\n",
       " 345: b' pr',\n",
       " 346: b'ap',\n",
       " 347: b' sh',\n",
       " 348: b' C',\n",
       " 349: b'th',\n",
       " 350: b' com',\n",
       " 351: b' @',\n",
       " 352: b' wh',\n",
       " 353: b'-@',\n",
       " 354: b' are',\n",
       " 355: b' @-@',\n",
       " 356: b'nt',\n",
       " 357: b'id',\n",
       " 358: b' with',\n",
       " 359: b' al',\n",
       " 360: b'op',\n",
       " 361: b' us',\n",
       " 362: b'ers',\n",
       " 363: b' as',\n",
       " 364: b'the',\n",
       " 365: b'and',\n",
       " 366: b'if',\n",
       " 367: b'ord',\n",
       " 368: b'od',\n",
       " 369: b' he',\n",
       " 370: b'ist',\n",
       " 371: b'quot',\n",
       " 372: b'ment',\n",
       " 373: b' M',\n",
       " 374: b' or',\n",
       " 375: b'ore',\n",
       " 376: b' G',\n",
       " 377: b' fr',\n",
       " 378: b'ill',\n",
       " 379: b'res',\n",
       " 380: b' st',\n",
       " 381: b'ess',\n",
       " 382: b'ld',\n",
       " 383: b' this',\n",
       " 384: b' 2',\n",
       " 385: b'art',\n",
       " 386: b' ;',\n",
       " 387: b' L',\n",
       " 388: b'ly',\n",
       " 389: b'ain',\n",
       " 390: b'ul',\n",
       " 391: b' de',\n",
       " 392: b' con',\n",
       " 393: b'est',\n",
       " 394: b'se',\n",
       " 395: b'apos',\n",
       " 396: b'ag',\n",
       " 397: b' from',\n",
       " 398: b' an',\n",
       " 399: b' we',\n",
       " 400: b' (',\n",
       " 401: b'00',\n",
       " 402: b'ter',\n",
       " 403: b' E',\n",
       " 404: b'em',\n",
       " 405: b'ave',\n",
       " 406: b' not',\n",
       " 407: b' )',\n",
       " 408: b' 1',\n",
       " 409: b' your',\n",
       " 410: b'oc',\n",
       " 411: b' can',\n",
       " 412: b' by',\n",
       " 413: b' D',\n",
       " 414: b' ne',\n",
       " 415: b' v',\n",
       " 416: b'igh',\n",
       " 417: b'ich',\n",
       " 418: b' all',\n",
       " 419: b'ri',\n",
       " 420: b' up',\n",
       " 421: b' r',\n",
       " 422: b' W',\n",
       " 423: b'ble',\n",
       " 424: b' they',\n",
       " 425: b' B',\n",
       " 426: b'un',\n",
       " 427: b' ye',\n",
       " 428: b' which',\n",
       " 429: b' O',\n",
       " 430: b'ke',\n",
       " 431: b' wor',\n",
       " 432: b' su',\n",
       " 433: b' F',\n",
       " 434: b' H',\n",
       " 435: b' have',\n",
       " 436: b'ate',\n",
       " 437: b' shall',\n",
       " 438: b' ch',\n",
       " 439: b'ect',\n",
       " 440: b'ity',\n",
       " 441: b' sp',\n",
       " 442: b'ress',\n",
       " 443: b'ight',\n",
       " 444: b' will',\n",
       " 445: b' comp',\n",
       " 446: b'ort',\n",
       " 447: b'ant',\n",
       " 448: b' &#',\n",
       " 449: b'ive',\n",
       " 450: b'are',\n",
       " 451: b'..',\n",
       " 452: b' ex',\n",
       " 453: b' And',\n",
       " 454: b' ...',\n",
       " 455: b'ast',\n",
       " 456: b'24',\n",
       " 457: b' T',\n",
       " 458: b'ould',\n",
       " 459: b'ven',\n",
       " 460: b' tr',\n",
       " 461: b'ust',\n",
       " 462: b'um',\n",
       " 463: b'out',\n",
       " 464: b'com',\n",
       " 465: b' unt',\n",
       " 466: b' se',\n",
       " 467: b'ft',\n",
       " 468: b'ree',\n",
       " 469: b'ost',\n",
       " 470: b'og',\n",
       " 471: b'ish',\n",
       " 472: b'ions',\n",
       " 473: b'iz',\n",
       " 474: b'124',\n",
       " 475: b' unto',\n",
       " 476: b'mer',\n",
       " 477: b'ings',\n",
       " 478: b' ac',\n",
       " 479: b'this',\n",
       " 480: b'ated',\n",
       " 481: b'ac',\n",
       " 482: b'lu',\n",
       " 483: b'ere',\n",
       " 484: b' man',\n",
       " 485: b'for',\n",
       " 486: b' my',\n",
       " 487: b' at',\n",
       " 488: b'ies',\n",
       " 489: b'age',\n",
       " 490: b'rou',\n",
       " 491: b'lo',\n",
       " 492: b'ans',\n",
       " 493: b'pp',\n",
       " 494: b'ind',\n",
       " 495: b' work',\n",
       " 496: b'here',\n",
       " 497: b'fore',\n",
       " 498: b' sit',\n",
       " 499: b' ver'}"
      ]
     },
     "execution_count": 170,
     "metadata": {},
     "output_type": "execute_result"
    }
   ],
   "execution_count": 170
  },
  {
   "metadata": {
    "ExecuteTime": {
     "end_time": "2025-08-08T22:00:03.290197Z",
     "start_time": "2025-08-08T22:00:03.287075Z"
    }
   },
   "cell_type": "code",
   "source": "b'\\x00'.decode('utf-8')",
   "id": "c50514d116e41b3f",
   "outputs": [
    {
     "data": {
      "text/plain": [
       "'\\x00'"
      ]
     },
     "execution_count": 179,
     "metadata": {},
     "output_type": "execute_result"
    }
   ],
   "execution_count": 179
  },
  {
   "metadata": {
    "ExecuteTime": {
     "end_time": "2025-08-08T22:01:16.981620Z",
     "start_time": "2025-08-08T22:01:16.979727Z"
    }
   },
   "cell_type": "code",
   "source": "ord(b'!')",
   "id": "ec88187d21b249c9",
   "outputs": [
    {
     "data": {
      "text/plain": [
       "33"
      ]
     },
     "execution_count": 182,
     "metadata": {},
     "output_type": "execute_result"
    }
   ],
   "execution_count": 182
  },
  {
   "metadata": {
    "ExecuteTime": {
     "end_time": "2025-08-08T22:25:19.682982Z",
     "start_time": "2025-08-08T22:25:19.680648Z"
    }
   },
   "cell_type": "code",
   "source": [
    "unique_chars = [chr(i) for i in range(256)]\n",
    "unique_chars"
   ],
   "id": "90f0620567280a9f",
   "outputs": [
    {
     "data": {
      "text/plain": [
       "['\\x00',\n",
       " '\\x01',\n",
       " '\\x02',\n",
       " '\\x03',\n",
       " '\\x04',\n",
       " '\\x05',\n",
       " '\\x06',\n",
       " '\\x07',\n",
       " '\\x08',\n",
       " '\\t',\n",
       " '\\n',\n",
       " '\\x0b',\n",
       " '\\x0c',\n",
       " '\\r',\n",
       " '\\x0e',\n",
       " '\\x0f',\n",
       " '\\x10',\n",
       " '\\x11',\n",
       " '\\x12',\n",
       " '\\x13',\n",
       " '\\x14',\n",
       " '\\x15',\n",
       " '\\x16',\n",
       " '\\x17',\n",
       " '\\x18',\n",
       " '\\x19',\n",
       " '\\x1a',\n",
       " '\\x1b',\n",
       " '\\x1c',\n",
       " '\\x1d',\n",
       " '\\x1e',\n",
       " '\\x1f',\n",
       " ' ',\n",
       " '!',\n",
       " '\"',\n",
       " '#',\n",
       " '$',\n",
       " '%',\n",
       " '&',\n",
       " \"'\",\n",
       " '(',\n",
       " ')',\n",
       " '*',\n",
       " '+',\n",
       " ',',\n",
       " '-',\n",
       " '.',\n",
       " '/',\n",
       " '0',\n",
       " '1',\n",
       " '2',\n",
       " '3',\n",
       " '4',\n",
       " '5',\n",
       " '6',\n",
       " '7',\n",
       " '8',\n",
       " '9',\n",
       " ':',\n",
       " ';',\n",
       " '<',\n",
       " '=',\n",
       " '>',\n",
       " '?',\n",
       " '@',\n",
       " 'A',\n",
       " 'B',\n",
       " 'C',\n",
       " 'D',\n",
       " 'E',\n",
       " 'F',\n",
       " 'G',\n",
       " 'H',\n",
       " 'I',\n",
       " 'J',\n",
       " 'K',\n",
       " 'L',\n",
       " 'M',\n",
       " 'N',\n",
       " 'O',\n",
       " 'P',\n",
       " 'Q',\n",
       " 'R',\n",
       " 'S',\n",
       " 'T',\n",
       " 'U',\n",
       " 'V',\n",
       " 'W',\n",
       " 'X',\n",
       " 'Y',\n",
       " 'Z',\n",
       " '[',\n",
       " '\\\\',\n",
       " ']',\n",
       " '^',\n",
       " '_',\n",
       " '`',\n",
       " 'a',\n",
       " 'b',\n",
       " 'c',\n",
       " 'd',\n",
       " 'e',\n",
       " 'f',\n",
       " 'g',\n",
       " 'h',\n",
       " 'i',\n",
       " 'j',\n",
       " 'k',\n",
       " 'l',\n",
       " 'm',\n",
       " 'n',\n",
       " 'o',\n",
       " 'p',\n",
       " 'q',\n",
       " 'r',\n",
       " 's',\n",
       " 't',\n",
       " 'u',\n",
       " 'v',\n",
       " 'w',\n",
       " 'x',\n",
       " 'y',\n",
       " 'z',\n",
       " '{',\n",
       " '|',\n",
       " '}',\n",
       " '~',\n",
       " '\\x7f',\n",
       " '\\x80',\n",
       " '\\x81',\n",
       " '\\x82',\n",
       " '\\x83',\n",
       " '\\x84',\n",
       " '\\x85',\n",
       " '\\x86',\n",
       " '\\x87',\n",
       " '\\x88',\n",
       " '\\x89',\n",
       " '\\x8a',\n",
       " '\\x8b',\n",
       " '\\x8c',\n",
       " '\\x8d',\n",
       " '\\x8e',\n",
       " '\\x8f',\n",
       " '\\x90',\n",
       " '\\x91',\n",
       " '\\x92',\n",
       " '\\x93',\n",
       " '\\x94',\n",
       " '\\x95',\n",
       " '\\x96',\n",
       " '\\x97',\n",
       " '\\x98',\n",
       " '\\x99',\n",
       " '\\x9a',\n",
       " '\\x9b',\n",
       " '\\x9c',\n",
       " '\\x9d',\n",
       " '\\x9e',\n",
       " '\\x9f',\n",
       " '\\xa0',\n",
       " '¡',\n",
       " '¢',\n",
       " '£',\n",
       " '¤',\n",
       " '¥',\n",
       " '¦',\n",
       " '§',\n",
       " '¨',\n",
       " '©',\n",
       " 'ª',\n",
       " '«',\n",
       " '¬',\n",
       " '\\xad',\n",
       " '®',\n",
       " '¯',\n",
       " '°',\n",
       " '±',\n",
       " '²',\n",
       " '³',\n",
       " '´',\n",
       " 'µ',\n",
       " '¶',\n",
       " '·',\n",
       " '¸',\n",
       " '¹',\n",
       " 'º',\n",
       " '»',\n",
       " '¼',\n",
       " '½',\n",
       " '¾',\n",
       " '¿',\n",
       " 'À',\n",
       " 'Á',\n",
       " 'Â',\n",
       " 'Ã',\n",
       " 'Ä',\n",
       " 'Å',\n",
       " 'Æ',\n",
       " 'Ç',\n",
       " 'È',\n",
       " 'É',\n",
       " 'Ê',\n",
       " 'Ë',\n",
       " 'Ì',\n",
       " 'Í',\n",
       " 'Î',\n",
       " 'Ï',\n",
       " 'Ð',\n",
       " 'Ñ',\n",
       " 'Ò',\n",
       " 'Ó',\n",
       " 'Ô',\n",
       " 'Õ',\n",
       " 'Ö',\n",
       " '×',\n",
       " 'Ø',\n",
       " 'Ù',\n",
       " 'Ú',\n",
       " 'Û',\n",
       " 'Ü',\n",
       " 'Ý',\n",
       " 'Þ',\n",
       " 'ß',\n",
       " 'à',\n",
       " 'á',\n",
       " 'â',\n",
       " 'ã',\n",
       " 'ä',\n",
       " 'å',\n",
       " 'æ',\n",
       " 'ç',\n",
       " 'è',\n",
       " 'é',\n",
       " 'ê',\n",
       " 'ë',\n",
       " 'ì',\n",
       " 'í',\n",
       " 'î',\n",
       " 'ï',\n",
       " 'ð',\n",
       " 'ñ',\n",
       " 'ò',\n",
       " 'ó',\n",
       " 'ô',\n",
       " 'õ',\n",
       " 'ö',\n",
       " '÷',\n",
       " 'ø',\n",
       " 'ù',\n",
       " 'ú',\n",
       " 'û',\n",
       " 'ü',\n",
       " 'ý',\n",
       " 'þ',\n",
       " 'ÿ']"
      ]
     },
     "execution_count": 184,
     "metadata": {},
     "output_type": "execute_result"
    }
   ],
   "execution_count": 184
  },
  {
   "metadata": {
    "ExecuteTime": {
     "end_time": "2025-08-08T22:25:43.513601Z",
     "start_time": "2025-08-08T22:25:43.511810Z"
    }
   },
   "cell_type": "code",
   "source": "unique_chars[0]",
   "id": "d62dea795edaaed4",
   "outputs": [
    {
     "data": {
      "text/plain": [
       "'\\x00'"
      ]
     },
     "execution_count": 185,
     "metadata": {},
     "output_type": "execute_result"
    }
   ],
   "execution_count": 185
  },
  {
   "metadata": {
    "ExecuteTime": {
     "end_time": "2025-08-08T22:26:02.237355Z",
     "start_time": "2025-08-08T22:26:02.235526Z"
    }
   },
   "cell_type": "code",
   "source": "reference_vocab[1]",
   "id": "ab3079ec32530cf8",
   "outputs": [
    {
     "data": {
      "text/plain": [
       "b'!'"
      ]
     },
     "execution_count": 187,
     "metadata": {},
     "output_type": "execute_result"
    }
   ],
   "execution_count": 187
  },
  {
   "metadata": {
    "ExecuteTime": {
     "end_time": "2025-08-08T21:56:27.380894Z",
     "start_time": "2025-08-08T21:56:27.378609Z"
    }
   },
   "cell_type": "code",
   "source": [
    "# Check that the special token is not in the vocab\n",
    "vocabs_without_specials = [word for word in my_vocab_new.values() if word != b\"<|endoftext|>\"]\n",
    "for word_bytes in vocabs_without_specials:\n",
    "    assert b\"<|\" not in word_bytes"
   ],
   "id": "831dbae3cc72e4b3",
   "outputs": [],
   "execution_count": 168
  },
  {
   "metadata": {
    "ExecuteTime": {
     "end_time": "2025-08-08T22:27:27.723341Z",
     "start_time": "2025-08-08T22:27:27.719656Z"
    }
   },
   "cell_type": "code",
   "source": [
    "for val in my_vocab_new.values():\n",
    "    if val not in reference_vocab.values():\n",
    "        print(val)"
   ],
   "id": "61217dd66157171f",
   "outputs": [],
   "execution_count": 189
  },
  {
   "metadata": {
    "ExecuteTime": {
     "end_time": "2025-08-08T22:27:47.239838Z",
     "start_time": "2025-08-08T22:27:47.237779Z"
    }
   },
   "cell_type": "code",
   "source": [
    "for val in reference_vocab.values():\n",
    "    if val not in my_vocab_new.values():\n",
    "        print(val)"
   ],
   "id": "3361f0fd3186bb0a",
   "outputs": [],
   "execution_count": 190
  },
  {
   "metadata": {},
   "cell_type": "code",
   "outputs": [],
   "execution_count": null,
   "source": "",
   "id": "edd8a4b7acd9547"
  },
  {
   "metadata": {},
   "cell_type": "code",
   "outputs": [],
   "execution_count": null,
   "source": "",
   "id": "2fa2670421f14c10"
  },
  {
   "metadata": {
    "ExecuteTime": {
     "end_time": "2025-08-08T22:48:25.630992Z",
     "start_time": "2025-08-08T22:48:25.607562Z"
    }
   },
   "cell_type": "code",
   "source": "actual = {'vocab_keys': {0, 1, 2, 3, 4, 5, 6, 7, 8, 9, 10, 11, 12, 13, 14, 15, 16, 17, 18, 19, 20, 21, 22, 23, 24, 25, 26, 27, 28, 29, 30, 31, 32, 33, 34, 35, 36, 37, 38, 39, 40, 41, 42, 43, 44, 45, 46, 47, 48, 49, 50, 51, 52, 53, 54, 55, 56, 57, 58, 59, 60, 61, 62, 63, 64, 65, 66, 67, 68, 69, 70, 71, 72, 73, 74, 75, 76, 77, 78, 79, 80, 81, 82, 83, 84, 85, 86, 87, 88, 89, 90, 91, 92, 93, 94, 95, 96, 97, 98, 99, 100, 101, 102, 103, 104, 105, 106, 107, 108, 109, 110, 111, 112, 113, 114, 115, 116, 117, 118, 119, 120, 121, 122, 123, 124, 125, 126, 127, 128, 129, 130, 131, 132, 133, 134, 135, 136, 137, 138, 139, 140, 141, 142, 143, 144, 145, 146, 147, 148, 149, 150, 151, 152, 153, 154, 155, 156, 157, 158, 159, 160, 161, 162, 163, 164, 165, 166, 167, 168, 169, 170, 171, 172, 173, 174, 175, 176, 177, 178, 179, 180, 181, 182, 183, 184, 185, 186, 187, 188, 189, 190, 191, 192, 193, 194, 195, 196, 197, 198, 199, 200, 201, 202, 203, 204, 205, 206, 207, 208, 209, 210, 211, 212, 213, 214, 215, 216, 217, 218, 219, 220, 221, 222, 223, 224, 225, 226, 227, 228, 229, 230, 231, 232, 233, 234, 235, 236, 237, 238, 239, 240, 241, 242, 243, 244, 245, 246, 247, 248, 249, 250, 251, 252, 253, 254, 255, 256, 257, 258, 259, 260, 261, 262, 263, 264, 265, 266, 267, 268, 269, 270, 271, 272, 273, 274, 275, 276, 277, 278, 279, 280, 281, 282, 283, 284, 285, 286, 287, 288, 289, 290, 291, 292, 293, 294, 295, 296, 297, 298, 299, 300, 301, 302, 303, 304, 305, 306, 307, 308, 309, 310, 311, 312, 313, 314, 315, 316, 317, 318, 319, 320, 321, 322, 323, 324, 325, 326, 327, 328, 329, 330, 331, 332, 333, 334, 335, 336, 337, 338, 339, 340, 341, 342, 343, 344, 345, 346, 347, 348, 349, 350, 351, 352, 353, 354, 355, 356, 357, 358, 359, 360, 361, 362, 363, 364, 365, 366, 367, 368, 369, 370, 371, 372, 373, 374, 375, 376, 377, 378, 379, 380, 381, 382, 383, 384, 385, 386, 387, 388, 389, 390, 391, 392, 393, 394, 395, 396, 397, 398, 399, 400, 401, 402, 403, 404, 405, 406, 407, 408, 409, 410, 411, 412, 413, 414, 415, 416, 417, 418, 419, 420, 421, 422, 423, 424, 425, 426, 427, 428, 429, 430, 431, 432, 433, 434, 435, 436, 437, 438, 439, 440, 441, 442, 443, 444, 445, 446, 447, 448, 449, 450, 451, 452, 453, 454, 455, 456, 457, 458, 459, 460, 461, 462, 463, 464, 465, 466, 467, 468, 469, 470, 471, 472, 473, 474, 475, 476, 477, 478, 479, 480, 481, 482, 483, 484, 485, 486, 487, 488, 489, 490, 491, 492, 493, 494, 495, 496, 497, 498, 499, 500, 501, 502, 503, 504, 505, 506, 507, 508, 509, 510, 511, 512, 513, 514, 515, 516, 517, 518, 519, 520, 521, 522, 523, 524, 525, 526, 527, 528, 529, 530, 531, 532, 533, 534, 535, 536, 537, 538, 539, 540, 541, 542, 543, 544, 545, 546, 547, 548, 549, 550, 551, 552, 553, 554, 555, 556, 557, 558, 559, 560, 561, 562, 563, 564, 565, 566, 567, 568, 569, 570, 571, 572, 573, 574, 575, 576, 577, 578, 579, 580, 581, 582, 583, 584, 585, 586, 587, 588, 589, 590, 591, 592, 593, 594, 595, 596, 597, 598, 599, 600, 601, 602, 603, 604, 605, 606, 607, 608, 609, 610, 611, 612, 613, 614, 615, 616, 617, 618, 619, 620, 621, 622, 623, 624, 625, 626, 627, 628, 629, 630, 631, 632, 633, 634, 635, 636, 637, 638, 639, 640, 641, 642, 643, 644, 645, 646, 647, 648, 649, 650, 651, 652, 653, 654, 655, 656, 657, 658, 659, 660, 661, 662, 663, 664, 665, 666, 667, 668, 669, 670, 671, 672, 673, 674, 675, 676, 677, 678, 679, 680, 681, 682, 683, 684, 685, 686, 687, 688, 689, 690, 691, 692, 693, 694, 695, 696, 697, 698, 699, 700, 701, 702, 703, 704, 705, 706, 707, 708, 709, 710, 711, 712, 713, 714, 715, 716, 717, 718, 719, 720, 721, 722, 723, 724, 725, 726, 727, 728, 729, 730, 731, 732, 733, 734, 735, 736, 737, 738, 739, 740, 741, 742, 743, 744, 745, 746, 747, 748, 749, 750, 751, 752, 753, 754, 755, 756, 757, 758, 759, 760, 761, 762, 763, 764, 765, 766, 767, 768, 769, 770, 771, 772, 773, 774, 775, 776, 777, 778, 779, 780, 781, 782, 783, 784, 785, 786, 787, 788, 789, 790, 791, 792, 793, 794, 795, 796, 797, 798, 799, 800, 801, 802, 803, 804, 805, 806, 807, 808, 809, 810, 811, 812, 813, 814, 815, 816, 817, 818, 819, 820, 821, 822, 823, 824, 825, 826, 827, 828, 829, 830, 831, 832, 833, 834, 835, 836, 837, 838, 839, 840, 841, 842, 843, 844, 845, 846, 847, 848, 849, 850, 851, 852, 853, 854, 855, 856, 857, 858, 859, 860, 861, 862, 863, 864, 865, 866, 867, 868, 869, 870, 871, 872, 873, 874, 875, 876, 877, 878, 879, 880, 881, 882, 883, 884, 885, 886, 887, 888, 889, 890, 891, 892, 893, 894, 895, 896, 897, 898, 899, 900, 901, 902, 903, 904, 905, 906, 907, 908, 909, 910, 911, 912, 913, 914, 915, 916, 917, 918, 919, 920, 921, 922, 923, 924, 925, 926, 927, 928, 929, 930, 931, 932, 933, 934, 935, 936, 937, 938, 939, 940, 941, 942, 943, 944, 945, 946, 947, 948, 949, 950, 951, 952, 953, 954, 955, 956, 957, 958, 959, 960, 961, 962, 963, 964, 965, 966, 967, 968, 969, 970, 971, 972, 973, 974, 975, 976, 977, 978, 979, 980, 981, 982, 983, 984, 985, 986, 987, 988, 989, 990, 991, 992, 993, 994, 995, 996, 997, 998, 999}, 'vocab_values': {b' ta', b'ab', b\"'\", b'|', b'omet', b' col', b'\\x00', b'ile', b'aut', b' went', b'her', b'One', b'ec', b'^', b'\\xd0', b' nam', b' E', b' bear', b'ided', b'H', b' t', b'se', b'gether', b' no', b'\\xff', b' toys', b'ap', b'\\x90', b' each', b'ged', b' flow', b'Z', b'urt', b'E', b'\\xc0', b'\\xde', b'\\xf4', b'h', b' then', b' He', b' end', b' proud', b'ive', b'ft', b'ig', b' you', b' water', b'iz', b'ause', b'ber', b'\\xb6', b'ture', b' Th', b' hel', b't', b' loved', b' loud', b'expected', b're', b' wanted', b' from', b' bug', b'ite', b'ving', b' The', b',', b'\\x92', b'un', b'ro', b'~', b' gl', b' helped', b'\\xb4', b'uffy', b' and', b' got', b'pected', b' Sally', b'\\x10', b'\\xae', b' family', b' clo', b' sw', b' see', b'ome', b' fr', b'\\xf7', b' out', b' le', b' You', b' your', b' park', b' rock', b' surprised', b' sur', b' tow', b'he', b' bad', b' lot', b' w', b' sn', b' Mom', b'les', b'\\xe1', b' about', b' just', b'\\xd5', b'Mom', b'\\xf1', b'\\xad', b'gry', b' hurt', b'\\x18', b' clean', b' way', b'\\x03', b'\\x85', b' for', b' J', b'iled', b'K', b'ia', b'ild', b'\\x99', b' with', b' T', b'kay', b'c', b' happ', b' feel', b'\\x94', b'X', b' best', b'ri', b'nna', b' unt', b'ise', b'ch', b'at', b' after', b' K', b'T', b'\"', b'\\xc7', b' m', b'ce', b' cl', b'\\x88', b' put', b'ool', b'es', b' became', b' told', b' somet', b'Y', b'an', b'Once', b';', b' W', b' try', b'z', b' tw', b'ople', b' sorry', b'ic', b' hugged', b' mom', b'ady', b' mag', b' unexpected', b'\\x8d', b' ro', b' they', b'S', b'\\xe5', b'\\x8e', b'other', b' sk', b' special', b' would', b'all', b'ss', b' big', b'\\x8c', b'\\xec', b'\\xb9', b'on', b' away', b' shiny', b'\\n', b' color', b' F', b'\\xac', b' ab', b'ough', b' forest', b'k', b'\\xe0', b' d', b'ut', b' D', b' \"', b'ide', b' who', b' show', b' one', b'?', b'\\xb7', b'us', b' k', b' always', b'ff', b' eat', b'\\xfc', b' fly', b' time', b'ved', b' Mia', b'+', b'ge', b'ittle', b'ue', b' pr', b' now', b'id', b'king', b'\\x86', b' L', b'Wh', b' help', b'\\xfe', b'\\xcc', b' until', b' new', b' che', b'P', b'}', b'\\xd3', b'lf', b'ot', b' squ', b' cu', b' She', b' them', b' sun', b'As', b' more', b'ar', b' find', b' many', b' fl', b'ised', b'ven', b'way', b'pl', b'le', b' Spot', b' cat', b'ra', b' excited', b' star', b'\\xd4', b' felt', b'ul', b'here', b' n', b'ase', b'\\xf5', b'But', b' were', b\"'t\", b'ought', b'o', b' s', b' bird', b' Sue', b' call', b'itt', b'il', b'Q', b'st', b' opened', b'\\xea', b'\\xe2\\x80', b'?\"', b' started', b' un', b'et', b' its', b' blue', b'B', b'ax', b'\\xe4', b'ld', b'\\xb3', b'a', b' asked', b'e', b'\\xdd', b' lo', b'ur', b' say', b' ball', b' my', b' Lucy', b\"'s\", b'\\xbf', b' their', b'A', b' scared', b'uck', b'pped', b' ho', b'ht', b'rm', b' smiled', b' kn', b' p', b'iny', b'ug', b'dy', b' I', b'in', b'orn', b'\\xc5', b' bl', b'\\xb8', b'\\xbb', b'-', b'\\x1c', b'\\x96', b' y', b' par', b' From', b' tr', b' com', b' like', b'\\x98', b'\\xc9', b' sh', b'\\xe2', b'hing', b' saw', b' tal', b' long', b'\\xc6', b' ', b'\\x81', b'pot', b' ag', b' says', b'ummy', b'No', b' Tim', b'ick', b' fa', b'\\xbc', b'\\xc1', b'D', b' gir', b'%', b'ank', b'ir', b' up', b'\\x9c', b'qu', b' fish', b' qu', b'\\xbe', b'ish', b'\\x0f', b' sor', b' outside', b'ate', b' so', b'U', b' Kitty', b' people', b'ted', b'ad', b' hug', b' bot', b'\\xed', b' sto', b' very', b'ard', b'ched', b'ry', b'oo', b'\\xe6', b'\\xba', b' sp', b' li', b' under', b' as', b' food', b'<|endoftext|>', b'my', b' sad', b' ran', b'etter', b'nd', b' And', b'ore', b'ct', b'\\xfb', b' dan', b'\\xf3', b'ip', b' safe', b' home', b'\\n\\n', b' sa', b' They', b' him', b'use', b' tre', b' was', b' clim', b'_', b'by', b'x', b'On', b' should', b'Thank', b'ade', b' Bob', b'ou', b' she', b'ared', b' laug', b'el', b'ood', b'ight', b' lived', b' how', b'lew', b' took', b'\\x01', b'ace', b'/', b'g', b' not', b' beaut', b'\\xa9', b've', b'b', b'\\xa1', b' go', b' better', b' picked', b'\\xeb', b' made', b' did', b' ex', b'\\x0c', b'ame', b' too', b'ways', b' wind', b'ing', b'\\xc3', b' careful', b' f', b' ch', b' gre', b'\\x05', b'Th', b'em', b' still', b'\\x9b', b' happened', b'p', b' wa', b' both', b'ow', b' c', b' decided', b'j', b'\\xd6', b' at', b'om', b' bo', b' en', b'ound', b' heard', b' Her', b'\\xca', b'\\x06', b'\\r', b'na', b'ain', b' care', b' e', b'\\xef', b'hed', b'!', b'Let', b'\\xe8', b' o', b'urn', b' love', b'ked', b' much', b' found', b' come', b' strong', b']', b' h', b' off', b' idea', b' run', b'\\xf9', b'ump', b' play', b' ever', b' br', b' boat', b' His', b'\\x1e', b'ucy', b' jumped', b'&', b' gra', b' Anna', b' door', b'\\x0b', b'\\xa2', b'\\xdf', b' wat', b'd', b'\\x80', b'end', b'u', b' sc', b'our', b' hat', b' looked', b' int', b' a', b'\\xb5', b' jump', b' hig', b' can', b'round', b' hand', b'ave', b' cake', b'ob', b' came', b' gr', b'itty', b'#', b'oy', b'i', b' it', b'arn', b'\\xe3', b' surpr', b'able', b' stick', b'ure', b' listen', b' when', b'ily', b'0', b'own', b' wal', b'\\\\', b' So', b'ist', b' We', b' on', b'n', b' la', b'\\xa7', b'\\x0e', b'N', b'\\xd8', b' It', b' wor', b'\\x8a', b'{', b' in', b' Tom', b' al', b'ings', b' didn', b'uch', b'\\xc4', b' played', b'=', b'[', b'op', b' pret', b'ep', b'ver', b' of', b'ers', b'ind', b' never', b'og', b'm', b'nt', b'ous', b' gave', b' po', b'ew', b' are', b' Sara', b' met', b' he', b' other', b' good', b' something', b'out', b' fe', b' B', b' happy', b' animal', b' hard', b' cle', b' bec', b's', b' dec', b'ould', b' book', b' man', b' fore', b' ide', b'\\xd9', b' fast', b' share', b'imal', b'\\t', b'\\xd1', b'\\xfa', b' op', b'oud', b'\\x9a', b'.\"', b'\\x84', b'ach', b' ground', b'ong', b' Amy', b'@', b' place', b' learned', b'Tom', b'dd', b'$', b' will', b'ened', b'9', b' house', b'um', b'ust', b' g', b' ca', b' than', b'\\xcb', b'it', b' knew', b' turn', b'Tim', b' l', b' be', b' great', b'ful', b'!\"', b'ith', b'one', b' or', b' any', b'rom', b'\\x97', b' Sam', b' this', b' In', b' fo', b'\\xb2', b'\\xd7', b' back', b'ort', b'\\xab', b'\\xa4', b'ck', b' One', b' st', b'W', b'age', b' loo', b' things', b'\\xfd', b' want', b'\\x9d', b'They', b' high', b'udden', b'7', b'C', b' boy', b'\\x8b', b'V', b'en', b'ter', b'<', b'ark', b'oug', b'R', b' kid', b' together', b' could', b' am', b'ant', b'as', b'er', b'is', b'ack', b' Max', b' the', b' what', b' bu', b' all', b'\\xd2', b'ake', b'are', b'\\xbd', b'\\x13', b'ime', b'\\x9f', b' laughed', b' to', b' there', b'nder', b'`', b' but', b' H', b' nice', b'\\xa0', b' list', b'am', b' had', b' day', b'\\x83', b' tried', b'bed', b'G', b'r', b' M', b'\\xdc', b' over', b'pp', b'ell', b'ink', b' se', b'ited', b' do', b' that', b'ty', b' anymore', b'udd', b'J', b' us', b' Then', b' smile', b'll', b'\\x9e', b' walk', b' pl', b'\\x87', b'>', b'uff', b' her', b'\\x14', b' by', b' ha', b'\\x82', b'elt', b' dog', b'\\x7f', b',\"', b' even', b'ak', b'\\x8f', b'eci', b'ng', b'ex', b' S', b' flew', b'\\xdb', b'1', b' garden', b' we', b' j', b'M', b' dad', b' Every', b'ecial', b'fter', b' When', b'2', b' Ben', b' inside', b' little', b' every', b'Yes', b'pec', b'xt', b' named', b' app', b' b', b' toy', b' near', b' ne', b'5', b'ke', b' friend', b' lots', b'w', b' next', b'\\x19', b' an', b' girl', b' learn', b' sm', b'You', b'ret', b'3', b'if', b'The', b' room', b' if', b'ird', b'\\xb0', b'ion', b' frog', b'ull', b' give', b' ma', b'uddenly', b' co', b'ies', b' again', b'very', b' need', b' said', b'\\x07', b' know', b' sky', b'hes', b' fam', b'\\x11', b' fun', b' box', b'more', b'\\xee', b' don', b'\\xf2', b' u', b'f', b' his', b'ouse', b'\\x1a', b'\\xc2', b'v', b'\\xe9', b'ary', b' A', b'arden', b'\\xcd', b'\\xb1', b'pr', b' mo', b' thanked', b' P', b' car', b'\\x15', b' me', b'F', b'\\x93', b'\\xda', b' pic', b' is', b'ie', b' th', b' around', b' r', b' kind', b' N', b'ally', b'(', b' But', b' showed', b'\\xa5', b'\\x02', b' old', b'\\x16', b' friends', b' pe', b'\\xaa', b' down', b'ny', b' fi', b'6', b'ess', b'get', b'\\xf8', b'ill', b' str', b' doll', b' te', b'hen', b'uc', b'ice', b'ly', b' playing', b' get', b'\\x08', b'\\x89', b'\\xe7', b'I', b' red', b' v', b'\\x1f', b' small', b' take', b' im', b'\\xcf', b' town', b'Lily', b'im', b'and', b'\\x1b', b'\\x12', b'L', b' pretty', b'\\xce', b'ent', b' thought', b'side', b'\\xa3', b' tree', b' look', b'\\xc8', b'ara', b' exc', b'\\xa6', b' animals', b'fe', b'\\x04', b'\\xaf', b' into', b')', b' sl', b' let', b'4', b' liked', b'O', b' Lily', b'or', b'Can', b'8', b'y', b'\\xf0', b' make', b'\\x91', b' ke', b'al', b' upon', b' have', b'\\xa8', b' happily', b'ag', b' stor', b'.', b'ay', b'ried', b'ook', b'riend', b' far', b'l', b'\\x1d', b' wh', b'ine', b' bro', b'\\xf6', b' dre', b' walked', b'\\x17', b' re', b' because', b\"'m\", b':', b' some', b'q', b'\\x95', b'*', b'ed'}, 'merges': [(b'h', b'e'), (b' ', b't'), (b' ', b'a'), (b' ', b's'), (b' ', b'w'), (b'n', b'd'), (b' t', b'he'), (b'e', b'd'), (b' ', b'b'), (b' t', b'o'), (b' a', b'nd'), (b' ', b'h'), (b' ', b'f'), (b'i', b'n'), (b' w', b'a'), (b' ', b'T'), (b'i', b't'), (b'r', b'e'), (b'o', b'u'), (b' ', b'l'), (b' ', b'd'), (b' ', b'c'), (b' ', b'p'), (b'a', b'y'), (b' wa', b's'), (b'e', b'r'), (b' ', b'm'), (b'o', b'm'), (b' ', b'he'), (b' T', b'he'), (b'i', b's'), (b' ', b'n'), (b'o', b'n'), (b'a', b'r'), (b'i', b'm'), (b' s', b'a'), (b'l', b'l'), (b'i', b'd'), (b' h', b'a'), (b' ', b'g'), (b' ', b'S'), (b'a', b't'), (b'in', b'g'), (b'o', b't'), (b'e', b'n'), (b'a', b'n'), (b'l', b'e'), (b'o', b'r'), (b'i', b'r'), (b' ', b'H'), (b'a', b'm'), (b'e', b't'), (b' ', b'it'), (b' t', b'h'), (b'i', b'g'), (b' The', b'y'), (b'i', b'l'), (b' ', b'in'), (b' H', b'e'), (b' p', b'l'), (b' ', b'\"'), (b'o', b'w'), (b'v', b'er'), (b'r', b'i'), (b' ', b'u'), (b'u', b't'), (b' d', b'ay'), (b' sa', b'id'), (b'it', b'h'), (b'p', b'p'), (b' pl', b'ay'), (b' b', b'e'), (b'O', b'n'), (b' w', b'ith'), (b' ', b'o'), (b' ', b'y'), (b' he', b'r'), (b' ', b'r'), (b'o', b'o'), (b'k', b'ed'), (b'c', b'e'), (b' h', b'is'), (b' S', b'he'), (b' ', b'I'), (b'l', b'd'), (b' s', b't'), (b' T', b'im'), (b'k', b'e'), (b' ', b'e'), (b'n', b't'), (b'c', b'k'), (b' b', b'ig'), (b'ver', b'y'), (b' y', b'ou'), (b'v', b'e'), (b's', b't'), (b' ha', b'pp'), (b' ', b'on'), (b'e', b'nd'), (b'u', b'n'), (b'a', b'll'), (b'il', b'y'), (b'ri', b'end'), (b' f', b'riend'), (b' ', b'L'), (b' u', b'p'), (b' the', b'y'), (b' wa', b'nt'), (b' w', b'e'), (b' ha', b'd'), (b' n', b'ot'), (b'he', b'r'), (b' l', b'i'), (b'it', b't'), (b' d', b'o'), (b' o', b'f'), (b' ', b'B'), (b'a', b'd'), (b'e', b's'), (b' happ', b'y'), (b' ', b'M'), (b'en', b't'), (b' ', b'very'), (b' th', b'at'), (b'On', b'e'), (b' sa', b'w'), (b' m', b'om'), (b'ou', b'ld'), (b\"'\", b's'), (b's', b'e'), (b' f', b'or'), (b'itt', b'le'), (b' l', b'ittle'), (b' s', b'o'), (b' s', b'he'), (b' s', b'h'), (b'im', b'e'), (b' ', b'k'), (b' t', b'ime'), (b' n', b'e'), (b' n', b'am'), (b'c', b'h'), (b' the', b're'), (b'.', b'\"'), (b'ou', b'nd'), (b' b', b'o'), (b' nam', b'ed'), (b' L', b'ily'), (b'ir', b'd'), (b' s', b'm'), (b' want', b'ed'), (b' b', b'ird'), (b' T', b'om'), (b'v', b'ed'), (b' we', b're'), (b' b', b'ut'), (b'T', b'he'), (b' friend', b's'), (b'!', b'\"'), (b'ou', b't'), (b'h', b't'), (b'e', b'l'), (b'a', b'ke'), (b'a', b'l'), (b' a', b'n'), (b' to', b'o'), (b'id', b'e'), (b' he', b'l'), (b'On', b'ce'), (b' w', b'h'), (b' hel', b'p'), (b'u', b'g'), (b'om', b'e'), (b' w', b'ent'), (b' a', b'll'), (b' I', b't'), (b' ', b'A'), (b' l', b'oo'), (b' ', b'is'), (b' up', b'on'), (b' l', b'o'), (b'u', b'e'), (b't', b'er'), (b'r', b'y'), (b'o', b're'), (b'i', b'nd'), (b'g', b'et'), (b' f', b'un'), (b' to', b'y'), (b'i', b'll'), (b'a', b'ck'), (b'get', b'her'), (b' a', b't'), (b' ', b'j'), (b' a', b's'), (b' d', b'id'), (b'am', b'e'), (b' ', b're'), (b' to', b'gether'), (b'u', b'r'), (b' c', b'at'), (b'r', b'a'), (b' do', b'g'), (b' s', b'e'), (b'l', b'y'), (b' t', b're'), (b'oo', b'd'), (b' g', b'ir'), (b' c', b'an'), (b'i', b'c'), (b' b', b'all'), (b'm', b'y'), (b' gir', b'l'), (b' c', b'ould'), (b't', b'ed'), (b'ar', b'd'), (b' h', b'im'), (b' the', b'ir'), (b'e', b'c'), (b'ar', b'k'), (b' r', b'o'), (b'w', b'ay'), (b' k', b'n'), (b' play', b'ed'), (b'?', b'\"'), (b'he', b'd'), (b' f', b'r'), (b'a', b'in'), (b'he', b'n'), (b' l', b'e'), (b' ', b'out'), (b'u', b'm'), (b\"'\", b't'), (b'a', b'x'), (b' g', b'o'), (b' the', b'm'), (b' a', b're'), (b' bo', b'y'), (b' sa', b'd'), (b'u', b'l'), (b'ou', b'g'), (b' ha', b've'), (b' tre', b'e'), (b' c', b'l'), (b' lo', b'ved'), (b'ot', b'her'), (b' b', b'ack'), (b' loo', b'ked'), (b' s', b'p'), (b' f', b'ound'), (b'ow', b'n'), (b'on', b'e'), (b' M', b'ax'), (b' m', b'e'), (b' s', b'c'), (b' m', b'an'), (b'a', b're'), (b' st', b'ar'), (b' S', b'ue'), (b'h', b'ing'), (b's', b'ide'), (b' p', b'ark'), (b'on', b'g'), (b'o', b'p'), (b'f', b'ul'), (b' be', b'c'), (b' li', b'ke'), (b' w', b'ould'), (b' li', b'ked'), (b'el', b't'), (b'r', b'ound'), (b' ', b'One'), (b' f', b'elt'), (b'ig', b'ht'), (b' f', b'a'), (b' B', b'en'), (b' l', b'a'), (b' ', b'W'), (b'e', b'll'), (b' m', b'ake'), (b' B', b'ut'), (b'Y', b'ou'), (b' as', b'ked'), (b' ne', b'w'), (b'i', b'ce'), (b'il', b'ed'), (b's', b's'), (b'ar', b'ed'), (b'a', b'g'), (b' S', b'am'), (b'oug', b'ht'), (b' se', b'e'), (b'om', b'et'), (b' a', b'l'), (b' star', b'ted'), (b' a', b'g'), (b' c', b'ame'), (b' n', b'o'), (b' sm', b'iled'), (b' c', b'ar'), (b' ', b'other'), (b'ri', b'ed'), (b' s', b'omet'), (b' g', b'ood'), (b' s', b'ay'), (b' b', b'r'), (b' sm', b'all'), (b'ad', b'e'), (b'p', b'ot'), (b'o', b'b'), (b'ing', b's'), (b' w', b'or'), (b' a', b'way'), (b'a', b'b'), (b'ou', b'se'), (b' f', b'ind'), (b'u', b's'), (b' e', b'x'), (b' fr', b'om'), (b' p', b'ut'), (b't', b'y'), (b' th', b'ought'), (b' wh', b'at'), (b' m', b'ade'), (b'en', b'ed'), (b' play', b'ing'), (b'i', b'e'), (b' h', b'ome'), (b'k', b'ing'), (b' wa', b'l'), (b'a', b'ch'), (b' somet', b'hing'), (b'i', b'a'), (b'i', b'le'), (b' e', b'very'), (b' r', b'an'), (b' S', b'pot'), (b' ag', b'ain'), (b' ', b'F'), (b' c', b'o'), (b'a', b've'), (b'u', b'c'), (b'ar', b'n'), (b' bo', b'x'), (b' d', b'own'), (b'd', b'd'), (b' toy', b's'), (b'oo', b'k'), (b' ', b'J'), (b' p', b'r'), (b' too', b'k'), (b' s', b'w'), (b' s', b'ome'), (b'i', b'f'), (b' la', b'ug'), (b'ou', b'd'), (b'u', b'st'), (b'e', b'w'), (b' s', b'un'), (b' a', b'round'), (b'n', b'y'), (b' sc', b'ared'), (b' li', b'ved'), (b' le', b'arn'), (b' w', b'ill'), (b' m', b'y'), (b' f', b'l'), (b'u', b're'), (b' you', b'r'), (b'i', b'ck'), (b're', b't'), (b'e', b'p'), (b' h', b'ouse'), (b' w', b'hen'), (b' ', b'You'), (b' th', b'ings'), (b' b', b'l'), (b',', b'\"'), (b'an', b'k'), (b'u', b'ck'), (b' the', b'n'), (b'pp', b'ed'), (b' M', b'ia'), (b'is', b't'), (b'T', b'h'), (b' b', b'ot'), (b' a', b'b'), (b'is', b'h'), (b' wh', b'o'), (b' g', b'et'), (b' kn', b'ow'), (b'uc', b'y'), (b' f', b'e'), (b'a', b's'), (b' t', b'ried'), (b' g', b'ot'), (b' kn', b'ew'), (b'it', b'ed'), (b' l', b'ot'), (b'u', b'ch'), (b' say', b's'), (b'all', b'y'), (b'a', b'p'), (b' in', b't'), (b' c', b'h'), (b'i', b've'), (b' r', b'ed'), (b'T', b'im'), (b'nd', b'er'), (b'um', b'p'), (b'L', b'ily'), (b' p', b'ret'), (b'ou', b's'), (b' ab', b'out'), (b' c', b'are'), (b'f', b'ter'), (b' d', b'ec'), (b' S', b'o'), (b' o', b'p'), (b'n', b'a'), (b'f', b'e'), (b' loo', b'k'), (b' ', b'D'), (b' man', b'y'), (b'u', b'se'), (b' u', b'n'), (b' m', b'ore'), (b'is', b'e'), (b'way', b's'), (b' ', b'E'), (b' ex', b'c'), (b' M', b'om'), (b' al', b'ways'), (b' p', b'ic'), (b' p', b'o'), (b'\\xe2', b'\\x80'), (b' be', b'st'), (b'q', b'u'), (b' an', b'y'), (b' sh', b'ow'), (b' bot', b'h'), (b' L', b'ucy'), (b'it', b'e'), (b' ro', b'om'), (b' h', b'ug'), (b'a', b'ce'), (b'er', b's'), (b'a', b'use'), (b' int', b'o'), (b' wa', b'ter'), (b' bec', b'ame'), (b' out', b'side'), (b' learn', b'ed'), (b' laug', b'hed'), (b'u', b'dd'), (b' d', b'ad'), (b'id', b'ed'), (b'an', b't'), (b' bec', b'ause'), (b' on', b'e'), (b' g', b're'), (b' p', b'e'), (b' dec', b'ided'), (b' A', b'nd'), (b'p', b'r'), (b' exc', b'ited'), (b' ', b'v'), (b'Y', b'es'), (b' n', b'ice'), (b' h', b'o'), (b'n', b'na'), (b' ', b'ke'), (b' e', b'at'), (b' s', b'or'), (b' th', b'is'), (b'ar', b'a'), (b' j', b'ump'), (b' l', b'ong'), (b' fe', b'el'), (b'The', b'y'), (b' B', b'ob'), (b'T', b'om'), (b' m', b'o'), (b' to', b'ld'), (b' r', b'un'), (b'u', b'll'), (b'in', b'k'), (b' s', b'ur'), (b' ro', b'ck'), (b' in', b'side'), (b' pret', b'ty'), (b' s', b'l'), (b' s', b'k'), (b'le', b'w'), (b'in', b'y'), (b' t', b'ake'), (b' a', b'm'), (b' g', b'ave'), (b' sur', b'pr'), (b' fa', b'st'), (b' e', b'ach'), (b' to', b'w'), (b'ou', b'r'), (b'es', b's'), (b'r', b'o'), (b'v', b'en'), (b'g', b'ed'), (b' sor', b'ry'), (b' ne', b'ed'), (b' ', b'or'), (b' m', b'uch'), (b' th', b'an'), (b'ur', b't'), (b' h', b'ow'), (b'is', b'ed'), (b' st', b'r'), (b'ab', b'le'), (b' u', b'nder'), (b'W', b'h'), (b'o', b'g'), (b'g', b'e'), (b' k', b'ind'), (b'a', b'nd'), (b' g', b'ra'), (b' A', b'my'), (b'im', b'al'), (b'v', b'ing'), (b' an', b'imal'), (b'f', b't'), (b' t', b'a'), (b'B', b'ut'), (b' f', b'ood'), (b'et', b'ter'), (b'C', b'an'), (b' wal', b'ked'), (b' W', b'e'), (b' t', b'r'), (b' wa', b't'), (b' ha', b'nd'), (b' o', b'ld'), (b' H', b'is'), (b' l', b'ist'), (b' h', b'ig'), (b'f', b'f'), (b' j', b'ust'), (b' cl', b'o'), (b' fl', b'ow'), (b' ', b'en'), (b'r', b'om'), (b' c', b'le'), (b'c', b'hed'), (b' did', b'n'), (b'ur', b'n'), (b' ', b'ide'), (b'ec', b'i'), (b'M', b'om'), (b'a', b'se'), (b' t', b'ry'), (b' ide', b'a'), (b' d', b'an'), (b'i', b'on'), (b'he', b're'), (b' sk', b'y'), (b' it', b's'), (b'eci', b'al'), (b' sp', b'ecial'), (b' ne', b'ar'), (b' f', b'lew'), (b' u', b's'), (b' A', b'nna'), (b' t', b'w'), (b' happ', b'ened'), (b'p', b'l'), (b'g', b'ry'), (b' f', b'o'), (b'in', b'e'), (b' f', b'i'), (b' T', b'h'), (b'Th', b'ank'), (b' ', b'if'), (b' c', b'ake'), (b'b', b'er'), (b' f', b'ish'), (b' animal', b's'), (b' st', b'or'), (b' o', b'ver'), (b' b', b'ug'), (b'l', b'f'), (b' he', b'ard'), (b'at', b'e'), (b' care', b'ful'), (b'e', b'x'), (b' c', b'om'), (b'udd', b'en'), (b'r', b'm'), (b' b', b'etter'), (b' lot', b's'), (b' b', b'y'), (b' l', b'et'), (b' s', b'n'), (b' h', b'ard'), (b' w', b'ind'), (b' ne', b'ver'), (b' h', b'urt'), (b' be', b'ar'), (b' sh', b'are'), (b'op', b'le'), (b' E', b'very'), (b' d', b're'), (b'udden', b'ly'), (b'm', b'ore'), (b' any', b'more'), (b' e', b'ven'), (b' t', b'e'), (b'or', b't'), (b' t', b'al'), (b'p', b'ec'), (b' f', b'ly'), (b' S', b'ara'), (b' sa', b'fe'), (b' lo', b've'), (b'ad', b'y'), (b' b', b'u'), (b' e', b'nd'), (b' d', b'on'), (b' ', b'K'), (b' f', b'ore'), (b'\\n', b'\\n'), (b' g', b'ive'), (b' pe', b'ople'), (b' a', b'fter'), (b' cle', b'an'), (b'u', b'ff'), (b' pr', b'oud'), (b' op', b'ened'), (b'b', b'ed'), (b\"'\", b'm'), (b' hig', b'h'), (b' g', b'r'), (b' f', b'am'), (b' b', b'ad'), (b' do', b'or'), (b' surpr', b'ised'), (b' The', b'n'), (b'itt', b'y'), (b'a', b'k'), (b' t', b'urn'), (b'A', b's'), (b' g', b'l'), (b'ag', b'e'), (b' F', b'rom'), (b'um', b'my'), (b'oug', b'h'), (b' g', b'round'), (b' cl', b'im'), (b' H', b'er'), (b' than', b'ked'), (b' ', b'im'), (b' W', b'hen'), (b'i', b'z'), (b' bl', b'ue'), (b' c', b'all'), (b' b', b'ook'), (b'k', b'ay'), (b'ard', b'en'), (b' g', b'arden'), (b'il', b'd'), (b' f', b'ar'), (b' m', b'a'), (b' e', b'ver'), (b' wa', b'y'), (b'pec', b'ted'), (b' hug', b'ged'), (b' c', b'he'), (b'n', b'g'), (b' sh', b'iny'), (b' co', b'l'), (b' pic', b'ked'), (b'L', b'et'), (b' sm', b'ile'), (b' m', b'ag'), (b' l', b'oud'), (b' c', b'u'), (b' of', b'f'), (b' sh', b'ould'), (b' c', b'ome'), (b' I', b'n'), (b'ex', b'pected'), (b' un', b'expected'), (b'x', b't'), (b' ne', b'xt'), (b' st', b'ick'), (b' pl', b'ace'), (b' wal', b'k'), (b' ', b'N'), (b't', b'ure'), (b' fam', b'ily'), (b'he', b's'), (b'e', b'm'), (b' ', b'qu'), (b' col', b'or'), (b'b', b'y'), (b' ', b'P'), (b' st', b'ill'), (b'i', b'p'), (b' u', b'nt'), (b' str', b'ong'), (b' gre', b'at'), (b' bo', b'at'), (b' a', b'pp'), (b'le', b's'), (b' ha', b't'), (b'o', b'y'), (b' happ', b'ily'), (b' br', b'o'), (b'oo', b'l'), (b' unt', b'il'), (b' jump', b'ed'), (b' tow', b'n'), (b' c', b'a'), (b' fr', b'og'), (b'd', b'y'), (b' k', b'id'), (b' help', b'ed'), (b' S', b'ally'), (b' fore', b'st'), (b'i', b'es'), (b' st', b'o'), (b'or', b'n'), (b'c', b't'), (b' do', b'll'), (b'a', b'ut'), (b' s', b'qu'), (b'ar', b'y'), (b' K', b'itty'), (b' be', b'aut'), (b' list', b'en'), (b' show', b'ed'), (b' m', b'et'), (b' n', b'ow'), (b'N', b'o'), (b'uff', b'y'), (b' p', b'ar')]}",
   "id": "c6d85fbe7cf76232",
   "outputs": [],
   "execution_count": 193
  },
  {
   "metadata": {
    "ExecuteTime": {
     "end_time": "2025-08-08T22:48:49.242496Z",
     "start_time": "2025-08-08T22:48:49.188623Z"
    }
   },
   "cell_type": "code",
   "source": "expected = {'vocab_keys': {0, 1, 2, 3, 4, 5, 6, 7, 8, 9, 10, 11, 12, 13, 14, 15, 16, 17, 18, 19, 20, 21, 22, 23, 24, 25, 26, 27, 28, 29, 30, 31, 32, 33, 34, 35, 36, 37, 38, 39, 40, 41, 42, 43, 44, 45, 46, 47, 48, 49, 50, 51, 52, 53, 54, 55, 56, 57, 58, 59, 60, 61, 62, 63, 64, 65, 66, 67, 68, 69, 70, 71, 72, 73, 74, 75, 76, 77, 78, 79, 80, 81, 82, 83, 84, 85, 86, 87, 88, 89, 90, 91, 92, 93, 94, 95, 96, 97, 98, 99, 100, 101, 102, 103, 104, 105, 106, 107, 108, 109, 110, 111, 112, 113, 114, 115, 116, 117, 118, 119, 120, 121, 122, 123, 124, 125, 126, 127, 128, 129, 130, 131, 132, 133, 134, 135, 136, 137, 138, 139, 140, 141, 142, 143, 144, 145, 146, 147, 148, 149, 150, 151, 152, 153, 154, 155, 156, 157, 158, 159, 160, 161, 162, 163, 164, 165, 166, 167, 168, 169, 170, 171, 172, 173, 174, 175, 176, 177, 178, 179, 180, 181, 182, 183, 184, 185, 186, 187, 188, 189, 190, 191, 192, 193, 194, 195, 196, 197, 198, 199, 200, 201, 202, 203, 204, 205, 206, 207, 208, 209, 210, 211, 212, 213, 214, 215, 216, 217, 218, 219, 220, 221, 222, 223, 224, 225, 226, 227, 228, 229, 230, 231, 232, 233, 234, 235, 236, 237, 238, 239, 240, 241, 242, 243, 244, 245, 246, 247, 248, 249, 250, 251, 252, 253, 254, 255, 256, 257, 258, 259, 260, 261, 262, 263, 264, 265, 266, 267, 268, 269, 270, 271, 272, 273, 274, 275, 276, 277, 278, 279, 280, 281, 282, 283, 284, 285, 286, 287, 288, 289, 290, 291, 292, 293, 294, 295, 296, 297, 298, 299, 300, 301, 302, 303, 304, 305, 306, 307, 308, 309, 310, 311, 312, 313, 314, 315, 316, 317, 318, 319, 320, 321, 322, 323, 324, 325, 326, 327, 328, 329, 330, 331, 332, 333, 334, 335, 336, 337, 338, 339, 340, 341, 342, 343, 344, 345, 346, 347, 348, 349, 350, 351, 352, 353, 354, 355, 356, 357, 358, 359, 360, 361, 362, 363, 364, 365, 366, 367, 368, 369, 370, 371, 372, 373, 374, 375, 376, 377, 378, 379, 380, 381, 382, 383, 384, 385, 386, 387, 388, 389, 390, 391, 392, 393, 394, 395, 396, 397, 398, 399, 400, 401, 402, 403, 404, 405, 406, 407, 408, 409, 410, 411, 412, 413, 414, 415, 416, 417, 418, 419, 420, 421, 422, 423, 424, 425, 426, 427, 428, 429, 430, 431, 432, 433, 434, 435, 436, 437, 438, 439, 440, 441, 442, 443, 444, 445, 446, 447, 448, 449, 450, 451, 452, 453, 454, 455, 456, 457, 458, 459, 460, 461, 462, 463, 464, 465, 466, 467, 468, 469, 470, 471, 472, 473, 474, 475, 476, 477, 478, 479, 480, 481, 482, 483, 484, 485, 486, 487, 488, 489, 490, 491, 492, 493, 494, 495, 496, 497, 498, 499, 500, 501, 502, 503, 504, 505, 506, 507, 508, 509, 510, 511, 512, 513, 514, 515, 516, 517, 518, 519, 520, 521, 522, 523, 524, 525, 526, 527, 528, 529, 530, 531, 532, 533, 534, 535, 536, 537, 538, 539, 540, 541, 542, 543, 544, 545, 546, 547, 548, 549, 550, 551, 552, 553, 554, 555, 556, 557, 558, 559, 560, 561, 562, 563, 564, 565, 566, 567, 568, 569, 570, 571, 572, 573, 574, 575, 576, 577, 578, 579, 580, 581, 582, 583, 584, 585, 586, 587, 588, 589, 590, 591, 592, 593, 594, 595, 596, 597, 598, 599, 600, 601, 602, 603, 604, 605, 606, 607, 608, 609, 610, 611, 612, 613, 614, 615, 616, 617, 618, 619, 620, 621, 622, 623, 624, 625, 626, 627, 628, 629, 630, 631, 632, 633, 634, 635, 636, 637, 638, 639, 640, 641, 642, 643, 644, 645, 646, 647, 648, 649, 650, 651, 652, 653, 654, 655, 656, 657, 658, 659, 660, 661, 662, 663, 664, 665, 666, 667, 668, 669, 670, 671, 672, 673, 674, 675, 676, 677, 678, 679, 680, 681, 682, 683, 684, 685, 686, 687, 688, 689, 690, 691, 692, 693, 694, 695, 696, 697, 698, 699, 700, 701, 702, 703, 704, 705, 706, 707, 708, 709, 710, 711, 712, 713, 714, 715, 716, 717, 718, 719, 720, 721, 722, 723, 724, 725, 726, 727, 728, 729, 730, 731, 732, 733, 734, 735, 736, 737, 738, 739, 740, 741, 742, 743, 744, 745, 746, 747, 748, 749, 750, 751, 752, 753, 754, 755, 756, 757, 758, 759, 760, 761, 762, 763, 764, 765, 766, 767, 768, 769, 770, 771, 772, 773, 774, 775, 776, 777, 778, 779, 780, 781, 782, 783, 784, 785, 786, 787, 788, 789, 790, 791, 792, 793, 794, 795, 796, 797, 798, 799, 800, 801, 802, 803, 804, 805, 806, 807, 808, 809, 810, 811, 812, 813, 814, 815, 816, 817, 818, 819, 820, 821, 822, 823, 824, 825, 826, 827, 828, 829, 830, 831, 832, 833, 834, 835, 836, 837, 838, 839, 840, 841, 842, 843, 844, 845, 846, 847, 848, 849, 850, 851, 852, 853, 854, 855, 856, 857, 858, 859, 860, 861, 862, 863, 864, 865, 866, 867, 868, 869, 870, 871, 872, 873, 874, 875, 876, 877, 878, 879, 880, 881, 882, 883, 884, 885, 886, 887, 888, 889, 890, 891, 892, 893, 894, 895, 896, 897, 898, 899, 900, 901, 902, 903, 904, 905, 906, 907, 908, 909, 910, 911, 912, 913, 914, 915, 916, 917, 918, 919, 920, 921, 922, 923, 924, 925, 926, 927, 928, 929, 930, 931, 932, 933, 934, 935, 936, 937, 938, 939, 940, 941, 942, 943, 944, 945, 946, 947, 948, 949, 950, 951, 952, 953, 954, 955, 956, 957, 958, 959, 960, 961, 962, 963, 964, 965, 966, 967, 968, 969, 970, 971, 972, 973, 974, 975, 976, 977, 978, 979, 980, 981, 982, 983, 984, 985, 986, 987, 988, 989, 990, 991, 992, 993, 994, 995, 996, 997, 998, 999}, 'vocab_values': {b' ta', b'ab', b\"'\", b'|', b' col', b'omet', b'\\x00', b'ile', b'aut', b' went', b'One', b'her', b'ec', b'\\xd0', b'^', b' E', b' nam', b' bear', b'ided', b'H', b' t', b'se', b'gether', b' no', b' each', b'ged', b'\\xff', b'\\x90', b'ap', b' flow', b' toys', b'Z', b'urt', b'E', b'\\xc0', b'\\xde', b'\\xf4', b' then', b' end', b'h', b' He', b' proud', b'ive', b'ft', b'iz', b' you', b'ig', b' water', b'ause', b'ber', b'\\xb6', b'ture', b' Th', b' hel', b't', b' loved', b' loud', b'expected', b' from', b' wanted', b're', b' bug', b'ite', b'ving', b' The', b',', b'\\x92', b'un', b'ro', b' gl', b'~', b' helped', b'uffy', b'\\xb4', b' got', b' and', b'pected', b' Sally', b' family', b'\\xae', b'\\x10', b' clo', b' sw', b' see', b'ome', b' fr', b'\\xf7', b' out', b' le', b' rock', b' your', b' park', b' You', b' surprised', b' sur', b' tow', b'he', b' bad', b' lot', b' sn', b' w', b' Mom', b'les', b'\\xe1', b' about', b' just', b'\\xd5', b'Mom', b'\\xf1', b'\\xad', b'gry', b' hurt', b'\\x18', b' way', b' clean', b'\\x03', b'\\x85', b' for', b' J', b'iled', b'K', b'ild', b'ia', b'\\x99', b' with', b' T', b'kay', b' happ', b'c', b' feel', b'\\x94', b'X', b' best', b'nna', b'ri', b' unt', b'ise', b'ch', b'at', b' after', b' K', b'T', b'\\xc7', b' m', b'ool', b'ce', b' cl', b' put', b'\"', b'\\x88', b'es', b' became', b' tw', b' try', b'Y', b' W', b'Once', b';', b' told', b' somet', b'z', b'an', b'ople', b' sorry', b'ic', b' hugged', b' mag', b' unexpected', b'ady', b' mom', b'\\x8d', b' ro', b' they', b'S', b'\\xe5', b'\\x8e', b'other', b' special', b' sk', b' would', b'all', b'ss', b' big', b'\\x8c', b'\\xec', b' away', b'\\xb9', b'on', b' shiny', b'\\n', b' color', b' F', b'\\xac', b' ab', b'ough', b' forest', b'k', b'\\xe0', b' d', b'ut', b' D', b' \"', b'ide', b' who', b' show', b' one', b'?', b'us', b'\\xb7', b' k', b' always', b'ff', b' eat', b'\\xfc', b' fly', b' time', b'ved', b' Mia', b'ge', b'+', b'ittle', b'ue', b' pr', b' now', b'id', b'king', b'\\x86', b' L', b'Wh', b' help', b'\\xfe', b'\\xcc', b' until', b' new', b' che', b'P', b'}', b'\\xd3', b'lf', b'ot', b'nn', b' squ', b' cu', b' She', b' them', b' sun', b'As', b' more', b' find', b'ar', b' many', b' fl', b'ised', b'pl', b'way', b'ven', b'le', b' Spot', b' cat', b' excited', b'ra', b' star', b' felt', b'here', b'ul', b'\\xd4', b' n', b'ase', b'\\xf5', b'But', b' were', b\"'t\", b'ought', b'o', b' s', b' bird', b' Sue', b' call', b'itt', b'il', b'Q', b'st', b' opened', b'\\xea', b'\\xe2\\x80', b'?\"', b' started', b' un', b' blue', b'et', b' its', b'B', b'ax', b'ld', b'\\xe4', b' say', b'\\xb3', b' asked', b'e', b'ur', b' lo', b'\\xdd', b' my', b' ball', b' Lucy', b'a', b\"'s\", b'\\xbf', b' their', b'A', b'uck', b' scared', b'pped', b' ho', b'rm', b'ht', b'iny', b' kn', b' p', b' smiled', b'ug', b'dy', b' I', b'in', b'orn', b'\\xc5', b' bl', b'\\xb8', b'\\xbb', b'-', b'\\x1c', b' y', b'\\x96', b' par', b' From', b' tr', b' com', b' like', b'\\x98', b'\\xc9', b' sh', b'\\xe2', b'hing', b' saw', b' tal', b' long', b'\\xc6', b' ', b'\\x81', b' says', b'pot', b' ag', b'ummy', b'No', b' Tim', b'ick', b' fa', b'\\xbc', b'ank', b'D', b'\\xc1', b'%', b'qu', b'ir', b' qu', b' up', b' fish', b'\\x9c', b'\\xbe', b'ish', b'\\x0f', b' outside', b'ate', b' so', b'U', b' Kitty', b' people', b'ted', b'ad', b' hug', b' bot', b'\\xed', b' sto', b' very', b'ard', b'ched', b'ry', b'oo', b'\\xe6', b'\\xba', b' sp', b' li', b' under', b' as', b' food', b'<|endoftext|>', b'my', b' sad', b' ran', b'etter', b' And', b'nd', b'ore', b'ct', b'\\xfb', b' dan', b'\\xf3', b'ip', b' safe', b' home', b'\\n\\n', b' sa', b' They', b' him', b'use', b' tre', b' was', b' clim', b'_', b'by', b'x', b'On', b' should', b'Thank', b'ade', b' Bob', b'ou', b' she', b'ared', b' laug', b'el', b'ood', b'ight', b' lived', b' how', b'lew', b' took', b'\\x01', b'ace', b' not', b'g', b'/', b' beaut', b'\\xa9', b've', b' go', b'\\xa1', b' picked', b'b', b' better', b'\\xeb', b' made', b' did', b' ex', b'\\x0c', b'ame', b' too', b'ways', b' wind', b'ing', b'\\xc3', b' careful', b' ch', b' f', b' gre', b'\\x05', b'em', b'Th', b' still', b'\\x9b', b' happened', b'p', b' wa', b' both', b' decided', b'ow', b' c', b'j', b'\\xd6', b' at', b'om', b' bo', b' heard', b' Her', b'ound', b' en', b'\\xca', b'\\x06', b'\\r', b'ain', b' care', b' e', b'\\xef', b'hed', b'!', b'Let', b' o', b' come', b' love', b'urn', b'ked', b' strong', b' found', b' much', b'\\xe8', b' off', b']', b' h', b' idea', b' run', b' ever', b'ump', b' play', b' boat', b'\\xf9', b' br', b' His', b'\\x1e', b'ucy', b' jumped', b'&', b' door', b' gra', b' Anna', b'\\xdf', b'\\x0b', b'\\xa2', b' wat', b'd', b'\\x80', b'end', b'u', b' sc', b'our', b' hat', b' looked', b' int', b' a', b'\\xb5', b' jump', b' hig', b' can', b'round', b' hand', b'ave', b' cake', b'itty', b' gr', b' came', b'ob', b'#', b'oy', b' it', b'i', b'arn', b'\\xe3', b' surpr', b'able', b' stick', b'ure', b' listen', b' when', b'ily', b'0', b'own', b' wal', b'\\\\', b' We', b'ist', b' So', b' on', b'n', b' la', b'\\xa7', b'\\x0e', b'N', b'\\xd8', b' wor', b' It', b'\\x8a', b'{', b' in', b'ings', b' al', b' Tom', b' didn', b'uch', b'\\xc4', b' played', b'=', b'op', b'[', b' pret', b'ep', b'ver', b' of', b'ers', b'ind', b' never', b'og', b'm', b'nt', b'ous', b' gave', b' po', b'ew', b' met', b' are', b' Sara', b' he', b' other', b' good', b' something', b'out', b' fe', b' B', b' animal', b' happy', b' hard', b' cle', b' bec', b's', b' dec', b'ould', b' book', b' man', b' fore', b' ide', b' fast', b' share', b'\\xd9', b'imal', b'\\t', b'\\xd1', b'\\xfa', b' op', b'oud', b'ach', b'\\x9a', b'\\x84', b'.\"', b' ground', b'ong', b' place', b'@', b' Amy', b' learned', b'Tom', b'dd', b'$', b' will', b'ened', b' house', b'9', b'um', b'ust', b' g', b' ca', b' than', b'\\xcb', b' turn', b' knew', b'it', b'Tim', b' l', b' be', b' great', b'ful', b'!\"', b'ith', b' or', b'one', b'rom', b' any', b'\\x97', b' Sam', b' this', b' In', b' fo', b'\\xb2', b' back', b'\\xd7', b'ort', b'\\xab', b'\\xa4', b'ck', b' One', b' st', b'age', b'W', b' loo', b' things', b'\\xfd', b' want', b'\\x9d', b'They', b' high', b'udden', b'7', b'C', b' boy', b'\\x8b', b'ter', b'en', b'V', b' kid', b'<', b'ark', b'oug', b'R', b' together', b' could', b' am', b'ant', b'as', b'er', b'ack', b'is', b' Max', b' the', b' what', b' bu', b'are', b' all', b'ake', b'\\xd2', b'\\xbd', b'ime', b'\\x13', b'\\x9f', b' laughed', b' to', b' there', b'nder', b'`', b' but', b' H', b' nice', b' list', b'\\xa0', b'am', b' had', b'bed', b' day', b'\\x83', b' tried', b'G', b' M', b'r', b'\\xdc', b' over', b'ell', b'pp', b'ink', b'ited', b' se', b' do', b' that', b'ty', b' anymore', b'udd', b' smile', b' us', b'J', b' Then', b' gir', b'll', b'\\x9e', b' walk', b' pl', b'\\x87', b'>', b'uff', b' her', b'\\x14', b' by', b' ha', b'elt', b'\\x82', b'ak', b' even', b' dog', b'\\x7f', b',\"', b'\\x8f', b'eci', b'ex', b' S', b' flew', b'\\xdb', b'1', b' garden', b' j', b' we', b'M', b' dad', b' Every', b'ecial', b'fter', b' When', b' inside', b' Ben', b'2', b' magic', b' little', b' every', b'Yes', b'pec', b'xt', b' named', b' app', b' b', b' toy', b' near', b' ne', b' im', b'5', b'ke', b' lots', b' friend', b'w', b' next', b'\\x19', b' an', b' learn', b' girl', b' sm', b'ret', b'You', b'if', b'3', b'The', b' room', b' if', b'ird', b'ion', b'\\xb0', b' frog', b'ull', b' give', b' ma', b'uddenly', b' co', b'ies', b' again', b'very', b' need', b' said', b'\\x07', b' know', b'hes', b' sky', b' fam', b'\\x11', b' fun', b' box', b'more', b'\\xee', b' don', b'\\xf2', b' u', b' his', b'f', b'ouse', b'\\xc2', b'\\x1a', b'ary', b'\\xe9', b'v', b' A', b'arden', b'\\xcd', b'\\xb1', b'pr', b' mo', b' thanked', b' P', b' car', b'\\x15', b' me', b'F', b' pic', b'\\x93', b'\\xda', b' is', b'ie', b' th', b' around', b' r', b' N', b' kind', b'ally', b'(', b' But', b' showed', b'\\xa5', b'\\x02', b' old', b' friends', b' pe', b'\\x16', b'\\xaa', b' fi', b'ny', b' down', b'6', b'ess', b'get', b'ill', b'\\xf8', b' str', b' doll', b' te', b'hen', b'uc', b' playing', b'ly', b'ice', b' v', b'\\x08', b' get', b'\\xe7', b'I', b' take', b' town', b' small', b'\\x1f', b' red', b'\\x89', b'\\xcf', b'Lily', b'im', b'and', b'\\x1b', b'\\x12', b'L', b' pretty', b'\\xce', b'ent', b' thought', b'side', b'\\xa3', b' tree', b' look', b'\\xc8', b'ara', b' exc', b'\\xa6', b' animals', b'fe', b'\\x04', b'\\xaf', b' into', b' sl', b')', b' let', b'4', b' liked', b'O', b' Lily', b'Can', b'or', b'8', b' make', b'\\xf0', b'y', b'\\x91', b' ke', b'al', b' upon', b' have', b'\\xa8', b' happily', b'ag', b' stor', b'.', b'ried', b'ook', b'ay', b'riend', b' far', b'l', b'\\x1d', b' wh', b'ine', b' bro', b\"'m\", b' dre', b' walked', b'\\xf6', b' re', b'\\x17', b' because', b':', b' sor', b'q', b' some', b'\\x95', b'*', b'ed'}, 'merges': [(b'h', b'e'), (b' ', b't'), (b' ', b'a'), (b' ', b's'), (b' ', b'w'), (b'n', b'd'), (b' t', b'he'), (b'e', b'd'), (b' ', b'b'), (b' t', b'o'), (b' a', b'nd'), (b' ', b'h'), (b' ', b'f'), (b'i', b'n'), (b' w', b'a'), (b' ', b'T'), (b'i', b't'), (b'r', b'e'), (b'o', b'u'), (b' ', b'l'), (b' ', b'd'), (b' ', b'c'), (b' ', b'p'), (b'a', b'y'), (b' wa', b's'), (b'e', b'r'), (b' ', b'm'), (b'o', b'm'), (b' ', b'he'), (b' T', b'he'), (b'i', b's'), (b' ', b'n'), (b'o', b'n'), (b'a', b'r'), (b'i', b'm'), (b' s', b'a'), (b'l', b'l'), (b'i', b'd'), (b' h', b'a'), (b' ', b'g'), (b' ', b'S'), (b'a', b't'), (b'in', b'g'), (b'o', b't'), (b'e', b'n'), (b'a', b'n'), (b'l', b'e'), (b'o', b'r'), (b'i', b'r'), (b' ', b'H'), (b'a', b'm'), (b'e', b't'), (b' ', b'it'), (b' t', b'h'), (b'i', b'g'), (b' The', b'y'), (b'i', b'l'), (b' ', b'in'), (b' H', b'e'), (b' p', b'l'), (b' ', b'\"'), (b'o', b'w'), (b'v', b'er'), (b'r', b'i'), (b' ', b'u'), (b'u', b't'), (b' d', b'ay'), (b' sa', b'id'), (b'it', b'h'), (b'p', b'p'), (b' pl', b'ay'), (b' b', b'e'), (b'O', b'n'), (b' w', b'ith'), (b' ', b'o'), (b' ', b'y'), (b' he', b'r'), (b' ', b'r'), (b'o', b'o'), (b'k', b'ed'), (b'c', b'e'), (b' h', b'is'), (b' S', b'he'), (b' ', b'I'), (b'l', b'd'), (b' s', b't'), (b' T', b'im'), (b'k', b'e'), (b' ', b'e'), (b'n', b't'), (b'c', b'k'), (b' b', b'ig'), (b'ver', b'y'), (b' y', b'ou'), (b'v', b'e'), (b's', b't'), (b' ha', b'pp'), (b' ', b'on'), (b'e', b'nd'), (b'u', b'n'), (b'a', b'll'), (b'il', b'y'), (b'ri', b'end'), (b' f', b'riend'), (b' ', b'L'), (b' u', b'p'), (b' the', b'y'), (b' wa', b'nt'), (b' w', b'e'), (b' ha', b'd'), (b' n', b'ot'), (b'he', b'r'), (b' l', b'i'), (b'it', b't'), (b' d', b'o'), (b' o', b'f'), (b' ', b'B'), (b'a', b'd'), (b'e', b's'), (b' happ', b'y'), (b' ', b'M'), (b'en', b't'), (b' ', b'very'), (b' th', b'at'), (b'On', b'e'), (b' sa', b'w'), (b' m', b'om'), (b'ou', b'ld'), (b\"'\", b's'), (b's', b'e'), (b' f', b'or'), (b'itt', b'le'), (b' l', b'ittle'), (b' s', b'o'), (b' s', b'he'), (b' s', b'h'), (b'im', b'e'), (b' ', b'k'), (b' t', b'ime'), (b' n', b'e'), (b' n', b'am'), (b'c', b'h'), (b' the', b're'), (b'.', b'\"'), (b'ou', b'nd'), (b' b', b'o'), (b' nam', b'ed'), (b' L', b'ily'), (b'ir', b'd'), (b' s', b'm'), (b' want', b'ed'), (b' b', b'ird'), (b' T', b'om'), (b'v', b'ed'), (b' we', b're'), (b' b', b'ut'), (b'T', b'he'), (b' friend', b's'), (b'!', b'\"'), (b'ou', b't'), (b'h', b't'), (b'e', b'l'), (b'a', b'ke'), (b'a', b'l'), (b' a', b'n'), (b' to', b'o'), (b'id', b'e'), (b' he', b'l'), (b'On', b'ce'), (b' w', b'h'), (b' hel', b'p'), (b'u', b'g'), (b'om', b'e'), (b' w', b'ent'), (b' a', b'll'), (b' I', b't'), (b' ', b'A'), (b' l', b'oo'), (b' ', b'is'), (b' up', b'on'), (b' l', b'o'), (b'u', b'e'), (b't', b'er'), (b'r', b'y'), (b'o', b're'), (b'i', b'nd'), (b'g', b'et'), (b' f', b'un'), (b' to', b'y'), (b'i', b'll'), (b'a', b'ck'), (b'get', b'her'), (b' a', b't'), (b' ', b'j'), (b' a', b's'), (b' d', b'id'), (b'am', b'e'), (b' ', b're'), (b' to', b'gether'), (b'u', b'r'), (b' c', b'at'), (b'r', b'a'), (b' do', b'g'), (b' s', b'e'), (b'l', b'y'), (b' t', b're'), (b'oo', b'd'), (b' g', b'ir'), (b' c', b'an'), (b'i', b'c'), (b' b', b'all'), (b'm', b'y'), (b' gir', b'l'), (b' c', b'ould'), (b'ar', b'd'), (b't', b'ed'), (b' h', b'im'), (b' the', b'ir'), (b'e', b'c'), (b'ar', b'k'), (b' r', b'o'), (b'w', b'ay'), (b' k', b'n'), (b' play', b'ed'), (b'?', b'\"'), (b'he', b'd'), (b' f', b'r'), (b'a', b'in'), (b'he', b'n'), (b' l', b'e'), (b' ', b'out'), (b'u', b'm'), (b\"'\", b't'), (b'a', b'x'), (b' g', b'o'), (b' the', b'm'), (b' a', b're'), (b' bo', b'y'), (b' sa', b'd'), (b'u', b'l'), (b'ou', b'g'), (b' ha', b've'), (b' tre', b'e'), (b' c', b'l'), (b' lo', b'ved'), (b'ot', b'her'), (b' b', b'ack'), (b' loo', b'ked'), (b' s', b'p'), (b' f', b'ound'), (b'ow', b'n'), (b'on', b'e'), (b' M', b'ax'), (b' m', b'e'), (b' s', b'c'), (b' m', b'an'), (b'a', b're'), (b' st', b'ar'), (b' S', b'ue'), (b'h', b'ing'), (b's', b'ide'), (b' p', b'ark'), (b'on', b'g'), (b'o', b'p'), (b'f', b'ul'), (b' be', b'c'), (b' li', b'ke'), (b' w', b'ould'), (b' li', b'ked'), (b'el', b't'), (b'r', b'ound'), (b' ', b'One'), (b' f', b'elt'), (b'ig', b'ht'), (b' f', b'a'), (b' B', b'en'), (b' l', b'a'), (b' ', b'W'), (b'e', b'll'), (b' m', b'ake'), (b' B', b'ut'), (b'Y', b'ou'), (b' as', b'ked'), (b' ne', b'w'), (b'i', b'ce'), (b'il', b'ed'), (b's', b's'), (b'ar', b'ed'), (b'a', b'g'), (b' S', b'am'), (b'oug', b'ht'), (b' se', b'e'), (b'om', b'et'), (b' a', b'l'), (b' star', b'ted'), (b' a', b'g'), (b' c', b'ame'), (b' n', b'o'), (b' sm', b'iled'), (b' c', b'ar'), (b' ', b'other'), (b'ri', b'ed'), (b' s', b'omet'), (b' g', b'ood'), (b' s', b'ay'), (b' b', b'r'), (b' sm', b'all'), (b'ad', b'e'), (b'p', b'ot'), (b'o', b'b'), (b'ing', b's'), (b' w', b'or'), (b' a', b'way'), (b'a', b'b'), (b'ou', b'se'), (b' f', b'ind'), (b'u', b's'), (b' e', b'x'), (b' fr', b'om'), (b' p', b'ut'), (b't', b'y'), (b' th', b'ought'), (b' wh', b'at'), (b' m', b'ade'), (b'en', b'ed'), (b' play', b'ing'), (b'i', b'e'), (b' h', b'ome'), (b'k', b'ing'), (b' wa', b'l'), (b'a', b'ch'), (b' somet', b'hing'), (b'i', b'a'), (b'i', b'le'), (b' e', b'very'), (b' r', b'an'), (b' S', b'pot'), (b' ag', b'ain'), (b' ', b'F'), (b' c', b'o'), (b'a', b've'), (b'u', b'c'), (b'ar', b'n'), (b' bo', b'x'), (b' d', b'own'), (b'd', b'd'), (b' toy', b's'), (b'oo', b'k'), (b' ', b'J'), (b' p', b'r'), (b' too', b'k'), (b' s', b'w'), (b' s', b'ome'), (b'i', b'f'), (b' la', b'ug'), (b'ou', b'd'), (b'u', b'st'), (b'e', b'w'), (b' s', b'un'), (b' a', b'round'), (b'n', b'y'), (b' sc', b'ared'), (b' li', b'ved'), (b' le', b'arn'), (b' w', b'ill'), (b' m', b'y'), (b' f', b'l'), (b'u', b're'), (b' you', b'r'), (b'i', b'ck'), (b're', b't'), (b'e', b'p'), (b' h', b'ouse'), (b' w', b'hen'), (b' ', b'You'), (b' th', b'ings'), (b' b', b'l'), (b',', b'\"'), (b'an', b'k'), (b'u', b'ck'), (b' the', b'n'), (b'pp', b'ed'), (b' M', b'ia'), (b'is', b't'), (b'T', b'h'), (b' b', b'ot'), (b' a', b'b'), (b'is', b'h'), (b' wh', b'o'), (b' g', b'et'), (b' kn', b'ow'), (b'uc', b'y'), (b' f', b'e'), (b'a', b's'), (b' t', b'ried'), (b' g', b'ot'), (b' kn', b'ew'), (b'it', b'ed'), (b' l', b'ot'), (b'u', b'ch'), (b' say', b's'), (b'all', b'y'), (b'a', b'p'), (b' in', b't'), (b' c', b'h'), (b'i', b've'), (b' r', b'ed'), (b'T', b'im'), (b'nd', b'er'), (b'um', b'p'), (b'L', b'ily'), (b' p', b'ret'), (b'ou', b's'), (b' ab', b'out'), (b' c', b'are'), (b'f', b'ter'), (b' d', b'ec'), (b' S', b'o'), (b' o', b'p'), (b'f', b'e'), (b' loo', b'k'), (b' ', b'D'), (b' man', b'y'), (b'u', b'se'), (b' u', b'n'), (b' m', b'ore'), (b'is', b'e'), (b'way', b's'), (b' ', b'E'), (b'n', b'n'), (b' ex', b'c'), (b' M', b'om'), (b' al', b'ways'), (b' p', b'ic'), (b' p', b'o'), (b'\\xe2', b'\\x80'), (b' be', b'st'), (b'q', b'u'), (b' an', b'y'), (b' sh', b'ow'), (b' bot', b'h'), (b' L', b'ucy'), (b'it', b'e'), (b' ro', b'om'), (b' h', b'ug'), (b'a', b'ce'), (b'er', b's'), (b'a', b'use'), (b' int', b'o'), (b' wa', b'ter'), (b' bec', b'ame'), (b' out', b'side'), (b' learn', b'ed'), (b' laug', b'hed'), (b'u', b'dd'), (b' d', b'ad'), (b'id', b'ed'), (b'an', b't'), (b' bec', b'ause'), (b' on', b'e'), (b' g', b're'), (b' p', b'e'), (b' dec', b'ided'), (b' A', b'nd'), (b'p', b'r'), (b' exc', b'ited'), (b' ', b'v'), (b'Y', b'es'), (b' n', b'ice'), (b' h', b'o'), (b'nn', b'a'), (b' ', b'ke'), (b' e', b'at'), (b' s', b'or'), (b' th', b'is'), (b'ar', b'a'), (b' j', b'ump'), (b' l', b'ong'), (b' fe', b'el'), (b'The', b'y'), (b' B', b'ob'), (b'T', b'om'), (b' m', b'o'), (b' to', b'ld'), (b' r', b'un'), (b'u', b'll'), (b'in', b'k'), (b' s', b'ur'), (b' ro', b'ck'), (b' in', b'side'), (b' pret', b'ty'), (b' s', b'l'), (b' s', b'k'), (b'le', b'w'), (b'in', b'y'), (b' t', b'ake'), (b' a', b'm'), (b' g', b'ave'), (b' sur', b'pr'), (b' fa', b'st'), (b' e', b'ach'), (b' to', b'w'), (b'ou', b'r'), (b'es', b's'), (b'r', b'o'), (b'v', b'en'), (b'g', b'ed'), (b' sor', b'ry'), (b' ne', b'ed'), (b' ', b'or'), (b' m', b'uch'), (b' th', b'an'), (b'ur', b't'), (b' h', b'ow'), (b'is', b'ed'), (b' st', b'r'), (b'ab', b'le'), (b' u', b'nder'), (b'W', b'h'), (b'o', b'g'), (b'g', b'e'), (b' k', b'ind'), (b'a', b'nd'), (b' g', b'ra'), (b' A', b'my'), (b'im', b'al'), (b'v', b'ing'), (b' an', b'imal'), (b'f', b't'), (b' t', b'a'), (b'B', b'ut'), (b' f', b'ood'), (b'et', b'ter'), (b'C', b'an'), (b' wal', b'ked'), (b' W', b'e'), (b' t', b'r'), (b' wa', b't'), (b' ha', b'nd'), (b' o', b'ld'), (b' H', b'is'), (b' l', b'ist'), (b' h', b'ig'), (b'f', b'f'), (b' j', b'ust'), (b' cl', b'o'), (b' fl', b'ow'), (b' ', b'en'), (b'r', b'om'), (b' c', b'le'), (b'c', b'hed'), (b' did', b'n'), (b'ur', b'n'), (b' ', b'ide'), (b'ec', b'i'), (b'M', b'om'), (b'a', b'se'), (b' t', b'ry'), (b' ide', b'a'), (b' d', b'an'), (b'i', b'on'), (b'he', b're'), (b' sk', b'y'), (b' it', b's'), (b'eci', b'al'), (b' sp', b'ecial'), (b' ne', b'ar'), (b' f', b'lew'), (b' u', b's'), (b' A', b'nna'), (b' t', b'w'), (b' happ', b'ened'), (b'p', b'l'), (b'g', b'ry'), (b' f', b'o'), (b'in', b'e'), (b' f', b'i'), (b' s', b'n'), (b' T', b'h'), (b'Th', b'ank'), (b' ', b'if'), (b' c', b'ake'), (b'b', b'er'), (b' f', b'ish'), (b' animal', b's'), (b' st', b'or'), (b' o', b'ver'), (b' b', b'ug'), (b'l', b'f'), (b' he', b'ard'), (b'at', b'e'), (b' care', b'ful'), (b'e', b'x'), (b' c', b'om'), (b'udd', b'en'), (b'r', b'm'), (b' b', b'etter'), (b' lot', b's'), (b' b', b'y'), (b' l', b'et'), (b' h', b'ard'), (b' w', b'ind'), (b' ne', b'ver'), (b' h', b'urt'), (b' be', b'ar'), (b' sh', b'are'), (b'op', b'le'), (b' E', b'very'), (b' d', b're'), (b'udden', b'ly'), (b'm', b'ore'), (b' any', b'more'), (b' e', b'ven'), (b' t', b'e'), (b'or', b't'), (b' t', b'al'), (b'p', b'ec'), (b' f', b'ly'), (b' S', b'ara'), (b' sa', b'fe'), (b' lo', b've'), (b'ad', b'y'), (b' b', b'u'), (b' e', b'nd'), (b' d', b'on'), (b' ', b'K'), (b' f', b'ore'), (b'\\n', b'\\n'), (b' g', b'ive'), (b' pe', b'ople'), (b' a', b'fter'), (b' cle', b'an'), (b'u', b'ff'), (b' pr', b'oud'), (b' op', b'ened'), (b'b', b'ed'), (b\"'\", b'm'), (b' hig', b'h'), (b' g', b'r'), (b' f', b'am'), (b' b', b'ad'), (b' do', b'or'), (b' surpr', b'ised'), (b' The', b'n'), (b'itt', b'y'), (b'a', b'k'), (b' t', b'urn'), (b'A', b's'), (b' g', b'l'), (b'ag', b'e'), (b' F', b'rom'), (b'um', b'my'), (b'oug', b'h'), (b' g', b'round'), (b' cl', b'im'), (b' H', b'er'), (b' than', b'ked'), (b' ', b'im'), (b' W', b'hen'), (b'i', b'z'), (b' bl', b'ue'), (b' c', b'all'), (b' b', b'ook'), (b'k', b'ay'), (b'ard', b'en'), (b' g', b'arden'), (b'il', b'd'), (b' f', b'ar'), (b' m', b'a'), (b' e', b'ver'), (b' wa', b'y'), (b'pec', b'ted'), (b' hug', b'ged'), (b' c', b'he'), (b' sh', b'iny'), (b' co', b'l'), (b' pic', b'ked'), (b'L', b'et'), (b' sm', b'ile'), (b' m', b'ag'), (b' l', b'oud'), (b' c', b'u'), (b' of', b'f'), (b' sh', b'ould'), (b' c', b'ome'), (b' I', b'n'), (b'ex', b'pected'), (b' un', b'expected'), (b'x', b't'), (b' ne', b'xt'), (b' st', b'ick'), (b' pl', b'ace'), (b' wal', b'k'), (b' ', b'N'), (b't', b'ure'), (b' fam', b'ily'), (b'he', b's'), (b'e', b'm'), (b' ', b'qu'), (b' col', b'or'), (b'b', b'y'), (b' ', b'P'), (b' st', b'ill'), (b'i', b'p'), (b' u', b'nt'), (b' str', b'ong'), (b' gre', b'at'), (b' bo', b'at'), (b' a', b'pp'), (b'le', b's'), (b' ha', b't'), (b'o', b'y'), (b' happ', b'ily'), (b' br', b'o'), (b'oo', b'l'), (b' unt', b'il'), (b' jump', b'ed'), (b' tow', b'n'), (b' c', b'a'), (b' fr', b'og'), (b'd', b'y'), (b' k', b'id'), (b' help', b'ed'), (b' S', b'ally'), (b' fore', b'st'), (b'i', b'es'), (b' st', b'o'), (b'or', b'n'), (b'c', b't'), (b' do', b'll'), (b'a', b'ut'), (b' s', b'qu'), (b'ar', b'y'), (b' K', b'itty'), (b' be', b'aut'), (b' list', b'en'), (b' show', b'ed'), (b' m', b'et'), (b' n', b'ow'), (b'N', b'o'), (b'uff', b'y'), (b' p', b'ar'), (b' mag', b'ic')]}",
   "id": "14e79cfcee966941",
   "outputs": [],
   "execution_count": 194
  },
  {
   "metadata": {
    "ExecuteTime": {
     "end_time": "2025-08-08T22:49:48.703365Z",
     "start_time": "2025-08-08T22:49:48.701647Z"
    }
   },
   "cell_type": "code",
   "source": "actual.keys()",
   "id": "64978a51e93fb6c2",
   "outputs": [
    {
     "data": {
      "text/plain": [
       "dict_keys(['vocab_keys', 'vocab_values', 'merges'])"
      ]
     },
     "execution_count": 199,
     "metadata": {},
     "output_type": "execute_result"
    }
   ],
   "execution_count": 199
  },
  {
   "metadata": {
    "ExecuteTime": {
     "end_time": "2025-08-08T22:52:31.950088Z",
     "start_time": "2025-08-08T22:52:31.948297Z"
    }
   },
   "cell_type": "code",
   "source": "actual['vocab_keys'] == expected['vocab_keys']",
   "id": "79200eb79623ac16",
   "outputs": [
    {
     "data": {
      "text/plain": [
       "True"
      ]
     },
     "execution_count": 205,
     "metadata": {},
     "output_type": "execute_result"
    }
   ],
   "execution_count": 205
  },
  {
   "metadata": {
    "ExecuteTime": {
     "end_time": "2025-08-08T22:52:42.729740Z",
     "start_time": "2025-08-08T22:52:42.727920Z"
    }
   },
   "cell_type": "code",
   "source": "actual['merges'] == expected['merges']",
   "id": "69faf34c0f3454bf",
   "outputs": [
    {
     "data": {
      "text/plain": [
       "False"
      ]
     },
     "execution_count": 206,
     "metadata": {},
     "output_type": "execute_result"
    }
   ],
   "execution_count": 206
  },
  {
   "metadata": {
    "ExecuteTime": {
     "end_time": "2025-08-08T22:53:00.024791Z",
     "start_time": "2025-08-08T22:53:00.022926Z"
    }
   },
   "cell_type": "code",
   "source": "actual['vocab_values'] == expected['vocab_values']",
   "id": "5479293a8d61e5b1",
   "outputs": [
    {
     "data": {
      "text/plain": [
       "False"
      ]
     },
     "execution_count": 207,
     "metadata": {},
     "output_type": "execute_result"
    }
   ],
   "execution_count": 207
  },
  {
   "metadata": {
    "ExecuteTime": {
     "end_time": "2025-08-08T22:54:03.242972Z",
     "start_time": "2025-08-08T22:54:03.239912Z"
    }
   },
   "cell_type": "code",
   "source": [
    "i = 0\n",
    "for act, exp in zip(actual['merges'], expected['merges']):\n",
    "    if act != exp:\n",
    "        print(i, act, exp)\n",
    "    i += 1\n"
   ],
   "id": "3f89e7f1b26495d0",
   "outputs": [
    {
     "name": "stdout",
     "output_type": "stream",
     "text": [
      "214 (b't', b'ed') (b'ar', b'd')\n",
      "215 (b'ar', b'd') (b't', b'ed')\n",
      "419 (b'n', b'a') (b'f', b'e')\n",
      "420 (b'f', b'e') (b' loo', b'k')\n",
      "421 (b' loo', b'k') (b' ', b'D')\n",
      "422 (b' ', b'D') (b' man', b'y')\n",
      "423 (b' man', b'y') (b'u', b'se')\n",
      "424 (b'u', b'se') (b' u', b'n')\n",
      "425 (b' u', b'n') (b' m', b'ore')\n",
      "426 (b' m', b'ore') (b'is', b'e')\n",
      "427 (b'is', b'e') (b'way', b's')\n",
      "428 (b'way', b's') (b' ', b'E')\n",
      "429 (b' ', b'E') (b'n', b'n')\n",
      "470 (b'n', b'na') (b'nn', b'a')\n",
      "577 (b' T', b'h') (b' s', b'n')\n",
      "578 (b'Th', b'ank') (b' T', b'h')\n",
      "579 (b' ', b'if') (b'Th', b'ank')\n",
      "580 (b' c', b'ake') (b' ', b'if')\n",
      "581 (b'b', b'er') (b' c', b'ake')\n",
      "582 (b' f', b'ish') (b'b', b'er')\n",
      "583 (b' animal', b's') (b' f', b'ish')\n",
      "584 (b' st', b'or') (b' animal', b's')\n",
      "585 (b' o', b'ver') (b' st', b'or')\n",
      "586 (b' b', b'ug') (b' o', b'ver')\n",
      "587 (b'l', b'f') (b' b', b'ug')\n",
      "588 (b' he', b'ard') (b'l', b'f')\n",
      "589 (b'at', b'e') (b' he', b'ard')\n",
      "590 (b' care', b'ful') (b'at', b'e')\n",
      "591 (b'e', b'x') (b' care', b'ful')\n",
      "592 (b' c', b'om') (b'e', b'x')\n",
      "593 (b'udd', b'en') (b' c', b'om')\n",
      "594 (b'r', b'm') (b'udd', b'en')\n",
      "595 (b' b', b'etter') (b'r', b'm')\n",
      "596 (b' lot', b's') (b' b', b'etter')\n",
      "597 (b' b', b'y') (b' lot', b's')\n",
      "598 (b' l', b'et') (b' b', b'y')\n",
      "599 (b' s', b'n') (b' l', b'et')\n",
      "674 (b'n', b'g') (b' sh', b'iny')\n",
      "675 (b' sh', b'iny') (b' co', b'l')\n",
      "676 (b' co', b'l') (b' pic', b'ked')\n",
      "677 (b' pic', b'ked') (b'L', b'et')\n",
      "678 (b'L', b'et') (b' sm', b'ile')\n",
      "679 (b' sm', b'ile') (b' m', b'ag')\n",
      "680 (b' m', b'ag') (b' l', b'oud')\n",
      "681 (b' l', b'oud') (b' c', b'u')\n",
      "682 (b' c', b'u') (b' of', b'f')\n",
      "683 (b' of', b'f') (b' sh', b'ould')\n",
      "684 (b' sh', b'ould') (b' c', b'ome')\n",
      "685 (b' c', b'ome') (b' I', b'n')\n",
      "686 (b' I', b'n') (b'ex', b'pected')\n",
      "687 (b'ex', b'pected') (b' un', b'expected')\n",
      "688 (b' un', b'expected') (b'x', b't')\n",
      "689 (b'x', b't') (b' ne', b'xt')\n",
      "690 (b' ne', b'xt') (b' st', b'ick')\n",
      "691 (b' st', b'ick') (b' pl', b'ace')\n",
      "692 (b' pl', b'ace') (b' wal', b'k')\n",
      "693 (b' wal', b'k') (b' ', b'N')\n",
      "694 (b' ', b'N') (b't', b'ure')\n",
      "695 (b't', b'ure') (b' fam', b'ily')\n",
      "696 (b' fam', b'ily') (b'he', b's')\n",
      "697 (b'he', b's') (b'e', b'm')\n",
      "698 (b'e', b'm') (b' ', b'qu')\n",
      "699 (b' ', b'qu') (b' col', b'or')\n",
      "700 (b' col', b'or') (b'b', b'y')\n",
      "701 (b'b', b'y') (b' ', b'P')\n",
      "702 (b' ', b'P') (b' st', b'ill')\n",
      "703 (b' st', b'ill') (b'i', b'p')\n",
      "704 (b'i', b'p') (b' u', b'nt')\n",
      "705 (b' u', b'nt') (b' str', b'ong')\n",
      "706 (b' str', b'ong') (b' gre', b'at')\n",
      "707 (b' gre', b'at') (b' bo', b'at')\n",
      "708 (b' bo', b'at') (b' a', b'pp')\n",
      "709 (b' a', b'pp') (b'le', b's')\n",
      "710 (b'le', b's') (b' ha', b't')\n",
      "711 (b' ha', b't') (b'o', b'y')\n",
      "712 (b'o', b'y') (b' happ', b'ily')\n",
      "713 (b' happ', b'ily') (b' br', b'o')\n",
      "714 (b' br', b'o') (b'oo', b'l')\n",
      "715 (b'oo', b'l') (b' unt', b'il')\n",
      "716 (b' unt', b'il') (b' jump', b'ed')\n",
      "717 (b' jump', b'ed') (b' tow', b'n')\n",
      "718 (b' tow', b'n') (b' c', b'a')\n",
      "719 (b' c', b'a') (b' fr', b'og')\n",
      "720 (b' fr', b'og') (b'd', b'y')\n",
      "721 (b'd', b'y') (b' k', b'id')\n",
      "722 (b' k', b'id') (b' help', b'ed')\n",
      "723 (b' help', b'ed') (b' S', b'ally')\n",
      "724 (b' S', b'ally') (b' fore', b'st')\n",
      "725 (b' fore', b'st') (b'i', b'es')\n",
      "726 (b'i', b'es') (b' st', b'o')\n",
      "727 (b' st', b'o') (b'or', b'n')\n",
      "728 (b'or', b'n') (b'c', b't')\n",
      "729 (b'c', b't') (b' do', b'll')\n",
      "730 (b' do', b'll') (b'a', b'ut')\n",
      "731 (b'a', b'ut') (b' s', b'qu')\n",
      "732 (b' s', b'qu') (b'ar', b'y')\n",
      "733 (b'ar', b'y') (b' K', b'itty')\n",
      "734 (b' K', b'itty') (b' be', b'aut')\n",
      "735 (b' be', b'aut') (b' list', b'en')\n",
      "736 (b' list', b'en') (b' show', b'ed')\n",
      "737 (b' show', b'ed') (b' m', b'et')\n",
      "738 (b' m', b'et') (b' n', b'ow')\n",
      "739 (b' n', b'ow') (b'N', b'o')\n",
      "740 (b'N', b'o') (b'uff', b'y')\n",
      "741 (b'uff', b'y') (b' p', b'ar')\n",
      "742 (b' p', b'ar') (b' mag', b'ic')\n"
     ]
    }
   ],
   "execution_count": 208
  },
  {
   "metadata": {
    "ExecuteTime": {
     "end_time": "2025-08-08T22:55:17.720277Z",
     "start_time": "2025-08-08T22:55:17.712395Z"
    }
   },
   "cell_type": "code",
   "source": [
    "i = 0\n",
    "for act, exp in zip(actual['vocab_values'], expected['vocab_values']):\n",
    "    if act != exp:\n",
    "        print(i, act, exp)\n",
    "    i += 1\n"
   ],
   "id": "6c8044f81571592c",
   "outputs": [
    {
     "name": "stdout",
     "output_type": "stream",
     "text": [
      "243 b'ng' b'\\x89'\n",
      "244 b'\\x89' b' wat'\n",
      "245 b' wat' b'W'\n",
      "246 b'W' b' see'\n",
      "247 b' see' b' next'\n",
      "248 b' next' b'ice'\n",
      "249 b'ice' b' le'\n",
      "250 b' le' b' like'\n",
      "251 b' like' b']'\n",
      "252 b']' b' can'\n",
      "253 b' can' b' love'\n",
      "254 b' love' b' ne'\n",
      "255 b' ne' b'['\n",
      "256 b'[' b' l'\n",
      "257 b' l' b'ucy'\n",
      "258 b'ucy' b'w'\n",
      "259 b'w' b'\\x80'\n",
      "260 b'\\x80' b' pr'\n",
      "261 b' pr' b'\\x95'\n",
      "262 b'\\x95' b' tow'\n",
      "263 b' tow' b'\\x1c'\n",
      "264 b'\\x1c' b' lived'\n",
      "265 b' lived' b' pret'\n",
      "266 b' pret' b' them'\n",
      "267 b' them' b'ro'\n",
      "268 b'ro' b'nna'\n",
      "269 b'nna' b'lf'\n",
      "270 b'lf' b'\\xbd'\n",
      "271 b'\\xbd' b'\\x9e'\n",
      "272 b'\\x9e' b'\\x11'\n",
      "273 b'\\x11' b'xt'\n",
      "274 b'xt' b'\\xb4'\n",
      "275 b'\\xb4' b' walked'\n",
      "276 b' walked' b' away'\n",
      "277 b' away' b'ate'\n",
      "278 b'ate' b'\\xea'\n",
      "279 b'\\xea' b'um'\n",
      "280 b'um' b'ace'\n",
      "281 b'ace' b' the'\n",
      "282 b' the' b'Once'\n",
      "283 b'Once' b' bu'\n",
      "284 b' bu' b' did'\n",
      "285 b' did' b' more'\n",
      "286 b' more' b'ell'\n",
      "287 b'ell' b' how'\n",
      "288 b' how' b'ump'\n",
      "289 b'ump' b'i'\n",
      "290 b'i' b'ause'\n",
      "291 b'ause' b'il'\n",
      "292 b'il' b' ab'\n",
      "293 b' ab' b' ch'\n",
      "294 b' ch' b'ty'\n",
      "295 b'ty' b'ide'\n",
      "296 b'ide' b' bo'\n",
      "297 b' bo' b'\\xdb'\n",
      "298 b'\\xdb' b' showed'\n",
      "299 b' showed' b' loud'\n",
      "300 b' loud' b' en'\n",
      "301 b' en' b'bed'\n",
      "302 b'bed' b'{'\n",
      "303 b'{' b'\\x15'\n",
      "304 b'\\x15' b'\\x08'\n",
      "305 b'\\x08' b'ri'\n",
      "306 b'ri' b' Tom'\n",
      "307 b' Tom' b' p'\n",
      "308 b' p' b'\\x82'\n",
      "309 b'\\x82' b'ouse'\n",
      "310 b'ouse' b' mag'\n",
      "311 b' mag' b'ady'\n",
      "312 b'ady' b' star'\n",
      "313 b' star' b'\\xef'\n",
      "314 b'\\xef' b'\\xdc'\n",
      "315 b'\\xdc' b' both'\n",
      "316 b' both' b' an'\n",
      "317 b' an' b' him'\n",
      "318 b' him' b' better'\n",
      "319 b' better' b'ark'\n",
      "320 b'ark' b'.\"'\n",
      "321 b'.\"' b' or'\n",
      "322 b' or' b'udd'\n",
      "323 b'udd' b'ter'\n",
      "324 b'ter' b' started'\n",
      "325 b' started' b' each'\n",
      "326 b' each' b'+'\n",
      "327 b'+' b' W'\n",
      "328 b' W' b' thought'\n",
      "329 b' thought' b'~'\n",
      "330 b'~' b'\\n\\n'\n",
      "331 b'\\n\\n' b' no'\n",
      "332 b' no' b'ked'\n",
      "333 b'ked' b'urt'\n",
      "334 b'urt' b' clim'\n",
      "335 b' clim' b' flow'\n",
      "336 b' flow' b'ch'\n",
      "337 b'ch' b' She'\n",
      "338 b' She' b'\\x0c'\n",
      "339 b'\\x0c' b'nt'\n",
      "340 b'nt' b' Sara'\n",
      "341 b' Sara' b' co'\n",
      "342 b' co' b'\\xb1'\n",
      "343 b'\\xb1' b' se'\n",
      "344 b' se' b'\\x17'\n",
      "345 b'\\x17' b'!\"'\n",
      "346 b'!\"' b'\\xb9'\n",
      "347 b'\\xb9' b' thanked'\n",
      "348 b' thanked' b' one'\n",
      "349 b' one' b' place'\n",
      "350 b' place' b'-'\n",
      "351 b'-' b' re'\n",
      "352 b' re' b' just'\n",
      "353 b' just' b' as'\n",
      "354 b' as' b' us'\n",
      "355 b' us' b' with'\n",
      "356 b' with' b'\\x83'\n",
      "357 b'\\x83' b' boy'\n",
      "358 b' boy' b' fi'\n",
      "359 b' fi' b'em'\n",
      "360 b'em' b'Mom'\n",
      "361 b'Mom' b' cat'\n",
      "362 b' cat' b'\\xa8'\n",
      "363 b'\\xa8' b'rom'\n",
      "364 b'rom' b' Tim'\n",
      "365 b' Tim' b'ful'\n",
      "366 b'ful' b' and'\n",
      "367 b' and' b'\\xd0'\n",
      "368 b'\\xd0' b'\\x92'\n",
      "369 b'\\x92' b' about'\n",
      "370 b' about' b' exc'\n",
      "371 b' exc' b','\n",
      "372 b',' b'='\n",
      "373 b'=' b'g'\n",
      "374 b'g' b'Q'\n",
      "375 b'Q' b' that'\n",
      "376 b' that' b'\\xb7'\n",
      "377 b'\\xb7' b'V'\n",
      "378 b'V' b' liked'\n",
      "379 b' liked' b' sp'\n",
      "380 b' sp' b' boat'\n",
      "381 b' boat' b' find'\n",
      "382 b' find' b' great'\n",
      "383 b' great' b'nder'\n",
      "384 b'nder' b'r'\n",
      "385 b'r' b'ret'\n",
      "386 b'ret' b' P'\n",
      "387 b' P' b' bl'\n",
      "388 b' bl' b' look'\n",
      "389 b' look' b' gave'\n",
      "390 b' gave' b'X'\n",
      "391 b'X' b'\\x0f'\n",
      "392 b'\\x0f' b'uck'\n",
      "393 b'uck' b'@'\n",
      "394 b'@' b' house'\n",
      "395 b' house' b'ap'\n",
      "396 b'ap' b'ew'\n",
      "397 b'ew' b'o'\n",
      "398 b'o' b' loo'\n",
      "399 b' loo' b' door'\n",
      "400 b' door' b' lot'\n",
      "401 b' lot' b'ant'\n",
      "402 b'ant' b'ime'\n",
      "403 b'ime' b'ided'\n",
      "404 b'ided' b' says'\n",
      "405 b' says' b'\\xf4'\n",
      "406 b'\\xf4' b' sor'\n",
      "407 b' sor' b'\\xf3'\n",
      "408 b'\\xf3' b' made'\n",
      "409 b' made' b'as'\n",
      "410 b'as' b'M'\n",
      "411 b'M' b'se'\n",
      "412 b'se' b' com'\n",
      "413 b' com' b'ome'\n",
      "414 b'ome' b' decided'\n",
      "415 b' decided' b' h'\n",
      "416 b' h' b'$'\n",
      "417 b'$' b' opened'\n",
      "418 b' opened' b'\\x91'\n",
      "419 b'\\x91' b'ar'\n",
      "420 b'ar' b'\\x9c'\n",
      "421 b'\\x9c' b'Thank'\n",
      "422 b'Thank' b' stor'\n",
      "423 b' stor' b'1'\n",
      "424 b'1' b't'\n",
      "425 b't' b'ob'\n",
      "426 b'ob' b' ex'\n",
      "427 b' ex' b'ur'\n",
      "428 b'ur' b'('\n",
      "429 b'(' b'\\x93'\n",
      "430 b'\\x93' b'ver'\n",
      "431 b'ver' b'l'\n",
      "432 b'l' b' give'\n",
      "433 b' give' b' pretty'\n",
      "434 b' pretty' b'ut'\n",
      "435 b'ut' b'\\x8e'\n",
      "436 b'\\x8e' b'\\\\'\n",
      "437 b'\\\\' b'\\xaa'\n",
      "438 b'\\xaa' b';'\n",
      "439 b';' b'\\xd6'\n",
      "440 b'\\xd6' b'oud'\n",
      "441 b'oud' b' way'\n",
      "442 b' way' b'\\xd9'\n",
      "443 b'\\xd9' b'\\xf8'\n",
      "444 b'\\xf8' b'ck'\n",
      "445 b'ck' b'\\x05'\n",
      "446 b'\\x05' b'\\xab'\n",
      "447 b'\\xab' b'way'\n",
      "448 b'way' b'ople'\n",
      "449 b'ople' b'As'\n",
      "450 b'As' b'\\x04'\n",
      "451 b'\\x04' b'elt'\n",
      "452 b'elt' b' A'\n",
      "453 b' A' b'\\xf7'\n",
      "454 b'\\xf7' b' po'\n",
      "455 b' po' b' came'\n",
      "456 b' came' b'0'\n",
      "457 b'0' b' N'\n",
      "458 b' N' b' end'\n",
      "459 b' end' b'arn'\n",
      "460 b'arn' b' str'\n",
      "461 b' str' b' some'\n",
      "462 b' some' b' His'\n",
      "463 b' His' b'ore'\n",
      "464 b'ore' b' said'\n",
      "465 b' said' b' old'\n",
      "466 b' old' b' to'\n",
      "467 b' to' b'ase'\n",
      "468 b'ase' b' cl'\n",
      "469 b' cl' b'\\xe2'\n",
      "470 b'\\xe2' b'!'\n",
      "471 b'!' b' animal'\n",
      "472 b' animal' b'imal'\n",
      "473 b'imal' b' very'\n",
      "474 b' very' b'at'\n",
      "475 b'at' b' H'\n",
      "476 b' H' b'\\x8f'\n",
      "477 b'\\x8f' b'\\xa2'\n",
      "478 b'\\xa2' b'f'\n",
      "479 b'f' b'?\"'\n",
      "480 b'?\"' b'ite'\n",
      "481 b'ite' b' you'\n",
      "482 b' you' b' under'\n",
      "483 b' under' b' her'\n",
      "484 b' her' b'\\xe3'\n",
      "485 b'\\xe3' b'R'\n",
      "486 b'R' b' sw'\n",
      "487 b' sw' b'p'\n",
      "488 b'p' b'ies'\n",
      "489 b'ies' b'urn'\n",
      "490 b'urn' b' me'\n",
      "491 b' me' b'\\xc0'\n",
      "492 b'\\xc0' b'<'\n",
      "493 b'<' b' could'\n",
      "494 b' could' b'E'\n",
      "495 b'E' b'ive'\n",
      "496 b'ive' b' people'\n",
      "497 b' people' b' saw'\n",
      "498 b' saw' b' c'\n",
      "499 b' c' b' Her'\n",
      "500 b' Her' b\"'t\"\n",
      "501 b\"'t\" b'^'\n",
      "502 b'^' b'oy'\n",
      "503 b'oy' b' ma'\n",
      "504 b' ma' b'\\x7f'\n",
      "505 b'\\x7f' b'uch'\n",
      "506 b'uch' b'/'\n",
      "507 b'/' b' toy'\n",
      "508 b' toy' b'The'\n",
      "509 b'The' b' unexpected'\n",
      "510 b' unexpected' b' happy'\n",
      "511 b' happy' b'\\xa3'\n",
      "512 b'\\xa3' b' any'\n",
      "513 b' any' b'gry'\n",
      "514 b'gry' b' man'\n",
      "515 b' man' b' fast'\n",
      "516 b' fast' b'\\xfe'\n",
      "517 b'\\xfe' b' col'\n",
      "518 b' col' b'ad'\n",
      "519 b'ad' b' their'\n",
      "520 b' their' b'ust'\n",
      "521 b'ust' b' magic'\n",
      "770 b'na' b'\\t'\n",
      "771 b'\\t' b'\\x90'\n",
      "772 b'\\x90' b' laughed'\n",
      "773 b' laughed' b' now'\n",
      "774 b' now' b' Sally'\n",
      "775 b' Sally' b' forest'\n",
      "776 b' forest' b'ame'\n",
      "777 b'ame' b'\\xa4'\n",
      "778 b'\\xa4' b'J'\n",
      "779 b'J' b'\\xa5'\n",
      "780 b'\\xa5' b' happened'\n",
      "781 b' happened' b'\\xe1'\n",
      "782 b'\\xe1' b' long'\n",
      "783 b' long' b' learned'\n",
      "784 b' learned' b' clo'\n",
      "785 b' clo' b'ving'\n",
      "786 b'ving' b' kn'\n",
      "787 b' kn' b'ry'\n",
      "788 b'ry' b' is'\n",
      "789 b' is' b' have'\n",
      "790 b' have' b' bad'\n",
      "791 b' bad' b'ared'\n",
      "792 b'ared' b'\\x1a'\n",
      "793 b'\\x1a' b're'\n",
      "794 b're' b' for'\n",
      "795 b' for' b' met'\n",
      "796 b' met' b'\\xf9'\n",
      "797 b'\\xf9' b' J'\n",
      "798 b' J' b'ittle'\n",
      "799 b'ittle' b'he'\n",
      "800 b'he' b' Every'\n",
      "801 b' Every' b'But'\n",
      "802 b'But' b'ary'\n",
      "803 b'ary' b'uc'\n",
      "804 b'uc' b' named'\n",
      "805 b' named' b' fish'\n",
      "806 b' fish' b' run'\n",
      "807 b' run' b'and'\n",
      "808 b'and' b' there'\n",
      "809 b' there' b'el'\n",
      "810 b'el' b' bec'\n",
      "811 b' bec' b' help'\n",
      "812 b' help' b'n'\n",
      "813 b'n' b'\\xd3'\n",
      "814 b'\\xd3' b' I'\n",
      "815 b' I' b'\\xaf'\n",
      "816 b'\\xaf' b' care'\n",
      "817 b' care' b' hurt'\n",
      "818 b' hurt' b' got'\n",
      "819 b' got' b'\\xfa'\n",
      "820 b'\\xfa' b' but'\n",
      "821 b' but' b'very'\n",
      "822 b'very' b' mo'\n",
      "823 b' mo' b'\\xcf'\n",
      "824 b'\\xcf' b'\\xce'\n",
      "825 b'\\xce' b'c'\n",
      "826 b'c' b' he'\n",
      "827 b' he' b'ie'\n",
      "828 b'ie' b' im'\n",
      "829 b' im' b'They'\n",
      "830 b'They' b' fe'\n",
      "831 b' fe' b' You'\n",
      "832 b' You' b'pr'\n",
      "833 b'pr' b' loved'\n",
      "834 b' loved' b' time'\n",
      "835 b' time' b'ven'\n",
      "836 b'ven' b' Sam'\n",
      "837 b' Sam' b'\\x9a'\n",
      "838 b'\\x9a' b'ird'\n",
      "839 b'ird' b'her'\n",
      "840 b'her' b' tw'\n",
      "841 b' tw' b'\\xc9'\n",
      "842 b'\\xc9' b'hing'\n",
      "843 b'hing' b' fore'\n",
      "844 b' fore' b'our'\n",
      "845 b'our' b'pp'\n",
      "846 b'pp' b' lo'\n",
      "847 b' lo' b' it'\n",
      "848 b' it' b' off'\n",
      "849 b' off' b'ach'\n",
      "850 b'ach' b' tree'\n",
      "851 b' tree' b' hel'\n",
      "852 b' hel' b'_'\n",
      "853 b'_' b'\\xca'\n",
      "854 b'\\xca' b'*'\n",
      "855 b'*' b'ep'\n",
      "856 b'ep' b'ged'\n",
      "857 b'ged' b' br'\n",
      "858 b' br' b' get'\n",
      "859 b' get' b'ched'\n",
      "860 b'ched' b'\\xc7'\n",
      "861 b'\\xc7' b' wind'\n",
      "862 b' wind' b'\\x10'\n",
      "863 b'\\x10' b'S'\n",
      "864 b'S' b' hard'\n",
      "865 b' hard' b' until'\n",
      "866 b' until' b' take'\n",
      "867 b' take' b'\"'\n",
      "868 b'\"' b' r'\n",
      "869 b' r' b'\\x00'\n",
      "870 b'\\x00' b'ct'\n",
      "871 b'ct' b'}'\n",
      "872 b'}' b'\\x8b'\n",
      "873 b'\\x8b' b' ha'\n",
      "874 b' ha' b' small'\n",
      "875 b' small' b'T'\n",
      "876 b'T' b'\\x88'\n",
      "877 b'\\x88' b' surpr'\n",
      "878 b' surpr' b' water'\n",
      "879 b' water' b' come'\n",
      "880 b' come' b' what'\n",
      "881 b' what' b' sl'\n",
      "882 b' sl' b'ted'\n",
      "883 b'ted' b' hug'\n",
      "884 b' hug' b'ally'\n",
      "885 b'ally' b' asked'\n",
      "886 b' asked' b'8'\n",
      "887 b'8' b'fe'\n",
      "888 b'fe' b'\\n'\n",
      "889 b'\\n' b'ith'\n",
      "890 b'ith' b' when'\n",
      "891 b' when' b'\\xa0'\n",
      "892 b'\\xa0' b' home'\n",
      "893 b' home' b'\\xc6'\n",
      "894 b'\\xc6' b'ion'\n",
      "895 b'ion' b'uffy'\n",
      "896 b'uffy' b' in'\n",
      "897 b' in' b'ff'\n",
      "898 b'ff' b' dad'\n",
      "899 b' dad' b' many'\n",
      "900 b' many' b' still'\n",
      "901 b' still' b'Z'\n",
      "902 b'Z' b'H'\n",
      "903 b'H' b'ers'\n",
      "904 b'ers' b' dre'\n",
      "905 b' dre' b'\\x81'\n",
      "906 b'\\x81' b'in'\n",
      "907 b'in' b'\\xda'\n",
      "908 b'\\xda' b'ade'\n",
      "909 b'ade' b'Yes'\n",
      "910 b'Yes' b' call'\n",
      "911 b' call' b'en'\n",
      "912 b'en' b' wal'\n",
      "913 b' wal' b'pected'\n",
      "914 b'pected' b' It'\n",
      "915 b' It' b' Kitty'\n",
      "916 b' Kitty' b'\\xa6'\n",
      "917 b'\\xa6' b' are'\n",
      "918 b' are' b'a'\n",
      "921 b'a' b' Lucy'\n",
      "922 b' Lucy' b' felt'\n",
      "923 b' felt' b'nn'\n"
     ]
    }
   ],
   "execution_count": 209
  },
  {
   "metadata": {
    "ExecuteTime": {
     "end_time": "2025-08-08T23:00:55.336773Z",
     "start_time": "2025-08-08T23:00:55.335001Z"
    }
   },
   "cell_type": "code",
   "source": "bytes([244])",
   "id": "f8158113fb02f803",
   "outputs": [
    {
     "data": {
      "text/plain": [
       "b'\\xf4'"
      ]
     },
     "execution_count": 214,
     "metadata": {},
     "output_type": "execute_result"
    }
   ],
   "execution_count": 214
  },
  {
   "metadata": {
    "ExecuteTime": {
     "end_time": "2025-08-08T23:03:32.339447Z",
     "start_time": "2025-08-08T23:03:32.337698Z"
    }
   },
   "cell_type": "code",
   "source": "ord(b'\\x89')",
   "id": "dccf0867a5371034",
   "outputs": [
    {
     "data": {
      "text/plain": [
       "137"
      ]
     },
     "execution_count": 219,
     "metadata": {},
     "output_type": "execute_result"
    }
   ],
   "execution_count": 219
  },
  {
   "metadata": {
    "ExecuteTime": {
     "end_time": "2025-08-08T23:03:03.209Z",
     "start_time": "2025-08-08T23:03:03.205377Z"
    }
   },
   "cell_type": "code",
   "source": [
    "for i in range(256):\n",
    "    print(i, bytes([i]))"
   ],
   "id": "ed8336e136f85086",
   "outputs": [
    {
     "name": "stdout",
     "output_type": "stream",
     "text": [
      "0 b'\\x00'\n",
      "1 b'\\x01'\n",
      "2 b'\\x02'\n",
      "3 b'\\x03'\n",
      "4 b'\\x04'\n",
      "5 b'\\x05'\n",
      "6 b'\\x06'\n",
      "7 b'\\x07'\n",
      "8 b'\\x08'\n",
      "9 b'\\t'\n",
      "10 b'\\n'\n",
      "11 b'\\x0b'\n",
      "12 b'\\x0c'\n",
      "13 b'\\r'\n",
      "14 b'\\x0e'\n",
      "15 b'\\x0f'\n",
      "16 b'\\x10'\n",
      "17 b'\\x11'\n",
      "18 b'\\x12'\n",
      "19 b'\\x13'\n",
      "20 b'\\x14'\n",
      "21 b'\\x15'\n",
      "22 b'\\x16'\n",
      "23 b'\\x17'\n",
      "24 b'\\x18'\n",
      "25 b'\\x19'\n",
      "26 b'\\x1a'\n",
      "27 b'\\x1b'\n",
      "28 b'\\x1c'\n",
      "29 b'\\x1d'\n",
      "30 b'\\x1e'\n",
      "31 b'\\x1f'\n",
      "32 b' '\n",
      "33 b'!'\n",
      "34 b'\"'\n",
      "35 b'#'\n",
      "36 b'$'\n",
      "37 b'%'\n",
      "38 b'&'\n",
      "39 b\"'\"\n",
      "40 b'('\n",
      "41 b')'\n",
      "42 b'*'\n",
      "43 b'+'\n",
      "44 b','\n",
      "45 b'-'\n",
      "46 b'.'\n",
      "47 b'/'\n",
      "48 b'0'\n",
      "49 b'1'\n",
      "50 b'2'\n",
      "51 b'3'\n",
      "52 b'4'\n",
      "53 b'5'\n",
      "54 b'6'\n",
      "55 b'7'\n",
      "56 b'8'\n",
      "57 b'9'\n",
      "58 b':'\n",
      "59 b';'\n",
      "60 b'<'\n",
      "61 b'='\n",
      "62 b'>'\n",
      "63 b'?'\n",
      "64 b'@'\n",
      "65 b'A'\n",
      "66 b'B'\n",
      "67 b'C'\n",
      "68 b'D'\n",
      "69 b'E'\n",
      "70 b'F'\n",
      "71 b'G'\n",
      "72 b'H'\n",
      "73 b'I'\n",
      "74 b'J'\n",
      "75 b'K'\n",
      "76 b'L'\n",
      "77 b'M'\n",
      "78 b'N'\n",
      "79 b'O'\n",
      "80 b'P'\n",
      "81 b'Q'\n",
      "82 b'R'\n",
      "83 b'S'\n",
      "84 b'T'\n",
      "85 b'U'\n",
      "86 b'V'\n",
      "87 b'W'\n",
      "88 b'X'\n",
      "89 b'Y'\n",
      "90 b'Z'\n",
      "91 b'['\n",
      "92 b'\\\\'\n",
      "93 b']'\n",
      "94 b'^'\n",
      "95 b'_'\n",
      "96 b'`'\n",
      "97 b'a'\n",
      "98 b'b'\n",
      "99 b'c'\n",
      "100 b'd'\n",
      "101 b'e'\n",
      "102 b'f'\n",
      "103 b'g'\n",
      "104 b'h'\n",
      "105 b'i'\n",
      "106 b'j'\n",
      "107 b'k'\n",
      "108 b'l'\n",
      "109 b'm'\n",
      "110 b'n'\n",
      "111 b'o'\n",
      "112 b'p'\n",
      "113 b'q'\n",
      "114 b'r'\n",
      "115 b's'\n",
      "116 b't'\n",
      "117 b'u'\n",
      "118 b'v'\n",
      "119 b'w'\n",
      "120 b'x'\n",
      "121 b'y'\n",
      "122 b'z'\n",
      "123 b'{'\n",
      "124 b'|'\n",
      "125 b'}'\n",
      "126 b'~'\n",
      "127 b'\\x7f'\n",
      "128 b'\\x80'\n",
      "129 b'\\x81'\n",
      "130 b'\\x82'\n",
      "131 b'\\x83'\n",
      "132 b'\\x84'\n",
      "133 b'\\x85'\n",
      "134 b'\\x86'\n",
      "135 b'\\x87'\n",
      "136 b'\\x88'\n",
      "137 b'\\x89'\n",
      "138 b'\\x8a'\n",
      "139 b'\\x8b'\n",
      "140 b'\\x8c'\n",
      "141 b'\\x8d'\n",
      "142 b'\\x8e'\n",
      "143 b'\\x8f'\n",
      "144 b'\\x90'\n",
      "145 b'\\x91'\n",
      "146 b'\\x92'\n",
      "147 b'\\x93'\n",
      "148 b'\\x94'\n",
      "149 b'\\x95'\n",
      "150 b'\\x96'\n",
      "151 b'\\x97'\n",
      "152 b'\\x98'\n",
      "153 b'\\x99'\n",
      "154 b'\\x9a'\n",
      "155 b'\\x9b'\n",
      "156 b'\\x9c'\n",
      "157 b'\\x9d'\n",
      "158 b'\\x9e'\n",
      "159 b'\\x9f'\n",
      "160 b'\\xa0'\n",
      "161 b'\\xa1'\n",
      "162 b'\\xa2'\n",
      "163 b'\\xa3'\n",
      "164 b'\\xa4'\n",
      "165 b'\\xa5'\n",
      "166 b'\\xa6'\n",
      "167 b'\\xa7'\n",
      "168 b'\\xa8'\n",
      "169 b'\\xa9'\n",
      "170 b'\\xaa'\n",
      "171 b'\\xab'\n",
      "172 b'\\xac'\n",
      "173 b'\\xad'\n",
      "174 b'\\xae'\n",
      "175 b'\\xaf'\n",
      "176 b'\\xb0'\n",
      "177 b'\\xb1'\n",
      "178 b'\\xb2'\n",
      "179 b'\\xb3'\n",
      "180 b'\\xb4'\n",
      "181 b'\\xb5'\n",
      "182 b'\\xb6'\n",
      "183 b'\\xb7'\n",
      "184 b'\\xb8'\n",
      "185 b'\\xb9'\n",
      "186 b'\\xba'\n",
      "187 b'\\xbb'\n",
      "188 b'\\xbc'\n",
      "189 b'\\xbd'\n",
      "190 b'\\xbe'\n",
      "191 b'\\xbf'\n",
      "192 b'\\xc0'\n",
      "193 b'\\xc1'\n",
      "194 b'\\xc2'\n",
      "195 b'\\xc3'\n",
      "196 b'\\xc4'\n",
      "197 b'\\xc5'\n",
      "198 b'\\xc6'\n",
      "199 b'\\xc7'\n",
      "200 b'\\xc8'\n",
      "201 b'\\xc9'\n",
      "202 b'\\xca'\n",
      "203 b'\\xcb'\n",
      "204 b'\\xcc'\n",
      "205 b'\\xcd'\n",
      "206 b'\\xce'\n",
      "207 b'\\xcf'\n",
      "208 b'\\xd0'\n",
      "209 b'\\xd1'\n",
      "210 b'\\xd2'\n",
      "211 b'\\xd3'\n",
      "212 b'\\xd4'\n",
      "213 b'\\xd5'\n",
      "214 b'\\xd6'\n",
      "215 b'\\xd7'\n",
      "216 b'\\xd8'\n",
      "217 b'\\xd9'\n",
      "218 b'\\xda'\n",
      "219 b'\\xdb'\n",
      "220 b'\\xdc'\n",
      "221 b'\\xdd'\n",
      "222 b'\\xde'\n",
      "223 b'\\xdf'\n",
      "224 b'\\xe0'\n",
      "225 b'\\xe1'\n",
      "226 b'\\xe2'\n",
      "227 b'\\xe3'\n",
      "228 b'\\xe4'\n",
      "229 b'\\xe5'\n",
      "230 b'\\xe6'\n",
      "231 b'\\xe7'\n",
      "232 b'\\xe8'\n",
      "233 b'\\xe9'\n",
      "234 b'\\xea'\n",
      "235 b'\\xeb'\n",
      "236 b'\\xec'\n",
      "237 b'\\xed'\n",
      "238 b'\\xee'\n",
      "239 b'\\xef'\n",
      "240 b'\\xf0'\n",
      "241 b'\\xf1'\n",
      "242 b'\\xf2'\n",
      "243 b'\\xf3'\n",
      "244 b'\\xf4'\n",
      "245 b'\\xf5'\n",
      "246 b'\\xf6'\n",
      "247 b'\\xf7'\n",
      "248 b'\\xf8'\n",
      "249 b'\\xf9'\n",
      "250 b'\\xfa'\n",
      "251 b'\\xfb'\n",
      "252 b'\\xfc'\n",
      "253 b'\\xfd'\n",
      "254 b'\\xfe'\n",
      "255 b'\\xff'\n"
     ]
    }
   ],
   "execution_count": 218
  },
  {
   "metadata": {
    "ExecuteTime": {
     "end_time": "2025-08-11T19:07:50.860855Z",
     "start_time": "2025-08-11T19:07:50.855332Z"
    }
   },
   "cell_type": "code",
   "source": [
    "from collections import Counter\n",
    "t = Counter()\n",
    "tt = [((116, 264), 2963), ((290, 100), 2963)]\n",
    "t_translated = []\n",
    "for el in tt:\n",
    "    temp = []\n",
    "    for ch in el[0]:\n",
    "        temp.append(t_vocab[ch])\n",
    "    t_translated.append(temp)\n",
    "    t[el[0]] += el[1]\n",
    "t_translated"
   ],
   "id": "d9f95102c5e0d9a5",
   "outputs": [
    {
     "data": {
      "text/plain": [
       "[[b't', b'ed'], [b'ar', b'd']]"
      ]
     },
     "execution_count": 245,
     "metadata": {},
     "output_type": "execute_result"
    }
   ],
   "execution_count": 245
  },
  {
   "metadata": {
    "ExecuteTime": {
     "end_time": "2025-08-11T19:07:51.400313Z",
     "start_time": "2025-08-11T19:07:51.396630Z"
    }
   },
   "cell_type": "code",
   "source": "max(t_translated)",
   "id": "19193082b05a95de",
   "outputs": [
    {
     "data": {
      "text/plain": [
       "[b't', b'ed']"
      ]
     },
     "execution_count": 246,
     "metadata": {},
     "output_type": "execute_result"
    }
   ],
   "execution_count": 246
  },
  {
   "metadata": {
    "ExecuteTime": {
     "end_time": "2025-08-11T19:07:53.950013Z",
     "start_time": "2025-08-11T19:07:53.946926Z"
    }
   },
   "cell_type": "code",
   "source": "t",
   "id": "beca6560931de712",
   "outputs": [
    {
     "data": {
      "text/plain": [
       "Counter({(116, 264): 2963, (290, 100): 2963})"
      ]
     },
     "execution_count": 247,
     "metadata": {},
     "output_type": "execute_result"
    }
   ],
   "execution_count": 247
  },
  {
   "metadata": {
    "ExecuteTime": {
     "end_time": "2025-08-11T19:08:51.487187Z",
     "start_time": "2025-08-11T19:08:51.484134Z"
    }
   },
   "cell_type": "code",
   "source": [
    "t = Counter()\n",
    "    # [((\"A\", \"B\"),5), ((\"A\", \"C\"), 5), ((\"B\", \"ZZ\"), 5), ((\"BA\", \"A\"), 5)]\n",
    "t[('A', 'B')] = 5\n",
    "t[('A', 'C')] = 5\n",
    "t[('B', 'ZZ')] = 5\n",
    "t[('BA', 'A')] = 5\n",
    "t"
   ],
   "id": "d9626e686634ff8a",
   "outputs": [
    {
     "data": {
      "text/plain": [
       "Counter({('A', 'B'): 5, ('A', 'C'): 5, ('B', 'ZZ'): 5, ('BA', 'A'): 5})"
      ]
     },
     "execution_count": 248,
     "metadata": {},
     "output_type": "execute_result"
    }
   ],
   "execution_count": 248
  },
  {
   "metadata": {
    "ExecuteTime": {
     "end_time": "2025-08-11T19:10:29.949477Z",
     "start_time": "2025-08-11T19:10:29.947493Z"
    }
   },
   "cell_type": "code",
   "source": [
    "best_pair = max(t,\n",
    "            key=lambda p: (t[p], p[0], p[1])\n",
    "        )\n",
    "best_pair"
   ],
   "id": "7a7d0770b53369c7",
   "outputs": [
    {
     "data": {
      "text/plain": [
       "('BA', 'A')"
      ]
     },
     "execution_count": 251,
     "metadata": {},
     "output_type": "execute_result"
    }
   ],
   "execution_count": 251
  },
  {
   "metadata": {
    "ExecuteTime": {
     "end_time": "2025-08-11T19:10:46.273522Z",
     "start_time": "2025-08-11T19:10:46.271653Z"
    }
   },
   "cell_type": "code",
   "source": "ord('A')",
   "id": "ea8ac8a4fa5c9e1",
   "outputs": [
    {
     "data": {
      "text/plain": [
       "65"
      ]
     },
     "execution_count": 252,
     "metadata": {},
     "output_type": "execute_result"
    }
   ],
   "execution_count": 252
  },
  {
   "metadata": {
    "ExecuteTime": {
     "end_time": "2025-08-11T19:10:49.273214Z",
     "start_time": "2025-08-11T19:10:49.271430Z"
    }
   },
   "cell_type": "code",
   "source": "ord('B')",
   "id": "98dd8b4b9349dfc",
   "outputs": [
    {
     "data": {
      "text/plain": [
       "66"
      ]
     },
     "execution_count": 253,
     "metadata": {},
     "output_type": "execute_result"
    }
   ],
   "execution_count": 253
  },
  {
   "metadata": {
    "ExecuteTime": {
     "end_time": "2025-08-11T18:47:44.610472Z",
     "start_time": "2025-08-11T18:47:44.608337Z"
    }
   },
   "cell_type": "code",
   "source": "'n' > ' '",
   "id": "7a8e45b76c5ba598",
   "outputs": [
    {
     "data": {
      "text/plain": [
       "True"
      ]
     },
     "execution_count": 231,
     "metadata": {},
     "output_type": "execute_result"
    }
   ],
   "execution_count": 231
  },
  {
   "metadata": {
    "ExecuteTime": {
     "end_time": "2025-08-08T23:13:25.691031Z",
     "start_time": "2025-08-08T23:13:25.688769Z"
    }
   },
   "cell_type": "code",
   "source": "t",
   "id": "921b554364ed619",
   "outputs": [
    {
     "data": {
      "text/plain": [
       "Counter({(110, 103): 555, (596, 108): 555, (392, 751): 555})"
      ]
     },
     "execution_count": 223,
     "metadata": {},
     "output_type": "execute_result"
    }
   ],
   "execution_count": 223
  },
  {
   "metadata": {
    "ExecuteTime": {
     "end_time": "2025-08-08T23:15:10.411793Z",
     "start_time": "2025-08-08T23:15:10.409671Z"
    }
   },
   "cell_type": "code",
   "source": [
    "best_pair = max(t,\n",
    "            key=lambda p: (t[p], t_vocab[p[0]], t_vocab[p[1]])\n",
    "        )\n",
    "best_pair"
   ],
   "id": "6beef9347d76aae0",
   "outputs": [
    {
     "data": {
      "text/plain": [
       "(110, 103)"
      ]
     },
     "execution_count": 225,
     "metadata": {},
     "output_type": "execute_result"
    }
   ],
   "execution_count": 225
  },
  {
   "metadata": {},
   "cell_type": "code",
   "outputs": [],
   "execution_count": null,
   "source": "",
   "id": "67fb6d78c7d64a1e"
  },
  {
   "metadata": {
    "ExecuteTime": {
     "end_time": "2025-08-08T23:14:48.166440Z",
     "start_time": "2025-08-08T23:14:48.153884Z"
    }
   },
   "cell_type": "code",
   "source": "t_vocab = {0: b'\\x00', 1: b'\\x01', 2: b'\\x02', 3: b'\\x03', 4: b'\\x04', 5: b'\\x05', 6: b'\\x06', 7: b'\\x07', 8: b'\\x08', 9: b'\\t', 10: b'\\n', 11: b'\\x0b', 12: b'\\x0c', 13: b'\\r', 14: b'\\x0e', 15: b'\\x0f', 16: b'\\x10', 17: b'\\x11', 18: b'\\x12', 19: b'\\x13', 20: b'\\x14', 21: b'\\x15', 22: b'\\x16', 23: b'\\x17', 24: b'\\x18', 25: b'\\x19', 26: b'\\x1a', 27: b'\\x1b', 28: b'\\x1c', 29: b'\\x1d', 30: b'\\x1e', 31: b'\\x1f', 32: b' ', 33: b'!', 34: b'\"', 35: b'#', 36: b'$', 37: b'%', 38: b'&', 39: b\"'\", 40: b'(', 41: b')', 42: b'*', 43: b'+', 44: b',', 45: b'-', 46: b'.', 47: b'/', 48: b'0', 49: b'1', 50: b'2', 51: b'3', 52: b'4', 53: b'5', 54: b'6', 55: b'7', 56: b'8', 57: b'9', 58: b':', 59: b';', 60: b'<', 61: b'=', 62: b'>', 63: b'?', 64: b'@', 65: b'A', 66: b'B', 67: b'C', 68: b'D', 69: b'E', 70: b'F', 71: b'G', 72: b'H', 73: b'I', 74: b'J', 75: b'K', 76: b'L', 77: b'M', 78: b'N', 79: b'O', 80: b'P', 81: b'Q', 82: b'R', 83: b'S', 84: b'T', 85: b'U', 86: b'V', 87: b'W', 88: b'X', 89: b'Y', 90: b'Z', 91: b'[', 92: b'\\\\', 93: b']', 94: b'^', 95: b'_', 96: b'`', 97: b'a', 98: b'b', 99: b'c', 100: b'd', 101: b'e', 102: b'f', 103: b'g', 104: b'h', 105: b'i', 106: b'j', 107: b'k', 108: b'l', 109: b'm', 110: b'n', 111: b'o', 112: b'p', 113: b'q', 114: b'r', 115: b's', 116: b't', 117: b'u', 118: b'v', 119: b'w', 120: b'x', 121: b'y', 122: b'z', 123: b'{', 124: b'|', 125: b'}', 126: b'~', 127: b'\\x7f', 128: b'\\x80', 129: b'\\x81', 130: b'\\x82', 131: b'\\x83', 132: b'\\x84', 133: b'\\x85', 134: b'\\x86', 135: b'\\x87', 136: b'\\x88', 137: b'\\x89', 138: b'\\x8a', 139: b'\\x8b', 140: b'\\x8c', 141: b'\\x8d', 142: b'\\x8e', 143: b'\\x8f', 144: b'\\x90', 145: b'\\x91', 146: b'\\x92', 147: b'\\x93', 148: b'\\x94', 149: b'\\x95', 150: b'\\x96', 151: b'\\x97', 152: b'\\x98', 153: b'\\x99', 154: b'\\x9a', 155: b'\\x9b', 156: b'\\x9c', 157: b'\\x9d', 158: b'\\x9e', 159: b'\\x9f', 160: b'\\xa0', 161: b'\\xa1', 162: b'\\xa2', 163: b'\\xa3', 164: b'\\xa4', 165: b'\\xa5', 166: b'\\xa6', 167: b'\\xa7', 168: b'\\xa8', 169: b'\\xa9', 170: b'\\xaa', 171: b'\\xab', 172: b'\\xac', 173: b'\\xad', 174: b'\\xae', 175: b'\\xaf', 176: b'\\xb0', 177: b'\\xb1', 178: b'\\xb2', 179: b'\\xb3', 180: b'\\xb4', 181: b'\\xb5', 182: b'\\xb6', 183: b'\\xb7', 184: b'\\xb8', 185: b'\\xb9', 186: b'\\xba', 187: b'\\xbb', 188: b'\\xbc', 189: b'\\xbd', 190: b'\\xbe', 191: b'\\xbf', 192: b'\\xc0', 193: b'\\xc1', 194: b'\\xc2', 195: b'\\xc3', 196: b'\\xc4', 197: b'\\xc5', 198: b'\\xc6', 199: b'\\xc7', 200: b'\\xc8', 201: b'\\xc9', 202: b'\\xca', 203: b'\\xcb', 204: b'\\xcc', 205: b'\\xcd', 206: b'\\xce', 207: b'\\xcf', 208: b'\\xd0', 209: b'\\xd1', 210: b'\\xd2', 211: b'\\xd3', 212: b'\\xd4', 213: b'\\xd5', 214: b'\\xd6', 215: b'\\xd7', 216: b'\\xd8', 217: b'\\xd9', 218: b'\\xda', 219: b'\\xdb', 220: b'\\xdc', 221: b'\\xdd', 222: b'\\xde', 223: b'\\xdf', 224: b'\\xe0', 225: b'\\xe1', 226: b'\\xe2', 227: b'\\xe3', 228: b'\\xe4', 229: b'\\xe5', 230: b'\\xe6', 231: b'\\xe7', 232: b'\\xe8', 233: b'\\xe9', 234: b'\\xea', 235: b'\\xeb', 236: b'\\xec', 237: b'\\xed', 238: b'\\xee', 239: b'\\xef', 240: b'\\xf0', 241: b'\\xf1', 242: b'\\xf2', 243: b'\\xf3', 244: b'\\xf4', 245: b'\\xf5', 246: b'\\xf6', 247: b'\\xf7', 248: b'\\xf8', 249: b'\\xf9', 250: b'\\xfa', 251: b'\\xfb', 252: b'\\xfc', 253: b'\\xfd', 254: b'\\xfe', 255: b'\\xff', 256: b'<|endoftext|>', 257: b'he', 258: b' t', 259: b' a', 260: b' s', 261: b' w', 262: b'nd', 263: b' the', 264: b'ed', 265: b' b', 266: b' to', 267: b' and', 268: b' h', 269: b' f', 270: b'in', 271: b' wa', 272: b' T', 273: b'it', 274: b're', 275: b'ou', 276: b' l', 277: b' d', 278: b' c', 279: b' p', 280: b'ay', 281: b' was', 282: b'er', 283: b' m', 284: b'om', 285: b' he', 286: b' The', 287: b'is', 288: b' n', 289: b'on', 290: b'ar', 291: b'im', 292: b' sa', 293: b'll', 294: b'id', 295: b' ha', 296: b' g', 297: b' S', 298: b'at', 299: b'ing', 300: b'ot', 301: b'en', 302: b'an', 303: b'le', 304: b'or', 305: b'ir', 306: b' H', 307: b'am', 308: b'et', 309: b' it', 310: b' th', 311: b'ig', 312: b' They', 313: b'il', 314: b' in', 315: b' He', 316: b' pl', 317: b' \"', 318: b'ow', 319: b'ver', 320: b'ri', 321: b' u', 322: b'ut', 323: b' day', 324: b' said', 325: b'ith', 326: b'pp', 327: b' play', 328: b' be', 329: b'On', 330: b' with', 331: b' o', 332: b' y', 333: b' her', 334: b' r', 335: b'oo', 336: b'ked', 337: b'ce', 338: b' his', 339: b' She', 340: b' I', 341: b'ld', 342: b' st', 343: b' Tim', 344: b'ke', 345: b' e', 346: b'nt', 347: b'ck', 348: b' big', 349: b'very', 350: b' you', 351: b've', 352: b'st', 353: b' happ', 354: b' on', 355: b'end', 356: b'un', 357: b'all', 358: b'ily', 359: b'riend', 360: b' friend', 361: b' L', 362: b' up', 363: b' they', 364: b' want', 365: b' we', 366: b' had', 367: b' not', 368: b'her', 369: b' li', 370: b'itt', 371: b' do', 372: b' of', 373: b' B', 374: b'ad', 375: b'es', 376: b' happy', 377: b' M', 378: b'ent', 379: b' very', 380: b' that', 381: b'One', 382: b' saw', 383: b' mom', 384: b'ould', 385: b\"'s\", 386: b'se', 387: b' for', 388: b'ittle', 389: b' little', 390: b' so', 391: b' she', 392: b' sh', 393: b'ime', 394: b' k', 395: b' time', 396: b' ne', 397: b' nam', 398: b'ch', 399: b' there', 400: b'.\"', 401: b'ound', 402: b' bo', 403: b' named', 404: b' Lily', 405: b'ird', 406: b' sm', 407: b' wanted', 408: b' bird', 409: b' Tom', 410: b'ved', 411: b' were', 412: b' but', 413: b'The', 414: b' friends', 415: b'!\"', 416: b'out', 417: b'ht', 418: b'el', 419: b'ake', 420: b'al', 421: b' an', 422: b' too', 423: b'ide', 424: b' hel', 425: b'Once', 426: b' wh', 427: b' help', 428: b'ug', 429: b'ome', 430: b' went', 431: b' all', 432: b' It', 433: b' A', 434: b' loo', 435: b' is', 436: b' upon', 437: b' lo', 438: b'ue', 439: b'ter', 440: b'ry', 441: b'ore', 442: b'ind', 443: b'get', 444: b' fun', 445: b' toy', 446: b'ill', 447: b'ack', 448: b'gether', 449: b' at', 450: b' j', 451: b' as', 452: b' did', 453: b'ame', 454: b' re', 455: b' together', 456: b'ur', 457: b' cat', 458: b'ra', 459: b' dog', 460: b' se', 461: b'ly', 462: b' tre', 463: b'ood', 464: b' gir', 465: b' can', 466: b'ic', 467: b' ball', 468: b'my', 469: b' girl', 470: b' could', 471: b'ted', 472: b'ard', 473: b' him', 474: b' their', 475: b'ec', 476: b'ark', 477: b' ro', 478: b'way', 479: b' kn', 480: b' played', 481: b'?\"', 482: b'hed', 483: b' fr', 484: b'ain', 485: b'hen', 486: b' le', 487: b' out', 488: b'um', 489: b\"'t\", 490: b'ax', 491: b' go', 492: b' them', 493: b' are', 494: b' boy', 495: b' sad', 496: b'ul', 497: b'oug', 498: b' have', 499: b' tree', 500: b' cl', 501: b' loved', 502: b'other', 503: b' back', 504: b' looked', 505: b' sp', 506: b' found', 507: b'own', 508: b'one', 509: b' Max', 510: b' me', 511: b' sc', 512: b' man', 513: b'are', 514: b' star', 515: b' Sue', 516: b'hing', 517: b'side', 518: b' park', 519: b'ong', 520: b'op', 521: b'ful', 522: b' bec', 523: b' like', 524: b' would', 525: b' liked', 526: b'elt', 527: b'round', 528: b' One', 529: b' felt', 530: b'ight', 531: b' fa', 532: b' Ben', 533: b' la', 534: b' W', 535: b'ell', 536: b' make', 537: b' But', 538: b'You', 539: b' asked', 540: b' new', 541: b'ice', 542: b'iled', 543: b'ss', 544: b'ared', 545: b'ag', 546: b' Sam', 547: b'ought', 548: b' see', 549: b'omet', 550: b' al', 551: b' started', 552: b' ag', 553: b' came', 554: b' no', 555: b' smiled', 556: b' car', 557: b' other', 558: b'ried', 559: b' somet', 560: b' good', 561: b' say', 562: b' br', 563: b' small', 564: b'ade', 565: b'pot', 566: b'ob', 567: b'ings', 568: b' wor', 569: b' away', 570: b'ab', 571: b'ouse', 572: b' find', 573: b'us', 574: b' ex', 575: b' from', 576: b' put', 577: b'ty', 578: b' thought', 579: b' what', 580: b' made', 581: b'ened', 582: b' playing', 583: b'ie', 584: b' home', 585: b'king', 586: b' wal', 587: b'ach', 588: b' something', 589: b'ia', 590: b'ile', 591: b' every', 592: b' ran', 593: b' Spot', 594: b' again', 595: b' F', 596: b' co', 597: b'ave', 598: b'uc', 599: b'arn', 600: b' box', 601: b' down', 602: b'dd', 603: b' toys', 604: b'ook', 605: b' J', 606: b' pr', 607: b' took', 608: b' sw', 609: b' some', 610: b'if', 611: b' laug', 612: b'oud', 613: b'ust', 614: b'ew', 615: b' sun', 616: b' around', 617: b'ny', 618: b' scared', 619: b' lived', 620: b' learn', 621: b' will', 622: b' my', 623: b' fl', 624: b'ure', 625: b' your', 626: b'ick', 627: b'ret', 628: b'ep', 629: b' house', 630: b' when', 631: b' You', 632: b' things', 633: b' bl', 634: b',\"', 635: b'ank', 636: b'uck', 637: b' then', 638: b'pped', 639: b' Mia', 640: b'ist', 641: b'Th', 642: b' bot', 643: b' ab', 644: b'ish', 645: b' who', 646: b' get', 647: b' know', 648: b'ucy', 649: b' fe', 650: b'as', 651: b' tried', 652: b' got', 653: b' knew', 654: b'ited', 655: b' lot', 656: b'uch', 657: b' says', 658: b'ally', 659: b'ap', 660: b' int', 661: b' ch', 662: b'ive', 663: b' red', 664: b'Tim', 665: b'nder', 666: b'ump', 667: b'Lily', 668: b' pret', 669: b'ous', 670: b' about', 671: b' care', 672: b'fter', 673: b' dec', 674: b' So', 675: b' op', 676: b'na', 677: b'fe', 678: b' look', 679: b' D', 680: b' many', 681: b'use', 682: b' un', 683: b' more', 684: b'ise', 685: b'ways', 686: b' E', 687: b' exc', 688: b' Mom', 689: b' always', 690: b' pic', 691: b' po', 692: b'\\xe2\\x80', 693: b' best', 694: b'qu', 695: b' any', 696: b' show', 697: b' both', 698: b' Lucy', 699: b'ite', 700: b' room', 701: b' hug', 702: b'ace', 703: b'ers', 704: b'ause', 705: b' into', 706: b' water', 707: b' became', 708: b' outside', 709: b' learned', 710: b' laughed', 711: b'udd', 712: b' dad', 713: b'ided', 714: b'ant', 715: b' because', 716: b' one', 717: b' gre', 718: b' pe', 719: b' decided', 720: b' And', 721: b'pr', 722: b' excited', 723: b' v', 724: b'Yes', 725: b' nice', 726: b' ho', 727: b'nna', 728: b' ke', 729: b' eat', 730: b' sor', 731: b' this', 732: b'ara', 733: b' jump', 734: b' long', 735: b' feel', 736: b'They', 737: b' Bob', 738: b'Tom', 739: b' mo', 740: b' told', 741: b' run', 742: b'ull', 743: b'ink', 744: b' sur', 745: b' rock', 746: b' inside', 747: b' pretty', 748: b' sl', 749: b' sk', 750: b'lew', 751: b'iny', 752: b' take', 753: b' am', 754: b' gave', 755: b' surpr', 756: b' fast', 757: b' each', 758: b' tow', 759: b'our', 760: b'ess', 761: b'ro', 762: b'ven', 763: b'ged', 764: b' sorry', 765: b' need', 766: b' or', 767: b' much', 768: b' than', 769: b'urt', 770: b' how', 771: b'ised', 772: b' str', 773: b'able', 774: b' under', 775: b'Wh', 776: b'og', 777: b'ge', 778: b' kind', 779: b'and', 780: b' gra', 781: b' Amy', 782: b'imal', 783: b'ving', 784: b' animal', 785: b'ft', 786: b' ta', 787: b'But', 788: b' food', 789: b'etter', 790: b'Can', 791: b' walked', 792: b' We', 793: b' tr', 794: b' wat', 795: b' hand', 796: b' old', 797: b' His', 798: b' list', 799: b' hig', 800: b'ff', 801: b' just', 802: b' clo', 803: b' flow', 804: b' en', 805: b'rom', 806: b' cle', 807: b'ched', 808: b' didn', 809: b'urn', 810: b' ide', 811: b'eci', 812: b'Mom', 813: b'ase', 814: b' try', 815: b' idea', 816: b' dan', 817: b'ion', 818: b'here', 819: b' sky', 820: b' its', 821: b'ecial', 822: b' special', 823: b' near', 824: b' flew', 825: b' us', 826: b' Anna', 827: b' tw', 828: b' happened', 829: b'pl', 830: b'gry', 831: b' fo', 832: b'ine', 833: b' fi', 834: b' Th', 835: b'Thank', 836: b' if', 837: b' cake', 838: b'ber', 839: b' fish', 840: b' animals', 841: b' stor', 842: b' over', 843: b' bug', 844: b'lf', 845: b' heard', 846: b'ate', 847: b' careful', 848: b'ex', 849: b' com', 850: b'udden', 851: b'rm', 852: b' better', 853: b' lots', 854: b' by', 855: b' let', 856: b' sn', 857: b' hard', 858: b' wind', 859: b' never', 860: b' hurt', 861: b' bear', 862: b' share', 863: b'ople', 864: b' Every', 865: b' dre', 866: b'uddenly', 867: b'more', 868: b' anymore', 869: b' even', 870: b' te', 871: b'ort', 872: b' tal', 873: b'pec', 874: b' fly', 875: b' Sara', 876: b' safe', 877: b' love', 878: b'ady', 879: b' bu', 880: b' end', 881: b' don', 882: b' K', 883: b' fore', 884: b'\\n\\n', 885: b' give', 886: b' people', 887: b' after', 888: b' clean', 889: b'uff', 890: b' proud', 891: b' opened', 892: b'bed', 893: b\"'m\", 894: b' high', 895: b' gr', 896: b' fam', 897: b' bad', 898: b' door', 899: b' surprised', 900: b' Then', 901: b'itty', 902: b'ak', 903: b' turn', 904: b'As', 905: b' gl', 906: b'age', 907: b' From', 908: b'ummy', 909: b'ough', 910: b' ground', 911: b' clim', 912: b' Her', 913: b' thanked', 914: b' im', 915: b' When', 916: b'iz', 917: b' blue', 918: b' call', 919: b' book', 920: b'kay', 921: b'arden', 922: b' garden', 923: b'ild', 924: b' far', 925: b' ma', 926: b' ever', 927: b' way', 928: b'pected', 929: b' hugged', 930: b' che', 931: b'ng', 932: b' shiny', 933: b' col', 934: b' picked', 935: b'Let', 936: b' smile', 937: b' mag', 938: b' loud', 939: b' cu', 940: b' off', 941: b' should', 942: b' come', 943: b' In', 944: b'expected', 945: b' unexpected', 946: b'xt', 947: b' next', 948: b' stick', 949: b' place', 950: b' walk', 951: b' N', 952: b'ture', 953: b' family', 954: b'hes', 955: b'em', 956: b' qu', 957: b' color', 958: b'by', 959: b' P', 960: b' still', 961: b'ip', 962: b' unt', 963: b' strong', 964: b' great', 965: b' boat', 966: b' app', 967: b'les', 968: b' hat', 969: b'oy', 970: b' happily', 971: b' bro', 972: b'ool', 973: b' until', 974: b' jumped', 975: b' town', 976: b' ca', 977: b' frog', 978: b'dy', 979: b' kid', 980: b' helped', 981: b' Sally', 982: b' forest', 983: b'ies', 984: b' sto', 985: b'orn', 986: b'ct', 987: b' doll', 988: b'aut', 989: b' squ', 990: b'ary', 991: b' Kitty', 992: b' beaut', 993: b' listen', 994: b' showed', 995: b' met', 996: b' now', 997: b'No', 998: b'uffy', 999: b' par'}\n",
   "id": "9f7741b1511454a7",
   "outputs": [],
   "execution_count": 224
  },
  {
   "metadata": {},
   "cell_type": "code",
   "outputs": [],
   "execution_count": null,
   "source": "",
   "id": "7ebbd52c0dbbee39"
  }
 ],
 "metadata": {
  "kernelspec": {
   "display_name": "Python 3",
   "language": "python",
   "name": "python3"
  },
  "language_info": {
   "codemirror_mode": {
    "name": "ipython",
    "version": 2
   },
   "file_extension": ".py",
   "mimetype": "text/x-python",
   "name": "python",
   "nbconvert_exporter": "python",
   "pygments_lexer": "ipython2",
   "version": "2.7.6"
  }
 },
 "nbformat": 4,
 "nbformat_minor": 5
}
